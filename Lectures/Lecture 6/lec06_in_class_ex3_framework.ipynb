{
  "nbformat": 4,
  "nbformat_minor": 0,
  "metadata": {
    "colab": {
      "provenance": []
    },
    "kernelspec": {
      "name": "python3",
      "display_name": "Python 3"
    },
    "language_info": {
      "name": "python"
    }
  },
  "cells": [
    {
      "cell_type": "code",
      "execution_count": null,
      "metadata": {
        "id": "nsP6CD1CAK32"
      },
      "outputs": [],
      "source": [
        "# COPY class ag from the previous exercise"
      ]
    },
    {
      "cell_type": "code",
      "source": [
        "import numpy as np\n",
        "\n",
        "class Model:\n",
        "    def __init__(self, n_hidden,rng_seed = 42):\n",
        "        np.random.seed(rng_seed)\n",
        "\n",
        "        w1np = np.random.randn(n_hidden)\n",
        "        b1np = np.random.randn(n_hidden)\n",
        "        w2np = np.random.randn(n_hidden)\n",
        "        b2np = np.random.randn(1)\n",
        "\n",
        "        self.w1 = [ag.Scalar(val) for val in w1np]\n",
        "        self.b1 = [ag.Scalar(val) for val in b1np]\n",
        "        self.w2 = [ag.Scalar(val) for val in w2np]\n",
        "        self.b2 = [ag.Scalar(val) for val in b2np]\n",
        "\n",
        "        self.n_hidden = n_hidden\n",
        "\n",
        "        self.parameters = self.w1 + self.b1 + self.w2 + self.b2\n",
        "\n",
        "    def forward(self, x):\n",
        "        # \"upgrade\" x into ag.Scalars\n",
        "        x_scalar = [ag.Scalar(val) for val in x]\n",
        "        n_samples = len(x_scalar)\n",
        "\n",
        "        # calculate the forward\n",
        "\n",
        "        ## YOUR CODE HERE\n",
        "        return [ag.Scalar(0.0) for i in range(n_samples)]\n",
        "\n",
        "\n",
        "\n",
        "\n",
        "\n",
        "\n",
        "\n",
        "class Loss:\n",
        "    def mse(self, predictions, targets):\n",
        "        # mean squared error\n",
        "        assert len(predictions) == len(targets)\n",
        "        n_samples = len(predictions)\n",
        "        loss = ag.Scalar(0.0)\n",
        "\n",
        "        ## YOUR CODE HERE\n",
        "        # return loss\n",
        "\n",
        "        return loss\n",
        "\n",
        "class Optimizer:\n",
        "    def __init__(self, parameters, lr=0.01):\n",
        "        self.parameters = parameters\n",
        "        self.lr = lr\n",
        "\n",
        "    def zero_grad(self):\n",
        "        # YOUR CODE HERE\n",
        "        pass\n",
        "\n",
        "    def step(self):\n",
        "        # YOUR CODE HERE\n",
        "        pass\n",
        "\n",
        "\n"
      ],
      "metadata": {
        "id": "zgqUCCz7s4BS"
      },
      "execution_count": null,
      "outputs": []
    },
    {
      "cell_type": "code",
      "source": [
        "def to_numpy(ag_Scalar_list):\n",
        "    return np.array([scalar.value for scalar in ag_Scalar_list])\n"
      ],
      "metadata": {
        "id": "Zlvmvho5y1HY"
      },
      "execution_count": null,
      "outputs": []
    },
    {
      "cell_type": "markdown",
      "source": [
        "# Generate some synthetic data"
      ],
      "metadata": {
        "id": "xPyH179h6sBq"
      }
    },
    {
      "cell_type": "code",
      "source": [
        "import numpy as np\n",
        "import matplotlib.pyplot as plt\n",
        "\n",
        "N = 50\n",
        "N_test = 2*N\n",
        "\n",
        "np.random.seed(42)\n",
        "xnp = 2.0*(np.random.rand(N)-0.5) # note that i'm using rand instead of randn\n",
        "\n",
        "eps = (1/5)*np.random.randn(N)\n",
        "ynp = np.cos((3/2)*np.pi*xnp) + eps\n",
        "\n",
        "plt.scatter(xnp, ynp)"
      ],
      "metadata": {
        "id": "ZNYB6ECqs11w"
      },
      "execution_count": null,
      "outputs": []
    },
    {
      "cell_type": "markdown",
      "source": [
        "# Visualize the model at the beginning"
      ],
      "metadata": {
        "id": "buuI26RA6t-D"
      }
    },
    {
      "cell_type": "code",
      "source": [
        "n_hidden = 20\n",
        "model = Model(n_hidden=n_hidden)\n",
        "\n",
        "plt.scatter(xnp,ynp, label='train')\n",
        "plt.ylim([-1.5,2.0])\n",
        "\n",
        "x_grid = np.linspace(-1,1,100)\n",
        "\n",
        "y_grid = model.forward(x_grid)\n",
        "\n",
        "plt.plot(x_grid,to_numpy(y_grid))\n",
        "plt.legend()"
      ],
      "metadata": {
        "id": "oPaxmqEm6MFv"
      },
      "execution_count": null,
      "outputs": []
    },
    {
      "cell_type": "markdown",
      "source": [
        "# Train!"
      ],
      "metadata": {
        "id": "OzsQGEas6wIK"
      }
    },
    {
      "cell_type": "code",
      "source": [
        "\n",
        "n_hidden = 20\n",
        "model = Model(n_hidden=n_hidden)\n",
        "loss_fn = Loss()\n",
        "optimizer = Optimizer(model.parameters, lr=0.1)\n",
        "\n",
        "\n",
        "for epoch in range(100):\n",
        "    optimizer.zero_grad()\n",
        "    output = model.forward(xnp)\n",
        "    loss = loss_fn.mse(output, ynp)\n",
        "    loss.backward()\n",
        "    optimizer.step()\n",
        "    if epoch % 10 == 0:\n",
        "        print(f\"Iteration {epoch}, Loss: {loss.value}\")"
      ],
      "metadata": {
        "id": "SauzfT3H6oxa"
      },
      "execution_count": null,
      "outputs": []
    },
    {
      "cell_type": "markdown",
      "source": [
        "# Visualize the model at the end of the training"
      ],
      "metadata": {
        "id": "CVRwpnxo64SS"
      }
    },
    {
      "cell_type": "code",
      "source": [
        "plt.scatter(xnp,ynp, label='train')\n",
        "plt.ylim([-1.5,2.0])\n",
        "\n",
        "x_grid = np.linspace(-1,1,100)\n",
        "\n",
        "y_grid = model.forward(x_grid)\n",
        "\n",
        "plt.plot(x_grid,to_numpy(y_grid))\n",
        "plt.legend()"
      ],
      "metadata": {
        "id": "ivXWaGF021e6"
      },
      "execution_count": null,
      "outputs": []
    },
    {
      "cell_type": "code",
      "source": [],
      "metadata": {
        "id": "JPWv4gXb654m"
      },
      "execution_count": null,
      "outputs": []
    }
  ]
}