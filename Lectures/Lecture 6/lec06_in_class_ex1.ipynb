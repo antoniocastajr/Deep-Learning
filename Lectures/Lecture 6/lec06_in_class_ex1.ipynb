{
  "nbformat": 4,
  "nbformat_minor": 0,
  "metadata": {
    "colab": {
      "provenance": []
    },
    "kernelspec": {
      "name": "python3",
      "display_name": "Python 3"
    },
    "language_info": {
      "name": "python"
    }
  },
  "cells": [
    {
      "cell_type": "code",
      "execution_count": null,
      "metadata": {
        "id": "WtQPxi9gJ_xL"
      },
      "outputs": [],
      "source": [
        "import numpy as np\n",
        "\n",
        "n_samples, n_context = 100, 32\n",
        "\n",
        "softmaxKq = np.random.rand(n_context, n_context)\n",
        "\n",
        "# (n_samples, 1, n_context) * (n_context, n_context)\n",
        "softmaxKq_diag = # YOUR CODE HERE\n",
        "# --> (n_context, n_context, n_context)\n"
      ]
    },
    {
      "cell_type": "code",
      "source": [
        "# (n_samples, 1, n_context) * (n_samples, n_context, 1)\n",
        "softmaxKq_outer = # YOUR CODE HERE\n",
        "# --> (n_samples, n_context, n_context)\n"
      ],
      "metadata": {
        "id": "JI4mbWNvKMVX"
      },
      "execution_count": null,
      "outputs": []
    },
    {
      "cell_type": "code",
      "source": [],
      "metadata": {
        "id": "v9I8LdJcKbxO"
      },
      "execution_count": null,
      "outputs": []
    }
  ]
}