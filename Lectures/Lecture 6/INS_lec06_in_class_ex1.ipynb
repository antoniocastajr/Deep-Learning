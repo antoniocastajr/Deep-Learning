{
  "nbformat": 4,
  "nbformat_minor": 0,
  "metadata": {
    "colab": {
      "provenance": []
    },
    "kernelspec": {
      "name": "python3",
      "display_name": "Python 3"
    },
    "language_info": {
      "name": "python"
    }
  },
  "cells": [
    {
      "cell_type": "code",
      "execution_count": 7,
      "metadata": {
        "id": "WtQPxi9gJ_xL",
        "colab": {
          "base_uri": "https://localhost:8080/"
        },
        "outputId": "296bc60d-c8a1-4b81-dfa8-030e329bdac3"
      },
      "outputs": [
        {
          "output_type": "execute_result",
          "data": {
            "text/plain": [
              "(100, 32, 32)"
            ]
          },
          "metadata": {},
          "execution_count": 7
        }
      ],
      "source": [
        "import numpy as np\n",
        "\n",
        "n_samples, n_context = 100, 32\n",
        "\n",
        "softmaxKq = np.random.rand(n_samples, n_context)\n",
        "\n",
        "# (n_samples, 1, n_context) * (n_context, n_context)\n",
        "softmaxKq_diag = np.expand_dims(softmaxKq,axis=1) * np.eye(n_context) # YOUR CODE HERE\n",
        "# --> (n_samples, n_context, n_context)\n",
        "softmaxKq_diag.shape"
      ]
    },
    {
      "cell_type": "code",
      "source": [
        "# (n_samples, 1, n_context) * (n_samples, n_context, 1)\n",
        "softmaxKq_outer = np.expand_dims(softmaxKq,axis=1) * np.expand_dims(softmaxKq,axis=2) # YOUR CODE HERE\n",
        "# --> (n_samples, n_context, n_context)\n",
        "softmaxKq_diag.shape"
      ],
      "metadata": {
        "id": "JI4mbWNvKMVX",
        "colab": {
          "base_uri": "https://localhost:8080/"
        },
        "outputId": "9e2d6a24-d8c4-47c7-ddcd-e06dd0dd0221"
      },
      "execution_count": 8,
      "outputs": [
        {
          "output_type": "execute_result",
          "data": {
            "text/plain": [
              "(100, 32, 32)"
            ]
          },
          "metadata": {},
          "execution_count": 8
        }
      ]
    },
    {
      "cell_type": "code",
      "source": [],
      "metadata": {
        "id": "vYlW1LFl727F"
      },
      "execution_count": null,
      "outputs": []
    }
  ]
}