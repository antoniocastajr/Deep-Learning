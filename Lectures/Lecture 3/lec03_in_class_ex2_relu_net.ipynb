{
  "nbformat": 4,
  "nbformat_minor": 0,
  "metadata": {
    "colab": {
      "provenance": []
    },
    "kernelspec": {
      "name": "python3",
      "display_name": "Python 3"
    },
    "language_info": {
      "name": "python"
    }
  },
  "cells": [
    {
      "cell_type": "code",
      "execution_count": null,
      "metadata": {
        "id": "mQ459-4vzMDT"
      },
      "outputs": [],
      "source": [
        "import numpy as np\n",
        "import matplotlib.pyplot as plt\n",
        "import plotly.graph_objects as go\n",
        "\n",
        "N = 50\n",
        "N_test = 2*N\n",
        "\n",
        "np.random.seed(42)\n",
        "x = 2.0*(np.random.rand(N)-0.5) # note that i'm using rand instead of randn\n",
        "x = x[:,np.newaxis]\n",
        "eps = (1/5)*np.random.randn(N)\n",
        "y = np.cos((3/2)*np.pi*x[:,0]) + eps\n",
        "\n",
        "np.random.seed(0)\n",
        "x_test = 2.0*(np.random.rand(N_test)-0.5)\n",
        "x_test = x_test[:,np.newaxis]\n",
        "eps_test = (1/5)*np.random.randn(N_test)\n",
        "y_test = np.cos((3/2)*np.pi*x_test[:,0]) + eps_test\n",
        "\n",
        "plt.scatter(x[:,0],y, label='train')\n",
        "plt.scatter(x_test[:,0],y_test, label = 'test')\n",
        "plt.ylim([-1.5,2.0])\n",
        "plt.legend()"
      ]
    },
    {
      "cell_type": "markdown",
      "source": [
        "# Compute a single forward pass"
      ],
      "metadata": {
        "id": "FKXwDILv4G1v"
      }
    },
    {
      "cell_type": "code",
      "source": [
        "def relu(z):\n",
        "    return np.maximum(0, z)\n",
        "\n",
        "def relu_derivative(z):\n",
        "    return 1.0*(z > 0)\n"
      ],
      "metadata": {
        "id": "Mmf4z-nh4JbF"
      },
      "execution_count": null,
      "outputs": []
    },
    {
      "cell_type": "code",
      "source": [
        "n1 = 10\n",
        "theta = {\n",
        "    \"w1\": np.random.randn(n1),\n",
        "    \"b1\": np.random.randn(n1),\n",
        "    \"w2\": np.random.randn(n1),\n",
        "    \"b2\": np.random.randn(1)\n",
        "}\n",
        "\n",
        "w1, b1, w2, b2 = theta[\"w1\"], theta[\"b1\"], theta[\"w2\"], theta[\"b2\"]\n",
        "\n",
        "\n",
        "\n",
        "h = np.dot(x, w1[np.newaxis,:]) + b1\n",
        "\n",
        "z = np.dot(relu(h), w2) + b2\n",
        "\n",
        "dJdw2 =  # YOUR CODE HERE\n",
        "dJdb2 =  # YOUR CODE HERE\n",
        "\n",
        "\n",
        "dJdw1 =  # YOUR CODE HERE\n",
        "dJdb1 =  # YOUR CODE HERE\n"
      ],
      "metadata": {
        "id": "2OF4Jeb-4ADO"
      },
      "execution_count": null,
      "outputs": []
    },
    {
      "cell_type": "code",
      "source": [
        "\n",
        "def relu(z):\n",
        "    return np.maximum(0, z)\n",
        "\n",
        "def relu_derivative(z):\n",
        "    return 1.0*(z > 0)\n",
        "\n",
        "def forward_pass(x, theta):\n",
        "    w1, b1, w2, b2 = theta[\"w1\"], theta[\"b1\"], theta[\"w2\"], theta[\"b2\"]\n",
        "    h = np.dot(x, w1[np.newaxis,:]) + b1\n",
        "\n",
        "    z = np.dot(relu(h), w2) + b2\n",
        "\n",
        "    return h,z\n",
        "\n",
        "def compute_loss(y, y_pred):\n",
        "    return np.mean((y - y_pred)**2)\n",
        "\n",
        "def compute_gradients(x, y, theta):\n",
        "    w1, b1, w2, b2 = theta[\"w1\"], theta[\"b1\"], theta[\"w2\"], theta[\"b2\"]\n",
        "    N = x.shape[0]\n",
        "\n",
        "    h, z = forward_pass(x, theta)\n",
        "\n",
        "    dJdw2 = # YOUR CODE HERE\n",
        "    dJdb2 = # YOUR CODE HERE\n",
        "\n",
        "    dJdw1 = # YOUR CODE HERE\n",
        "    dJdb1 = # YOUR CODE HERE=\n",
        "\n",
        "    gradients = {\n",
        "        \"w1\": dJdw1,\n",
        "        \"b1\": dJdb1,\n",
        "        \"w2\": dJdw2,\n",
        "        \"b2\": dJdb2\n",
        "    }\n",
        "\n",
        "    return gradients"
      ],
      "metadata": {
        "id": "N6_EH3Av9zW-"
      },
      "execution_count": null,
      "outputs": []
    },
    {
      "cell_type": "code",
      "source": [
        "\n",
        "plt.scatter(x[:,0],y, label='train')\n",
        "plt.scatter(x_test[:,0],y_test, label = 'test')\n",
        "plt.ylim([-1.5,2.0])\n",
        "plt.legend()\n",
        "\n",
        "x_grid = np.linspace(-1,1,100)[:,np.newaxis]\n",
        "\n",
        "_, y_grid = forward_pass(x_grid, theta)\n",
        "\n",
        "plt.plot(x_grid[:,0],y_grid)"
      ],
      "metadata": {
        "id": "jswozorb97wt"
      },
      "execution_count": null,
      "outputs": []
    },
    {
      "cell_type": "code",
      "source": [
        "\n",
        "theta_list = [theta]\n",
        "step_size = 0.01\n",
        "for i in range(10000):\n",
        "    theta = theta_list[-1]\n",
        "    theta_grad = compute_gradients(x,y,theta)\n",
        "    theta['w1'] -= step_size*theta_grad['w1']\n",
        "    theta['b1'] -= step_size*theta_grad['b1']\n",
        "    theta['w2'] -= step_size*theta_grad['w2']\n",
        "    theta['b2'] -= step_size*theta_grad['b2']\n",
        "    theta_list.append(theta)"
      ],
      "metadata": {
        "id": "0JN4-Mmb0v7h"
      },
      "execution_count": null,
      "outputs": []
    },
    {
      "cell_type": "code",
      "source": [
        "theta = theta_list[-1]\n",
        "plt.scatter(x[:,0],y, label='train')\n",
        "plt.scatter(x_test[:,0],y_test, label = 'test')\n",
        "plt.ylim([-1.5,2.0])\n",
        "plt.legend()\n",
        "\n",
        "x_grid = np.linspace(-1,1,100)[:,np.newaxis]\n",
        "\n",
        "_, y_grid = forward_pass(x_grid, theta)\n",
        "\n",
        "plt.plot(x_grid[:,0],y_grid)"
      ],
      "metadata": {
        "id": "6pe8CpnH-69p"
      },
      "execution_count": null,
      "outputs": []
    }
  ]
}