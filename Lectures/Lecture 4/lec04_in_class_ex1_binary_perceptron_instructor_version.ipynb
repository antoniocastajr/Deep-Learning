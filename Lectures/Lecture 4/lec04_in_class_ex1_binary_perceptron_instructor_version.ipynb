{
  "nbformat": 4,
  "nbformat_minor": 0,
  "metadata": {
    "colab": {
      "provenance": []
    },
    "kernelspec": {
      "name": "python3",
      "display_name": "Python 3"
    },
    "language_info": {
      "name": "python"
    }
  },
  "cells": [
    {
      "cell_type": "code",
      "execution_count": null,
      "metadata": {
        "id": "u26dTIf6Wyxl"
      },
      "outputs": [],
      "source": [
        "from sklearn.datasets import make_moons\n",
        "import matplotlib.pyplot as plt\n",
        "import numpy as np\n",
        "n = 200\n",
        "X, y = make_moons(n_samples=n, noise=0.1, random_state=42)\n",
        "y = 2*y-1\n",
        "X = X - np.mean(X,axis=0)"
      ]
    },
    {
      "cell_type": "code",
      "source": [
        "#                   red                  or    blue\n",
        "mycolormap = list([\"#D81B60\" if y[i] > 0 else \"#1E88E5\" for i in range(len(y)) ])\n",
        "def plot_data_scatter(i = None, ax=None):\n",
        "    if ax is None:\n",
        "        ax = plt.gca()\n",
        "    if i is None:\n",
        "        plt.scatter(X[:, 0], X[:, 1], c=mycolormap, s=50)\n",
        "    else:\n",
        "\n",
        "        plt.scatter(X[i, 0], X[i, 1], c='k', s=300)\n",
        "        plt.scatter(X[i, 0], X[i, 1], c=mycolormap[i], s=250)\n",
        "\n",
        "def plot_decision_boundary(w, ax=None):\n",
        "    if ax is None:\n",
        "        ax = plt.gca()\n",
        "\n",
        "    xlim = ax.get_xlim() # Store the scatter plot's limits and restore them\n",
        "    ylim = ax.get_ylim()\n",
        "\n",
        "    x_vals = np.linspace(xlim[0], xlim[1], 100)\n",
        "    y_vals = -(w[0] / w[1]) * x_vals  # Solve for x2 from the linear equation\n",
        "\n",
        "    ax.plot(x_vals, y_vals, 'r--')\n",
        "\n",
        "    ax.set_xlim(xlim)\n",
        "    ax.set_ylim(ylim)\n",
        "\n",
        "def plot_normal_vector(w, ax=None):\n",
        "    if ax is None:\n",
        "        ax = plt.gca()\n",
        "    v = w/np.sqrt(np.sum(w**2))\n",
        "\n",
        "    ax.quiver(0, 0, v[0], v[1], angles='xy', scale_units='xy', scale=1, color='#D81B60', linewidth=2)\n",
        "    ax.quiver(0, 0, -v[0], -v[1], angles='xy', scale_units='xy', scale=1, color='#1E88E5', linewidth=2)\n"
      ],
      "metadata": {
        "id": "30p0rGehXKuM"
      },
      "execution_count": null,
      "outputs": []
    },
    {
      "cell_type": "code",
      "source": [
        "w = np.random.randn(2)"
      ],
      "metadata": {
        "id": "vZTcmsfnYjbh"
      },
      "execution_count": null,
      "outputs": []
    },
    {
      "cell_type": "code",
      "source": [
        "plot_data_scatter()\n",
        "plot_decision_boundary(w)\n",
        "plot_normal_vector(w)\n",
        "plt.gca().set_aspect('equal')"
      ],
      "metadata": {
        "id": "TzgXeFPxX3CP"
      },
      "execution_count": null,
      "outputs": []
    },
    {
      "cell_type": "markdown",
      "source": [
        "# Single update"
      ],
      "metadata": {
        "id": "qSYnn-12av1Z"
      }
    },
    {
      "cell_type": "code",
      "source": [
        "i = 0"
      ],
      "metadata": {
        "id": "7O5RdNnlbSzS"
      },
      "execution_count": null,
      "outputs": []
    },
    {
      "cell_type": "code",
      "source": [
        "if y[i]*np.dot(w,X[i,:]) > 0:\n",
        "    pass\n",
        "else:\n",
        "    w = w + y[i]*X[i,:]\n",
        "plot_data_scatter()\n",
        "plot_data_scatter(i)\n",
        "plot_decision_boundary(w)\n",
        "plot_normal_vector(w)\n",
        "plt.gca().set_aspect('equal')\n",
        "i += 1"
      ],
      "metadata": {
        "id": "BrpeEdu1a-6k"
      },
      "execution_count": null,
      "outputs": []
    },
    {
      "cell_type": "code",
      "source": [
        "w"
      ],
      "metadata": {
        "id": "M6x9Lv95bJWw"
      },
      "execution_count": null,
      "outputs": []
    },
    {
      "cell_type": "code",
      "source": [
        "def forward(X,w):\n",
        "\n",
        "    z = np.dot(X, w)\n",
        "\n",
        "    return z\n",
        "\n",
        "def compute_risk(y, z):\n",
        "    return np.mean(np.maximum(0,-(y * z)))\n",
        "\n",
        "def compute_misclf(y,yhat):\n",
        "    return np.mean(y*yhat<0)"
      ],
      "metadata": {
        "id": "r0lMLr-ogmi8"
      },
      "execution_count": null,
      "outputs": []
    },
    {
      "cell_type": "markdown",
      "source": [
        "Try `eta = 1, reuns = 3` first, then\n",
        "Try `eta = 0.01, reuns = 10` first."
      ],
      "metadata": {
        "id": "E9rLBH5qkYpq"
      }
    },
    {
      "cell_type": "code",
      "source": [
        "np.random.seed(137)\n",
        "w = np.random.randn(2)\n",
        "w_list = [w]\n",
        "z = forward(X,w)\n",
        "training_risk_list = [compute_risk(y,z)]\n",
        "yhat = np.sign(z)\n",
        "training_msclf_list = [compute_misclf(y,yhat)]\n",
        "eta = 0.1\n",
        "reruns = 10\n",
        "\n",
        "training_msclf_best = 1\n",
        "w_best = None\n",
        "\n",
        "for i in range(reruns*n):\n",
        "    idx = i%n\n",
        "    if y[idx]*np.dot(w,X[idx,:]) <= 0:\n",
        "        w = w + eta* y[idx]*X[idx,:]\n",
        "    z = forward(X,w)\n",
        "    yhat = np.sign(z)\n",
        "\n",
        "    training_risk_list.append(compute_risk(y,z))\n",
        "    training_msclf = compute_misclf(y,yhat)\n",
        "    if training_msclf_best >= training_msclf:\n",
        "        w_best = w\n",
        "        training_msclf_best = training_msclf\n",
        "    training_msclf_list.append(training_msclf)\n",
        "    w_list.append(w)\n"
      ],
      "metadata": {
        "id": "dKlTfAU5bJvF"
      },
      "execution_count": null,
      "outputs": []
    },
    {
      "cell_type": "code",
      "source": [
        "plt.plot(training_risk_list)"
      ],
      "metadata": {
        "id": "XSWOEcvJchsT"
      },
      "execution_count": null,
      "outputs": []
    },
    {
      "cell_type": "code",
      "source": [
        "plt.plot(training_msclf_list)\n",
        "plt.axhline(training_msclf_best)"
      ],
      "metadata": {
        "id": "UWUXvpBDhUEf"
      },
      "execution_count": null,
      "outputs": []
    },
    {
      "cell_type": "code",
      "source": [
        "w = w_best\n",
        "plot_data_scatter()\n",
        "plot_decision_boundary(w)\n",
        "plot_normal_vector(w)\n",
        "plt.gca().set_aspect('equal')"
      ],
      "metadata": {
        "id": "zsy07Rabqiz0"
      },
      "execution_count": null,
      "outputs": []
    },
    {
      "cell_type": "code",
      "source": [
        "np.random.seed(137)\n",
        "w = np.random.randn(2)\n",
        "w_list = [w]\n",
        "z = forward(X,w)\n",
        "training_risk_list = [compute_risk(y,z)]\n",
        "yhat = np.sign(z)\n",
        "training_msclf_list = [compute_misclf(y,yhat)]\n",
        "eta = 0.1\n",
        "reruns = 10\n",
        "\n",
        "for i in range(reruns*n):\n",
        "    idx = i%n\n",
        "    w = w + eta * (np.dot(y*((y*np.dot(X,w))<=0), X))/n\n",
        "    z = forward(X,w)\n",
        "    yhat = np.sign(z)\n",
        "\n",
        "    training_risk_list.append(compute_risk(y,z))\n",
        "    training_msclf_list.append(compute_misclf(y,yhat))\n",
        "    w_list.append(w)\n"
      ],
      "metadata": {
        "id": "lSGMbUaGitSW"
      },
      "execution_count": null,
      "outputs": []
    },
    {
      "cell_type": "code",
      "source": [
        "plt.plot(training_risk_list)"
      ],
      "metadata": {
        "id": "0uyHJ_KHlcik"
      },
      "execution_count": null,
      "outputs": []
    },
    {
      "cell_type": "code",
      "source": [
        "plt.plot(training_msclf_list)\n",
        "plt.title(training_msclf_list[-1])"
      ],
      "metadata": {
        "id": "g4WUSC5Fldmb"
      },
      "execution_count": null,
      "outputs": []
    },
    {
      "cell_type": "code",
      "source": [
        "np.random.seed(137)\n",
        "w = np.random.randn(2)\n",
        "w_list = [w]\n",
        "z = forward(X,w)\n",
        "training_risk_list = [compute_risk(y,z)]\n",
        "yhat = np.sign(z)\n",
        "training_msclf_list = [compute_misclf(y,yhat)]\n",
        "eta = 0.1\n",
        "reruns = 20\n",
        "\n",
        "for i in range(reruns*n):\n",
        "    idx = i%n\n",
        "    w = w - eta * np.dot(-y*np.exp(-y*z)/(1+np.exp(-y*z)), X)/n\n",
        "    z = forward(X,w)\n",
        "    yhat = np.sign(z)\n",
        "\n",
        "    training_risk_list.append(compute_risk(y,z))\n",
        "    training_msclf_list.append(compute_misclf(y,yhat))\n",
        "    w_list.append(w)\n"
      ],
      "metadata": {
        "id": "u878gdf1oINL"
      },
      "execution_count": null,
      "outputs": []
    },
    {
      "cell_type": "code",
      "source": [
        "plt.plot(training_msclf_list)\n",
        "plt.title(training_msclf_list[-1])"
      ],
      "metadata": {
        "id": "nwbdlueloWeu"
      },
      "execution_count": null,
      "outputs": []
    },
    {
      "cell_type": "code",
      "source": [
        "w = w_list[-1]\n",
        "plot_data_scatter()\n",
        "plot_decision_boundary(w)\n",
        "plot_normal_vector(w)\n",
        "plt.gca().set_aspect('equal')"
      ],
      "metadata": {
        "id": "qjHmghSqpOhb"
      },
      "execution_count": null,
      "outputs": []
    },
    {
      "cell_type": "code",
      "source": [],
      "metadata": {
        "id": "3nLXA2khq3Yo"
      },
      "execution_count": null,
      "outputs": []
    }
  ]
}