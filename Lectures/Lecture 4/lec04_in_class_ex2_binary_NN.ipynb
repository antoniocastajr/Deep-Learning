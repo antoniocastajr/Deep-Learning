{
  "nbformat": 4,
  "nbformat_minor": 0,
  "metadata": {
    "colab": {
      "provenance": []
    },
    "kernelspec": {
      "name": "python3",
      "display_name": "Python 3"
    },
    "language_info": {
      "name": "python"
    }
  },
  "cells": [
    {
      "cell_type": "code",
      "execution_count": null,
      "metadata": {
        "id": "_iFvZ2L1ueNw"
      },
      "outputs": [],
      "source": [
        "from sklearn.datasets import make_moons\n",
        "import matplotlib.pyplot as plt\n",
        "import numpy as np\n",
        "n = 200\n",
        "X, y = make_moons(n_samples=n, noise=0.1, random_state=42)\n",
        "y = 2*y-1\n",
        "X = X - np.mean(X,axis=0)\n",
        "\n",
        "d = 2   # Input dimension\n",
        "m = 10  # Number of hidden units\n",
        "\n",
        "\n",
        "np.random.seed(0)  # Ensure reproducibility\n",
        "w1 = np.random.randn(2, m)\n",
        "b1 = np.random.randn(m)\n",
        "w2 = np.random.randn(m)\n",
        "b2 = np.random.randn(1)\n",
        "w1,b1,w2,b2\n",
        "\n",
        "theta = {\n",
        "    \"w1\": w1,\n",
        "    \"b1\": b1,\n",
        "    \"w2\": w2,\n",
        "    \"b2\": b2\n",
        "}\n"
      ]
    },
    {
      "cell_type": "code",
      "source": [
        "\n",
        "def forward_pass(X,theta):\n",
        "    w1, b1, w2, b2 = theta[\"w1\"], theta[\"b1\"], theta[\"w2\"], theta[\"b2\"]\n",
        "    h = np.dot(X,w1) + b1\n",
        "    z = np.dot(relu(h), w2)+b2\n",
        "    return h,z\n",
        "\n",
        "\n",
        "def compute_gradients(x, y, theta):\n",
        "    w1, b1, w2, b2 = theta[\"w1\"], theta[\"b1\"], theta[\"w2\"], theta[\"b2\"]\n",
        "    N = x.shape[0]\n",
        "\n",
        "    h, z = forward_pass(x, theta)\n",
        "    # your code here\n",
        "\n",
        "\n",
        "    gradients = {\n",
        "        \"w1\": dJdw1,\n",
        "        \"b1\": dJdb1,\n",
        "        \"w2\": dJdw2,\n",
        "        \"b2\": dJdb2\n",
        "    }\n",
        "\n",
        "    return gradients"
      ],
      "metadata": {
        "id": "g2TltZimuiCW"
      },
      "execution_count": null,
      "outputs": []
    },
    {
      "cell_type": "code",
      "source": [
        "\n",
        "def relu(z):\n",
        "    return np.maximum(0, z)\n",
        "\n",
        "def relu_derivative(z):\n",
        "    return 1.0*(z > 0)\n"
      ],
      "metadata": {
        "id": "KhoublSYxdqT"
      },
      "execution_count": null,
      "outputs": []
    },
    {
      "cell_type": "code",
      "source": [
        "compute_gradients(X,y,theta)"
      ],
      "metadata": {
        "id": "EkamO7_6xl6Z"
      },
      "execution_count": null,
      "outputs": []
    },
    {
      "cell_type": "code",
      "source": [
        "exp_term = np.exp(-y*z.flatten())\n",
        "loss_der = (-y*exp_term)/(1+exp_term)"
      ],
      "metadata": {
        "id": "ZjfvyPYly0gd"
      },
      "execution_count": null,
      "outputs": []
    },
    {
      "cell_type": "code",
      "source": [
        "np.dot((loss_der[:,np.newaxis]*X).T,(relu_derivative(h)*(w2.T)))/n"
      ],
      "metadata": {
        "id": "t1D0CYtRzszJ"
      },
      "execution_count": null,
      "outputs": []
    },
    {
      "cell_type": "code",
      "source": [
        "#                   red                  or    blue\n",
        "mycolormap = list([\"#D81B60\" if y[i] > 0 else \"#1E88E5\" for i in range(len(y)) ])\n",
        "def plot_data_scatter(i = None, ax=None):\n",
        "    if ax is None:\n",
        "        ax = plt.gca()\n",
        "    if i is None:\n",
        "        plt.scatter(X[:, 0], X[:, 1], c=mycolormap, s=50)\n",
        "    else:\n",
        "\n",
        "        plt.scatter(X[i, 0], X[i, 1], c='k', s=300)\n",
        "        plt.scatter(X[i, 0], X[i, 1], c=mycolormap[i], s=250)\n",
        "\n",
        "def plot_decision_boundary(theta, ax=None):\n",
        "    if ax is None:\n",
        "        ax = plt.gca()\n",
        "\n",
        "    x_min, x_max = X[:, 0].min() - 1, X[:, 0].max() + 1\n",
        "    y_min, y_max = X[:, 1].min() - 1, X[:, 1].max() + 1\n",
        "    xx, yy = np.meshgrid(np.linspace(x_min, x_max, 100),\n",
        "                         np.linspace(y_min, y_max, 100))\n",
        "\n",
        "    grid_points = np.c_[xx.ravel(), yy.ravel()]\n",
        "\n",
        "    _, z = forward_pass(grid_points, theta)\n",
        "    predictions = np.sign(z).reshape(xx.shape)\n",
        "\n",
        "    ax.contourf(xx, yy, predictions, cmap='coolwarm', alpha=0.3)\n",
        "\n",
        "    ax.scatter(X[:, 0], X[:, 1], c=mycolormap, edgecolor='k')\n",
        "\n",
        "    ax.set_xlim(x_min, x_max)\n",
        "    ax.set_ylim(y_min, y_max)\n",
        "\n",
        "\n",
        "\n",
        "def plot_normal_vector(w, ax=None):\n",
        "    if ax is None:\n",
        "        ax = plt.gca()\n",
        "    v = w/np.sqrt(np.sum(w**2))\n",
        "\n",
        "    ax.quiver(0, 0, v[0], v[1], angles='xy', scale_units='xy', scale=1, color='#D81B60', linewidth=2)\n",
        "    ax.quiver(0, 0, -v[0], -v[1], angles='xy', scale_units='xy', scale=1, color='#1E88E5', linewidth=2)\n"
      ],
      "metadata": {
        "id": "HxZuzFn90Y8l"
      },
      "execution_count": null,
      "outputs": []
    },
    {
      "cell_type": "code",
      "source": [
        "\n",
        "theta_list = [theta]\n",
        "step_size = 0.1\n",
        "for i in range(1000):\n",
        "    theta = theta_list[-1]\n",
        "    theta_grad = compute_gradients(X,y,theta)\n",
        "    theta['w1'] -= step_size*theta_grad['w1']\n",
        "    theta['b1'] -= step_size*theta_grad['b1']\n",
        "    theta['w2'] -= step_size*theta_grad['w2']\n",
        "    theta['b2'] -= step_size*theta_grad['b2']\n",
        "    theta_list.append(theta)"
      ],
      "metadata": {
        "id": "lQkeEFsy8dF_"
      },
      "execution_count": null,
      "outputs": []
    },
    {
      "cell_type": "code",
      "source": [
        "plot_data_scatter()\n",
        "plot_decision_boundary(theta)\n",
        "\n",
        "plt.gca().set_aspect('equal')"
      ],
      "metadata": {
        "id": "9xXHFVpK7TZB"
      },
      "execution_count": null,
      "outputs": []
    },
    {
      "cell_type": "code",
      "source": [],
      "metadata": {
        "id": "txyBAnNN8N0f"
      },
      "execution_count": null,
      "outputs": []
    }
  ]
}