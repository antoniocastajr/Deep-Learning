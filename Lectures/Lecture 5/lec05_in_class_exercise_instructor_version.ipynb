{
  "nbformat": 4,
  "nbformat_minor": 0,
  "metadata": {
    "colab": {
      "provenance": []
    },
    "kernelspec": {
      "name": "python3",
      "display_name": "Python 3"
    },
    "language_info": {
      "name": "python"
    }
  },
  "cells": [
    {
      "cell_type": "code",
      "execution_count": null,
      "metadata": {
        "id": "mvY82j8zDyY-"
      },
      "outputs": [],
      "source": [
        "import numpy as np\n",
        "from sklearn.datasets import load_iris\n",
        "\n",
        "n_classes = 3  # Number of classes\n",
        "\n",
        "X, y = load_iris(return_X_y = True)\n",
        "n = X.shape[0]\n",
        "X = X[:,:2]                 # Keep only the first two features\n",
        "X = X - np.mean(X, axis=0)  # Center the data\n"
      ]
    },
    {
      "cell_type": "code",
      "source": [
        "def init_params(input_dim, hidden_dim, output_dim):\n",
        "    np.random.seed(0)  # Ensure reproducibility\n",
        "    W1 = np.random.randn(input_dim, hidden_dim)\n",
        "    b1 = np.random.randn(hidden_dim)\n",
        "    W2 = np.random.randn(hidden_dim,output_dim)\n",
        "    b2 = np.random.randn(output_dim)\n",
        "    return W1, b1, W2, b2\n"
      ],
      "metadata": {
        "id": "ltgelJ6wD2Gh"
      },
      "execution_count": null,
      "outputs": []
    },
    {
      "cell_type": "code",
      "source": [
        "input_dim = 2       # Number of input dimension/features\n",
        "hidden_dim = 10     # Number of hidden neurons\n",
        "output_dim = 3      # Number of classes\n",
        "\n",
        "W1, b1, W2, b2 = init_params(input_dim, hidden_dim, output_dim)\n",
        "\n",
        "theta = {\n",
        "    \"W1\": W1,\n",
        "    \"b1\": b1,\n",
        "    \"W2\": W2,\n",
        "    \"b2\": b2\n",
        "}\n"
      ],
      "metadata": {
        "id": "uVKWgppdD3g5"
      },
      "execution_count": null,
      "outputs": []
    },
    {
      "cell_type": "code",
      "source": [
        "def relu(z):\n",
        "    return np.maximum(0, z)\n",
        "\n",
        "def forward(X,theta):\n",
        "    W1, b1, W2, b2 = theta[\"W1\"], theta[\"b1\"], theta[\"W2\"], theta[\"b2\"]\n",
        "    h = relu(np.dot(X, W1) + b1)\n",
        "    z = np.dot(h, W2) + b2\n",
        "    return h,z\n"
      ],
      "metadata": {
        "id": "emFAh7NsD65a"
      },
      "execution_count": null,
      "outputs": []
    },
    {
      "cell_type": "code",
      "source": [
        "def relu(z):\n",
        "    return np.maximum(0, z)\n",
        "\n",
        "def forward_nonvectorized(X, theta):\n",
        "    W1, b1, W2, b2 = theta[\"W1\"], theta[\"b1\"], theta[\"W2\"], theta[\"b2\"]\n",
        "    h = np.zeros((X.shape[0], W1.shape[1]))  # Initialize h\n",
        "    z = np.zeros((X.shape[0], W2.shape[1]))  # Initialize z\n",
        "\n",
        "    for i in range(X.shape[0]):\n",
        "        h[i, :] = relu(np.dot(X[i, :], W1) + b1)\n",
        "        z[i, :] = np.dot(h[i, :], W2) + b2\n",
        "    return h, z\n"
      ],
      "metadata": {
        "id": "OMYLUr_XD7IL"
      },
      "execution_count": null,
      "outputs": []
    },
    {
      "cell_type": "markdown",
      "source": [
        "# Timing"
      ],
      "metadata": {
        "id": "yhrdiFUcHT3D"
      }
    },
    {
      "cell_type": "code",
      "source": [
        "import time\n",
        "\n",
        "\n",
        "X_big = np.vstack([X for i in range(100)])\n",
        "# Vectorized forward function\n",
        "start_time = time.time()\n",
        "h_vec, z_vec = forward(X_big, theta)\n",
        "end_time = time.time()\n",
        "print(f\"Vectorized time: {end_time - start_time:.5f} seconds\")\n",
        "\n",
        "# Non-vectorized forward function\n",
        "start_time = time.time()\n",
        "h_nonvec, z_nonvec = forward_nonvectorized(X_big, theta)\n",
        "end_time = time.time()\n",
        "print(f\"Non-vectorized time: {end_time - start_time:.5f} seconds\")\n"
      ],
      "metadata": {
        "colab": {
          "base_uri": "https://localhost:8080/"
        },
        "id": "np4y58UvEGWH",
        "outputId": "0d3d48a6-c57d-4172-bea6-b3063758f2fb"
      },
      "execution_count": null,
      "outputs": [
        {
          "output_type": "stream",
          "name": "stdout",
          "text": [
            "Vectorized time: 0.02416 seconds\n",
            "Non-vectorized time: 0.49547 seconds\n"
          ]
        }
      ]
    },
    {
      "cell_type": "markdown",
      "source": [
        "# softmax computation"
      ],
      "metadata": {
        "id": "IrvbFmt00BHX"
      }
    },
    {
      "cell_type": "code",
      "source": [
        "p = np.zeros((n,n_classes))\n",
        "h,z = forward(X,theta)\n",
        "for i in range(n):\n",
        "    p[i,:] = np.exp(z[i,:])/np.sum(np.exp(z[i,:]))\n",
        "\n",
        "p[:5,:] # sanity check\n",
        "# should be\n",
        "# array([[0.0025722 , 0.97505337, 0.02237443],\n",
        "#        [0.09804607, 0.77617999, 0.12577394],\n",
        "#        [0.12661246, 0.65719734, 0.21619019],\n",
        "#        [0.27429138, 0.4847382 , 0.24097042],\n",
        "#        [0.00291315, 0.96559662, 0.03149023]])\n"
      ],
      "metadata": {
        "colab": {
          "base_uri": "https://localhost:8080/"
        },
        "id": "9l821lg4EVTP",
        "outputId": "aac991a4-2e92-4d83-d3d6-1d96bbe3d2eb"
      },
      "execution_count": null,
      "outputs": [
        {
          "output_type": "execute_result",
          "data": {
            "text/plain": [
              "array([[0.0025722 , 0.97505337, 0.02237443],\n",
              "       [0.09804607, 0.77617999, 0.12577394],\n",
              "       [0.12661246, 0.65719734, 0.21619019],\n",
              "       [0.27429138, 0.4847382 , 0.24097042],\n",
              "       [0.00291315, 0.96559662, 0.03149023]])"
            ]
          },
          "metadata": {},
          "execution_count": 7
        }
      ]
    },
    {
      "cell_type": "markdown",
      "source": [
        "# softmax computation (vectorized)"
      ],
      "metadata": {
        "id": "TEp3BIm_0Eer"
      }
    },
    {
      "cell_type": "code",
      "source": [
        "# your code here\n",
        "h,z = forward(X,theta)\n",
        "expz = np.exp(z)\n",
        "\n",
        "p = expz/ np.sum(expz,axis=-1)[:,np.newaxis] # your code here\n",
        "\n",
        "p[:5,:] # sanity check"
      ],
      "metadata": {
        "colab": {
          "base_uri": "https://localhost:8080/"
        },
        "id": "ByJAXePSzvMT",
        "outputId": "1680b997-2d57-4b42-af08-050bff42c801"
      },
      "execution_count": null,
      "outputs": [
        {
          "output_type": "execute_result",
          "data": {
            "text/plain": [
              "array([[0.0025722 , 0.97505337, 0.02237443],\n",
              "       [0.09804607, 0.77617999, 0.12577394],\n",
              "       [0.12661246, 0.65719734, 0.21619019],\n",
              "       [0.27429138, 0.4847382 , 0.24097042],\n",
              "       [0.00291315, 0.96559662, 0.03149023]])"
            ]
          },
          "metadata": {},
          "execution_count": 8
        }
      ]
    },
    {
      "cell_type": "markdown",
      "source": [
        "# Loss derivative calculation"
      ],
      "metadata": {
        "id": "C8MSqwFF0uBi"
      }
    },
    {
      "cell_type": "code",
      "source": [
        "loss_der = np.zeros((n,n_classes))\n",
        "E = np.eye(n_classes)\n",
        "h,z = forward(X,theta)\n",
        "for i in range(n):\n",
        "    loss_der[i,:] = p[i,:] - E[y[i], :]\n",
        "\n",
        "loss_der[:5,:] # sanity check\n",
        "# should say\n",
        "# array([[-0.9974278 ,  0.97505337,  0.02237443],\n",
        "#        [-0.90195393,  0.77617999,  0.12577394],\n",
        "#        [-0.87338754,  0.65719734,  0.21619019],\n",
        "#        [-0.72570862,  0.4847382 ,  0.24097042],\n",
        "#        [-0.99708685,  0.96559662,  0.03149023]])\n",
        "\n"
      ],
      "metadata": {
        "colab": {
          "base_uri": "https://localhost:8080/"
        },
        "id": "tLvVGGFY0vi6",
        "outputId": "2ba31263-a15a-4f7c-f6b1-b088dbb55398"
      },
      "execution_count": null,
      "outputs": [
        {
          "output_type": "execute_result",
          "data": {
            "text/plain": [
              "array([[-0.9974278 ,  0.97505337,  0.02237443],\n",
              "       [-0.90195393,  0.77617999,  0.12577394],\n",
              "       [-0.87338754,  0.65719734,  0.21619019],\n",
              "       [-0.72570862,  0.4847382 ,  0.24097042],\n",
              "       [-0.99708685,  0.96559662,  0.03149023]])"
            ]
          },
          "metadata": {},
          "execution_count": 9
        }
      ]
    },
    {
      "cell_type": "markdown",
      "source": [
        "# dJdb2 calculation (vectorized)"
      ],
      "metadata": {
        "id": "aQy8pBptFl49"
      }
    },
    {
      "cell_type": "code",
      "source": [
        "\n",
        "# y_one_hot should be a n-by-K tensor where y_one_hot[i,:] is the one-hot vector at y[i]\n",
        "# should be a 1-liner that does not exceed this many chars ->|          (minus the comment)\n",
        "# hint 1: \"==\" is a pairwise operator\n",
        "# hint 2: use np.arange\n",
        "# hint 3: broadcast!\n",
        "y_one_hot = 1*(y[:,np.newaxis] == np.arange(n_classes)) # your code here\n",
        "\n",
        "loss_der = p - y_one_hot\n",
        "\n",
        "dJdb2 = np.mean(loss_der,axis=0)\n",
        "\n",
        "\n",
        "print(dJdb2,\"\\n\")\n",
        "# should print...\n",
        "# array([-0.29643435,  0.59559785, -0.2991635 ])\n",
        "# ... if your answer is correct\n",
        "\n",
        "loss_der[:5,:] # snaity check\n"
      ],
      "metadata": {
        "colab": {
          "base_uri": "https://localhost:8080/"
        },
        "id": "8m3KKv_t02uJ",
        "outputId": "bb047354-025f-4aa5-a1d9-6670268f7062"
      },
      "execution_count": null,
      "outputs": [
        {
          "output_type": "stream",
          "name": "stdout",
          "text": [
            "[-0.29643435  0.59559785 -0.2991635 ] \n",
            "\n"
          ]
        },
        {
          "output_type": "execute_result",
          "data": {
            "text/plain": [
              "array([[-0.9974278 ,  0.97505337,  0.02237443],\n",
              "       [-0.90195393,  0.77617999,  0.12577394],\n",
              "       [-0.87338754,  0.65719734,  0.21619019],\n",
              "       [-0.72570862,  0.4847382 ,  0.24097042],\n",
              "       [-0.99708685,  0.96559662,  0.03149023]])"
            ]
          },
          "metadata": {},
          "execution_count": 10
        }
      ]
    },
    {
      "cell_type": "markdown",
      "source": [
        "# dJdW2 calculation"
      ],
      "metadata": {
        "id": "N_6ItRRf46XF"
      }
    },
    {
      "cell_type": "code",
      "source": [
        "dJdW2 = np.zeros_like(W2)\n",
        "# h,z = forward(X,theta) # already computed previously\n",
        "for i in range(n):\n",
        "    dJdW2 += np.outer(relu(h[i,:]), loss_der[i,:])\n",
        "\n",
        "dJdW2 /= n\n",
        "dJdW2[:3,:] # sanity check\n",
        "# your first three rows should be\n",
        "# array([[ 4.78180322e-11,  3.17365767e-02, -3.17365767e-02],\n",
        "#        [-2.89296255e-01,  5.62840257e-01, -2.73544002e-01],\n",
        "#        [-1.42266016e-01,  6.53427386e-01, -5.11161370e-01],"
      ],
      "metadata": {
        "colab": {
          "base_uri": "https://localhost:8080/"
        },
        "id": "yU_Tb8De1ruc",
        "outputId": "b92351bd-ab31-4ff4-9ae5-198a74eb3ec3"
      },
      "execution_count": null,
      "outputs": [
        {
          "output_type": "execute_result",
          "data": {
            "text/plain": [
              "array([[ 4.78180322e-11,  3.17365767e-02, -3.17365767e-02],\n",
              "       [-2.89296255e-01,  5.62840257e-01, -2.73544002e-01],\n",
              "       [-1.42266016e-01,  6.53427386e-01, -5.11161370e-01]])"
            ]
          },
          "metadata": {},
          "execution_count": 11
        }
      ]
    },
    {
      "cell_type": "markdown",
      "source": [
        "# dJdW2 calculation (vectorized)"
      ],
      "metadata": {
        "id": "UHVIFoFL7Re4"
      }
    },
    {
      "cell_type": "code",
      "source": [
        "\n",
        "dJdW2 = np.matmul(relu(h).T, loss_der)/n   # your code here\n",
        "dJdW2[:3,] # sanity check"
      ],
      "metadata": {
        "colab": {
          "base_uri": "https://localhost:8080/"
        },
        "id": "4ul4aM5H4X9I",
        "outputId": "15939ea2-03e3-4560-965e-6ea2d7ce52e2"
      },
      "execution_count": null,
      "outputs": [
        {
          "output_type": "execute_result",
          "data": {
            "text/plain": [
              "array([[ 4.78180322e-11,  3.17365767e-02, -3.17365767e-02],\n",
              "       [-2.89296255e-01,  5.62840257e-01, -2.73544002e-01],\n",
              "       [-1.42266016e-01,  6.53427386e-01, -5.11161370e-01]])"
            ]
          },
          "metadata": {},
          "execution_count": 12
        }
      ]
    },
    {
      "cell_type": "code",
      "source": [],
      "metadata": {
        "id": "nZVixsPb6mx7"
      },
      "execution_count": null,
      "outputs": []
    },
    {
      "cell_type": "markdown",
      "source": [
        "# dJdb1 calculation"
      ],
      "metadata": {
        "id": "3auBXZKe-ivq"
      }
    },
    {
      "cell_type": "code",
      "source": [
        "def relu_derivative(z):\n",
        "    return 1.0*(z > 0)\n",
        "\n",
        "dJdb1 = np.zeros_like(b1)\n",
        "\n",
        "# h,z = forward(X,theta)\n",
        "for i in range(n):\n",
        "    dJdb1 += (W2@(loss_der[i,:])) * relu_derivative(h[i,:])\n",
        "dJdb1 /=n\n",
        "dJdb1\n",
        "# should be\n",
        "# array([ 5.90775856e-02,  3.33066422e-01,  5.00043538e-01,  9.65803254e-02,\n",
        "        # 1.74727058e+00, -1.54422652e-03,  3.68069930e-01, -1.10518462e-02,\n",
        "        # 2.43568198e-01, -3.58945020e-01])"
      ],
      "metadata": {
        "colab": {
          "base_uri": "https://localhost:8080/"
        },
        "id": "q-_A4TBp-kpG",
        "outputId": "c43466c2-87ab-4289-d691-2cf96544f61e"
      },
      "execution_count": null,
      "outputs": [
        {
          "output_type": "execute_result",
          "data": {
            "text/plain": [
              "array([ 5.90775856e-02,  3.33066422e-01,  5.00043538e-01,  9.65803254e-02,\n",
              "        1.74727058e+00, -1.54422652e-03,  3.68069930e-01, -1.10518462e-02,\n",
              "        2.43568198e-01, -3.58945020e-01])"
            ]
          },
          "metadata": {},
          "execution_count": 13
        }
      ]
    },
    {
      "cell_type": "markdown",
      "source": [
        "# dJdb1 calculation (vectorized)"
      ],
      "metadata": {
        "id": "YThsCttzAtEQ"
      }
    },
    {
      "cell_type": "code",
      "source": [
        "dJdb1 = np.mean((loss_der@W2.T) * relu_derivative(h), axis = 0) # your code here\n",
        "dJdb1"
      ],
      "metadata": {
        "colab": {
          "base_uri": "https://localhost:8080/"
        },
        "id": "1By0832jAXLk",
        "outputId": "4e87b78f-caf3-4902-f40e-d1228e28c7b2"
      },
      "execution_count": null,
      "outputs": [
        {
          "output_type": "execute_result",
          "data": {
            "text/plain": [
              "array([ 5.90775856e-02,  3.33066422e-01,  5.00043538e-01,  9.65803254e-02,\n",
              "        1.74727058e+00, -1.54422652e-03,  3.68069930e-01, -1.10518462e-02,\n",
              "        2.43568198e-01, -3.58945020e-01])"
            ]
          },
          "metadata": {},
          "execution_count": 14
        }
      ]
    },
    {
      "cell_type": "markdown",
      "source": [
        "# dJdW1 calculation"
      ],
      "metadata": {
        "id": "SGR1hpukB8YE"
      }
    },
    {
      "cell_type": "code",
      "source": [
        "dJdW1 = np.zeros_like(W1)\n",
        "\n",
        "# h,z = forward(X,theta)\n",
        "for i in range(n):\n",
        "    dJdW1 += np.outer((W2@loss_der[i,:])  *\n",
        "                      relu_derivative(h[i,:]), X[i,:]).T\n",
        "dJdW1 /=n\n",
        "dJdW1\n",
        "# should be\n",
        "# array([[ 1.07999453e-01, -5.09697354e-01,  4.20123306e-01,\n",
        "#          9.36336787e-02, -6.47689038e-02,  2.30465388e-03,\n",
        "#          7.38056259e-02,  2.24393341e-02, -5.33412589e-03,\n",
        "#          1.45179361e-01],\n",
        "#        [ 3.36460923e-03,  2.20529616e-01, -4.57539715e-02,\n",
        "#         -8.32287862e-04,  4.33449051e-01, -6.86691098e-05,\n",
        "#          1.32692205e-01, -5.30041434e-03,  5.17620420e-02,\n",
        "#         -1.19088483e-01]])"
      ],
      "metadata": {
        "colab": {
          "base_uri": "https://localhost:8080/"
        },
        "id": "cTQcIe1tB9gu",
        "outputId": "b7f5d4e0-27cd-4aba-86fc-b9d12691685c"
      },
      "execution_count": null,
      "outputs": [
        {
          "output_type": "execute_result",
          "data": {
            "text/plain": [
              "array([[ 1.07999453e-01, -5.09697354e-01,  4.20123306e-01,\n",
              "         9.36336787e-02, -6.47689038e-02,  2.30465388e-03,\n",
              "         7.38056259e-02,  2.24393341e-02, -5.33412589e-03,\n",
              "         1.45179361e-01],\n",
              "       [ 3.36460923e-03,  2.20529616e-01, -4.57539715e-02,\n",
              "        -8.32287862e-04,  4.33449051e-01, -6.86691098e-05,\n",
              "         1.32692205e-01, -5.30041434e-03,  5.17620420e-02,\n",
              "        -1.19088483e-01]])"
            ]
          },
          "metadata": {},
          "execution_count": 15
        }
      ]
    },
    {
      "cell_type": "markdown",
      "source": [
        "# dJdW1 calculation (vectorized)"
      ],
      "metadata": {
        "id": "fv3bnytfESe5"
      }
    },
    {
      "cell_type": "code",
      "source": [
        "# hint: use the same trick for expressing sum of outer products as a matmul\n",
        "# hint: you can use 2 lines\n",
        "G = (loss_der@W2.T) * relu_derivative(h) # your code here\n",
        "dJdW1 = np.matmul(G.T, X).T/n   # your code here\n",
        "dJdW1"
      ],
      "metadata": {
        "colab": {
          "base_uri": "https://localhost:8080/"
        },
        "id": "KlMSl4QnCCcu",
        "outputId": "ac3f93f2-bc9b-4e5b-8237-852a1b0b153e"
      },
      "execution_count": null,
      "outputs": [
        {
          "output_type": "execute_result",
          "data": {
            "text/plain": [
              "array([[ 1.07999453e-01, -5.09697354e-01,  4.20123306e-01,\n",
              "         9.36336787e-02, -6.47689038e-02,  2.30465388e-03,\n",
              "         7.38056259e-02,  2.24393341e-02, -5.33412589e-03,\n",
              "         1.45179361e-01],\n",
              "       [ 3.36460923e-03,  2.20529616e-01, -4.57539715e-02,\n",
              "        -8.32287862e-04,  4.33449051e-01, -6.86691098e-05,\n",
              "         1.32692205e-01, -5.30041434e-03,  5.17620420e-02,\n",
              "        -1.19088483e-01]])"
            ]
          },
          "metadata": {},
          "execution_count": 16
        }
      ]
    },
    {
      "cell_type": "markdown",
      "source": [
        "# `compute_gradient` from last time"
      ],
      "metadata": {
        "id": "bLkpUBeYF-jc"
      }
    },
    {
      "cell_type": "code",
      "source": [
        "\n",
        "# def compute_gradients(X,y,theta):\n",
        "#     dJdW1 = np.zeros_like(W1)\n",
        "#     dJdb1 = np.zeros_like(b1)\n",
        "#     dJdW2 = np.zeros_like(W2)\n",
        "#     dJdb2 = np.zeros_like(b2)\n",
        "#     h, z = forward(X, theta)\n",
        "#     for i in range(n):\n",
        "#         p = np.exp(z[i,:])/np.sum(np.exp(z[i,:]))\n",
        "#         loss_der = p - E[y[i], :]\n",
        "#         dJdW1 += np.outer((W2@loss_der) * relu_derivative(h[i,:]), X[i,:]).T\n",
        "#         dJdb1 += (W2@(loss_der)) * relu_derivative(h[i,:])\n",
        "#         dJdW2 += np.outer(relu(h[i,:]), loss_der)\n",
        "#         dJdb2 += loss_der\n",
        "#     dJdW1 /=n\n",
        "#     dJdb1 /=n\n",
        "#     dJdW2 /=n\n",
        "#     dJdb2 /=n\n",
        "\n",
        "#     gradients = {\n",
        "#         \"W1\": dJdW1,\n",
        "#         \"b1\": dJdb1,\n",
        "#         \"W2\": dJdW2,\n",
        "#         \"b2\": dJdb2\n",
        "#     }\n",
        "\n",
        "#     return gradients"
      ],
      "metadata": {
        "id": "YuXQA4k3C3a6"
      },
      "execution_count": null,
      "outputs": []
    },
    {
      "cell_type": "markdown",
      "source": [
        "# vectorize the `compute_gradient` function from last time\n",
        "should not use any for loop in the function"
      ],
      "metadata": {
        "id": "indUZ6DqF1Mt"
      }
    },
    {
      "cell_type": "code",
      "source": [
        "\n",
        "def compute_gradients(X,y,theta):\n",
        "    W1, b1, W2, b2 = theta[\"W1\"], theta[\"b1\"], theta[\"W2\"], theta[\"b2\"]\n",
        "\n",
        "    dJdW1 = np.zeros_like(W1)\n",
        "    dJdb1 = np.zeros_like(b1)\n",
        "    dJdW2 = np.zeros_like(W2)\n",
        "    dJdb2 = np.zeros_like(b2)\n",
        "    h, z = forward(X, theta)\n",
        "    expz = np.exp(z)\n",
        "\n",
        "    p = expz/ np.sum(expz,axis=-1)[:,np.newaxis] # your code here\n",
        "\n",
        "    y_one_hot = 1*(y[:,np.newaxis] == np.arange(n_classes)) # your code here\n",
        "\n",
        "    loss_der = p - y_one_hot\n",
        "\n",
        "    dJdb2 = np.mean(loss_der,axis=0)\n",
        "\n",
        "    dJdW2 = np.matmul(relu(h).T, loss_der)/n   # your code here\n",
        "\n",
        "\n",
        "    dJdb1 = np.mean((loss_der@W2.T) * relu_derivative(h), axis = 0) # your code here\n",
        "\n",
        "    G = (loss_der@W2.T) * relu_derivative(h) # your code here\n",
        "    dJdW1 = np.matmul(G.T, X).T/n   # your code here\n",
        "\n",
        "\n",
        "    gradients = {\n",
        "        \"W1\": dJdW1,\n",
        "        \"b1\": dJdb1,\n",
        "        \"W2\": dJdW2,\n",
        "        \"b2\": dJdb2\n",
        "    }\n",
        "\n",
        "    return gradients"
      ],
      "metadata": {
        "id": "a-Ip82OGF9S7"
      },
      "execution_count": null,
      "outputs": []
    },
    {
      "cell_type": "code",
      "source": [
        "import matplotlib.pyplot as plt\n",
        "mycolorpalette = ['#1E88E5','#004D40','#D81B60']\n",
        "mycolor = lambda labels: [ mycolorpalette[label] for label in labels]\n",
        "plt.scatter(X[:,0], X[:,1], c=mycolor(y))"
      ],
      "metadata": {
        "colab": {
          "base_uri": "https://localhost:8080/",
          "height": 448
        },
        "id": "e71joLEvbS1S",
        "outputId": "815bb59b-3be0-4c2a-9977-4f68aa59e06b"
      },
      "execution_count": null,
      "outputs": [
        {
          "output_type": "execute_result",
          "data": {
            "text/plain": [
              "<matplotlib.collections.PathCollection at 0x7c79ff1f79d0>"
            ]
          },
          "metadata": {},
          "execution_count": 19
        },
        {
          "output_type": "display_data",
          "data": {
            "text/plain": [
              "<Figure size 640x480 with 1 Axes>"
            ],
            "image/png": "[encoded data removed]"
          },
          "metadata": {}
        }
      ]
    },
    {
      "cell_type": "code",
      "source": [
        "theta_list = [theta]\n",
        "\n",
        "x_min, x_max = X[:, 0].min() - 1, X[:, 0].max() + 1\n",
        "y_min, y_max = X[:, 1].min() - 1, X[:, 1].max() + 1\n",
        "xx, yy = np.meshgrid(np.linspace(x_min, x_max, 100),\n",
        "                      np.linspace(y_min, y_max, 100))\n",
        "\n",
        "# Flatten the grid arrays and stack them to form the input data points\n",
        "grid_points = np.c_[xx.ravel(), yy.ravel()]\n",
        "\n",
        "# Perform forward pass and compute predicted labels\n",
        "logits = forward( grid_points, theta_list[-1])[1]\n",
        "grid_predictions = np.argmax(logits, axis=1).reshape(xx.shape)\n",
        "\n",
        "\n",
        "\n",
        "plt.scatter(X[:,0], X[:,1], c=mycolor(y))\n",
        "\n",
        "plt.gca().contourf(xx, yy, grid_predictions, cmap='coolwarm', alpha=0.3)"
      ],
      "metadata": {
        "colab": {
          "base_uri": "https://localhost:8080/",
          "height": 448
        },
        "id": "HYKkRWXcbODR",
        "outputId": "66822ea3-1e94-4cba-8ac1-77bff8d47f79"
      },
      "execution_count": null,
      "outputs": [
        {
          "output_type": "execute_result",
          "data": {
            "text/plain": [
              "<matplotlib.contour.QuadContourSet at 0x7c79fd086020>"
            ]
          },
          "metadata": {},
          "execution_count": 20
        },
        {
          "output_type": "display_data",
          "data": {
            "text/plain": [
              "<Figure size 640x480 with 1 Axes>"
            ],
            "image/png": "[encoded data removed]"
          },
          "metadata": {}
        }
      ]
    },
    {
      "cell_type": "code",
      "source": [
        "logits = forward( grid_points, theta_list[-1])[1]\n",
        "grid_predictions = np.argmax(logits, axis=1).reshape(xx.shape)\n",
        "\n",
        "\n",
        "\n",
        "plt.scatter(X[:,0], X[:,1], c=mycolor(y))\n",
        "\n",
        "plt.gca().contourf(xx, yy, grid_predictions, cmap='coolwarm', alpha=0.3)"
      ],
      "metadata": {
        "id": "7d0rdkY6GE1V",
        "colab": {
          "base_uri": "https://localhost:8080/",
          "height": 448
        },
        "outputId": "66edf413-5c40-4d41-dff3-5d52635460e9"
      },
      "execution_count": null,
      "outputs": [
        {
          "output_type": "execute_result",
          "data": {
            "text/plain": [
              "<matplotlib.contour.QuadContourSet at 0x7c79fcee0d00>"
            ]
          },
          "metadata": {},
          "execution_count": 21
        },
        {
          "output_type": "display_data",
          "data": {
            "text/plain": [
              "<Figure size 640x480 with 1 Axes>"
            ],
            "image/png": "[encoded data removed]"
          },
          "metadata": {}
        }
      ]
    },
    {
      "cell_type": "code",
      "source": [
        "import time\n",
        "start_time = time.time()\n",
        "\n",
        "step_size = 0.01\n",
        "for i in range(1000):\n",
        "    theta = theta_list[-1]\n",
        "    theta_grad = compute_gradients(X,y,theta)\n",
        "    theta['W1'] -= step_size*theta_grad['W1']\n",
        "    theta['b1'] -= step_size*theta_grad['b1']\n",
        "    theta['W2'] -= step_size*theta_grad['W2']\n",
        "    theta['b2'] -= step_size*theta_grad['b2']\n",
        "    theta_list.append(theta)\n",
        "\n",
        "end_time = time.time()\n",
        "print(f\"Non-vectorized time: {end_time - start_time:.5f} seconds\")\n"
      ],
      "metadata": {
        "colab": {
          "base_uri": "https://localhost:8080/"
        },
        "id": "LUQg02jRb5eu",
        "outputId": "ffba6e2b-5ffa-4bbc-9d6d-8036c0353b76"
      },
      "execution_count": null,
      "outputs": [
        {
          "output_type": "stream",
          "name": "stdout",
          "text": [
            "Non-vectorized time: 0.41911 seconds\n"
          ]
        }
      ]
    },
    {
      "cell_type": "code",
      "source": [
        "theta_list[-1]"
      ],
      "metadata": {
        "colab": {
          "base_uri": "https://localhost:8080/"
        },
        "id": "wHOthv8tcGeH",
        "outputId": "29a059a0-a5a0-42f8-dc85-900804540e35"
      },
      "execution_count": null,
      "outputs": [
        {
          "output_type": "execute_result",
          "data": {
            "text/plain": [
              "{'W1': array([[ 1.57163481,  1.20691007,  0.14533909,  2.29128846,  1.69421028,\n",
              "         -0.97167661,  0.95774684, -0.15729728, -0.18029144,  0.53526142],\n",
              "        [ 0.13550107,  0.89359891,  1.24139784,  0.12701307, -0.9663592 ,\n",
              "          0.33376289,  1.23421801, -0.14861617,  0.47927602, -0.21833979]]),\n",
              " 'b1': array([-2.65666363,  0.41013083,  0.95870078, -0.65912424,  1.81860246,\n",
              "        -1.45803446, -0.32968334, -0.22614685,  1.53854905,  1.65821791]),\n",
              " 'W2': array([[ 0.15493283,  0.33555695, -0.84516559],\n",
              "        [-1.59046286, -1.02945158,  0.4475548 ],\n",
              "        [ 1.74991403,  0.46499635, -0.16956667],\n",
              "        [-0.31565445, -1.55113861, -0.90408059],\n",
              "        [-1.93129074,  1.09692845,  0.56921531],\n",
              "        [-0.43774996, -1.25294696,  0.77731761],\n",
              "        [-1.41908313, -0.62230094, -0.68072062],\n",
              "        [ 0.38291258, -0.50308455, -1.18436285],\n",
              "        [ 0.57178564,  0.07449354, -0.17961231],\n",
              "        [ 0.23244417, -0.7561208 , -0.17091474]]),\n",
              " 'b2': array([-0.43683896, -0.49850824, -0.9098127 ])}"
            ]
          },
          "metadata": {},
          "execution_count": 23
        }
      ]
    },
    {
      "cell_type": "code",
      "source": [
        "logits = forward( grid_points, theta_list[-1])[1]\n",
        "grid_predictions = np.argmax(logits, axis=1).reshape(xx.shape)\n",
        "\n",
        "\n",
        "\n",
        "plt.scatter(X[:,0], X[:,1], c=mycolor(y))\n",
        "\n",
        "plt.gca().contourf(xx, yy, grid_predictions, cmap='coolwarm', alpha=0.3)"
      ],
      "metadata": {
        "colab": {
          "base_uri": "https://localhost:8080/",
          "height": 448
        },
        "id": "YjNdZHfNb-89",
        "outputId": "2b4293b2-08f7-4ca5-d175-e0a4a3a962d7"
      },
      "execution_count": null,
      "outputs": [
        {
          "output_type": "execute_result",
          "data": {
            "text/plain": [
              "<matplotlib.contour.QuadContourSet at 0x7c79ff1a7c10>"
            ]
          },
          "metadata": {},
          "execution_count": 24
        },
        {
          "output_type": "display_data",
          "data": {
            "text/plain": [
              "<Figure size 640x480 with 1 Axes>"
            ],
            "image/png": "[encoded data removed]"
          },
          "metadata": {}
        }
      ]
    },
    {
      "cell_type": "code",
      "source": [],
      "metadata": {
        "id": "-hy7eB-YcY6g"
      },
      "execution_count": null,
      "outputs": []
    }
  ]
}