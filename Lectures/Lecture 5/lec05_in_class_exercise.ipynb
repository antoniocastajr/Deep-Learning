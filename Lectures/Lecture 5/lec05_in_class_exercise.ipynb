{
  "nbformat": 4,
  "nbformat_minor": 0,
  "metadata": {
    "colab": {
      "provenance": []
    },
    "kernelspec": {
      "name": "python3",
      "display_name": "Python 3"
    },
    "language_info": {
      "name": "python"
    }
  },
  "cells": [
    {
      "cell_type": "code",
      "execution_count": null,
      "metadata": {
        "id": "mvY82j8zDyY-"
      },
      "outputs": [],
      "source": [
        "import numpy as np\n",
        "from sklearn.datasets import load_iris\n",
        "\n",
        "n_classes = 3  # Number of classes\n",
        "\n",
        "X, y = load_iris(return_X_y = True)\n",
        "n = X.shape[0]\n",
        "X = X[:,:2]                 # Keep only the first two features\n",
        "X = X - np.mean(X, axis=0)  # Center the data\n"
      ]
    },
    {
      "cell_type": "code",
      "source": [
        "def init_params(input_dim, hidden_dim, output_dim):\n",
        "    np.random.seed(0)  # Ensure reproducibility\n",
        "    W1 = np.random.randn(input_dim, hidden_dim)\n",
        "    b1 = np.random.randn(hidden_dim)\n",
        "    W2 = np.random.randn(hidden_dim,output_dim)\n",
        "    b2 = np.random.randn(output_dim)\n",
        "    return W1, b1, W2, b2\n"
      ],
      "metadata": {
        "id": "ltgelJ6wD2Gh"
      },
      "execution_count": null,
      "outputs": []
    },
    {
      "cell_type": "code",
      "source": [
        "input_dim = 2       # Number of input dimension/features\n",
        "hidden_dim = 10     # Number of hidden neurons\n",
        "output_dim = 3      # Number of classes\n",
        "\n",
        "W1, b1, W2, b2 = init_params(input_dim, hidden_dim, output_dim)\n",
        "\n",
        "theta = {\n",
        "    \"W1\": W1,\n",
        "    \"b1\": b1,\n",
        "    \"W2\": W2,\n",
        "    \"b2\": b2\n",
        "}\n"
      ],
      "metadata": {
        "id": "uVKWgppdD3g5"
      },
      "execution_count": null,
      "outputs": []
    },
    {
      "cell_type": "code",
      "source": [
        "def relu(z):\n",
        "    return np.maximum(0, z)\n",
        "\n",
        "def forward(X,theta):\n",
        "    W1, b1, W2, b2 = theta[\"W1\"], theta[\"b1\"], theta[\"W2\"], theta[\"b2\"]\n",
        "    h = relu(np.dot(X, W1) + b1)\n",
        "    z = np.dot(h, W2) + b2\n",
        "    return h,z\n"
      ],
      "metadata": {
        "id": "emFAh7NsD65a"
      },
      "execution_count": null,
      "outputs": []
    },
    {
      "cell_type": "code",
      "source": [
        "def relu(z):\n",
        "    return np.maximum(0, z)\n",
        "\n",
        "def forward_nonvectorized(X, theta):\n",
        "    W1, b1, W2, b2 = theta[\"W1\"], theta[\"b1\"], theta[\"W2\"], theta[\"b2\"]\n",
        "    h = np.zeros((X.shape[0], W1.shape[1]))  # Initialize h\n",
        "    z = np.zeros((X.shape[0], W2.shape[1]))  # Initialize z\n",
        "\n",
        "    for i in range(X.shape[0]):\n",
        "        h[i, :] = relu(np.dot(X[i, :], W1) + b1)\n",
        "        z[i, :] = np.dot(h[i, :], W2) + b2\n",
        "    return h, z\n"
      ],
      "metadata": {
        "id": "OMYLUr_XD7IL"
      },
      "execution_count": null,
      "outputs": []
    },
    {
      "cell_type": "markdown",
      "source": [
        "# Timing"
      ],
      "metadata": {
        "id": "yhrdiFUcHT3D"
      }
    },
    {
      "cell_type": "code",
      "source": [
        "import time\n",
        "\n",
        "\n",
        "X_big = np.vstack([X for i in range(100)])\n",
        "# Vectorized forward function\n",
        "start_time = time.time()\n",
        "h_vec, z_vec = forward(X_big, theta)\n",
        "end_time = time.time()\n",
        "print(f\"Vectorized time: {end_time - start_time:.5f} seconds\")\n",
        "\n",
        "# Non-vectorized forward function\n",
        "start_time = time.time()\n",
        "h_nonvec, z_nonvec = forward_nonvectorized(X_big, theta)\n",
        "end_time = time.time()\n",
        "print(f\"Non-vectorized time: {end_time - start_time:.5f} seconds\")\n"
      ],
      "metadata": {
        "colab": {
          "base_uri": "https://localhost:8080/"
        },
        "id": "np4y58UvEGWH",
        "outputId": "29523711-4c4c-4435-da01-e2bbaea59541"
      },
      "execution_count": null,
      "outputs": [
        {
          "output_type": "stream",
          "name": "stdout",
          "text": [
            "Vectorized time: 0.01173 seconds\n",
            "Non-vectorized time: 0.30032 seconds\n"
          ]
        }
      ]
    },
    {
      "cell_type": "markdown",
      "source": [
        "# softmax computation"
      ],
      "metadata": {
        "id": "IrvbFmt00BHX"
      }
    },
    {
      "cell_type": "code",
      "source": [
        "p = np.zeros((n,n_classes))\n",
        "h,z = forward(X,theta)\n",
        "for i in range(n):\n",
        "    p[i,:] = np.exp(z[i,:])/np.sum(np.exp(z[i,:]))\n",
        "\n",
        "p[:5,:] # sanity check\n",
        "# should be\n",
        "# array([[0.0025722 , 0.97505337, 0.02237443],\n",
        "#        [0.09804607, 0.77617999, 0.12577394],\n",
        "#        [0.12661246, 0.65719734, 0.21619019],\n",
        "#        [0.27429138, 0.4847382 , 0.24097042],\n",
        "#        [0.00291315, 0.96559662, 0.03149023]])\n"
      ],
      "metadata": {
        "colab": {
          "base_uri": "https://localhost:8080/"
        },
        "id": "9l821lg4EVTP",
        "outputId": "8983cabf-3b12-46bf-dcfa-5ba715ae689b"
      },
      "execution_count": null,
      "outputs": [
        {
          "output_type": "execute_result",
          "data": {
            "text/plain": [
              "array([[0.0025722 , 0.97505337, 0.02237443],\n",
              "       [0.09804607, 0.77617999, 0.12577394],\n",
              "       [0.12661246, 0.65719734, 0.21619019],\n",
              "       [0.27429138, 0.4847382 , 0.24097042],\n",
              "       [0.00291315, 0.96559662, 0.03149023]])"
            ]
          },
          "metadata": {},
          "execution_count": 7
        }
      ]
    },
    {
      "cell_type": "markdown",
      "source": [
        "# softmax computation (vectorized)"
      ],
      "metadata": {
        "id": "TEp3BIm_0Eer"
      }
    },
    {
      "cell_type": "code",
      "source": [
        "h,z = forward(X,theta)\n",
        "\n",
        "# your code here\n",
        "\n",
        "p[:5,:] # sanity check"
      ],
      "metadata": {
        "colab": {
          "base_uri": "https://localhost:8080/"
        },
        "id": "ByJAXePSzvMT",
        "outputId": "e0ffc9f5-8209-43bc-ffcc-11122c87a9da"
      },
      "execution_count": null,
      "outputs": [
        {
          "output_type": "execute_result",
          "data": {
            "text/plain": [
              "array([[0.0025722 , 0.97505337, 0.02237443],\n",
              "       [0.09804607, 0.77617999, 0.12577394],\n",
              "       [0.12661246, 0.65719734, 0.21619019],\n",
              "       [0.27429138, 0.4847382 , 0.24097042],\n",
              "       [0.00291315, 0.96559662, 0.03149023]])"
            ]
          },
          "metadata": {},
          "execution_count": 17
        }
      ]
    },
    {
      "cell_type": "markdown",
      "source": [
        "# Loss derivative calculation"
      ],
      "metadata": {
        "id": "C8MSqwFF0uBi"
      }
    },
    {
      "cell_type": "code",
      "source": [
        "loss_der = np.zeros((n,n_classes))\n",
        "E = np.eye(n_classes)\n",
        "h,z = forward(X,theta)\n",
        "for i in range(n):\n",
        "    loss_der[i,:] = p[i,:] - E[y[i], :]\n",
        "\n",
        "loss_der[:5,:] # sanity check\n",
        "# should say\n",
        "# array([[-0.9974278 ,  0.97505337,  0.02237443],\n",
        "#        [-0.90195393,  0.77617999,  0.12577394],\n",
        "#        [-0.87338754,  0.65719734,  0.21619019],\n",
        "#        [-0.72570862,  0.4847382 ,  0.24097042],\n",
        "#        [-0.99708685,  0.96559662,  0.03149023]])\n",
        "\n"
      ],
      "metadata": {
        "colab": {
          "base_uri": "https://localhost:8080/"
        },
        "id": "tLvVGGFY0vi6",
        "outputId": "5491616e-9264-4cdf-adf3-688c4556724f"
      },
      "execution_count": null,
      "outputs": [
        {
          "output_type": "execute_result",
          "data": {
            "text/plain": [
              "array([[-0.9974278 ,  0.97505337,  0.02237443],\n",
              "       [-0.90195393,  0.77617999,  0.12577394],\n",
              "       [-0.87338754,  0.65719734,  0.21619019],\n",
              "       [-0.72570862,  0.4847382 ,  0.24097042],\n",
              "       [-0.99708685,  0.96559662,  0.03149023]])"
            ]
          },
          "metadata": {},
          "execution_count": 9
        }
      ]
    },
    {
      "cell_type": "markdown",
      "source": [
        "# dJdb2 calculation (vectorized)"
      ],
      "metadata": {
        "id": "aQy8pBptFl49"
      }
    },
    {
      "cell_type": "code",
      "source": [
        "\n",
        "# y_one_hot should be a n-by-K tensor where y_one_hot[i,:] is the one-hot vector at y[i]\n",
        "# should be a 1-liner that does not exceed this many chars ->|          (minus the comment)\n",
        "# hint 1: \"==\" is a pairwise operator\n",
        "# hint 2: use np.arange\n",
        "# hint 3: broadcast!\n",
        "\n",
        "y_one_hot = # YOUR CODE HERE\n",
        "\n",
        "loss_der = p - y_one_hot\n",
        "\n",
        "dJdb2 = np.mean(loss_der,axis=0)\n",
        "\n",
        "\n",
        "print(dJdb2,\"\\n\")\n",
        "# should print...\n",
        "# array([-0.29643435,  0.59559785, -0.2991635 ])\n",
        "# ... if your answer is correct\n",
        "\n",
        "loss_der[:5,:] # snaity check\n"
      ],
      "metadata": {
        "colab": {
          "base_uri": "https://localhost:8080/"
        },
        "id": "8m3KKv_t02uJ",
        "outputId": "78611d62-1168-4b93-eafe-4ec29b6c7957"
      },
      "execution_count": null,
      "outputs": [
        {
          "output_type": "stream",
          "name": "stdout",
          "text": [
            "[-0.29643435  0.59559785 -0.2991635 ] \n",
            "\n"
          ]
        },
        {
          "output_type": "execute_result",
          "data": {
            "text/plain": [
              "array([[-0.9974278 ,  0.97505337,  0.02237443],\n",
              "       [-0.90195393,  0.77617999,  0.12577394],\n",
              "       [-0.87338754,  0.65719734,  0.21619019],\n",
              "       [-0.72570862,  0.4847382 ,  0.24097042],\n",
              "       [-0.99708685,  0.96559662,  0.03149023]])"
            ]
          },
          "metadata": {},
          "execution_count": 10
        }
      ]
    },
    {
      "cell_type": "markdown",
      "source": [
        "# dJdW2 calculation"
      ],
      "metadata": {
        "id": "N_6ItRRf46XF"
      }
    },
    {
      "cell_type": "code",
      "source": [
        "dJdW2 = np.zeros_like(W2)\n",
        "# h,z = forward(X,theta) # already computed previously\n",
        "for i in range(n):\n",
        "    dJdW2 += np.outer(relu(h[i,:]), loss_der[i,:])\n",
        "\n",
        "dJdW2 /= n\n",
        "dJdW2[:3,:] # sanity check\n",
        "# your first three rows should be\n",
        "# array([[ 4.78180322e-11,  3.17365767e-02, -3.17365767e-02],\n",
        "#        [-2.89296255e-01,  5.62840257e-01, -2.73544002e-01],\n",
        "#        [-1.42266016e-01,  6.53427386e-01, -5.11161370e-01],"
      ],
      "metadata": {
        "colab": {
          "base_uri": "https://localhost:8080/"
        },
        "id": "yU_Tb8De1ruc",
        "outputId": "bbd99bc2-8fb9-49ad-ce25-065d2bd80d02"
      },
      "execution_count": null,
      "outputs": [
        {
          "output_type": "execute_result",
          "data": {
            "text/plain": [
              "array([[ 4.78180322e-11,  3.17365767e-02, -3.17365767e-02],\n",
              "       [-2.89296255e-01,  5.62840257e-01, -2.73544002e-01],\n",
              "       [-1.42266016e-01,  6.53427386e-01, -5.11161370e-01]])"
            ]
          },
          "metadata": {},
          "execution_count": 11
        }
      ]
    },
    {
      "cell_type": "markdown",
      "source": [
        "# dJdW2 calculation (vectorized)"
      ],
      "metadata": {
        "id": "UHVIFoFL7Re4"
      }
    },
    {
      "cell_type": "code",
      "source": [
        "\n",
        "dJdW2 = # YOUR CODE HERE\n",
        "dJdW2[:3,] # sanity check"
      ],
      "metadata": {
        "colab": {
          "base_uri": "https://localhost:8080/"
        },
        "id": "4ul4aM5H4X9I",
        "outputId": "c211498c-0fe3-47c9-85cd-8a61a52c46f2"
      },
      "execution_count": null,
      "outputs": [
        {
          "output_type": "execute_result",
          "data": {
            "text/plain": [
              "array([[ 4.78180322e-11,  3.17365767e-02, -3.17365767e-02],\n",
              "       [-2.89296255e-01,  5.62840257e-01, -2.73544002e-01],\n",
              "       [-1.42266016e-01,  6.53427386e-01, -5.11161370e-01]])"
            ]
          },
          "metadata": {},
          "execution_count": 12
        }
      ]
    },
    {
      "cell_type": "code",
      "source": [],
      "metadata": {
        "id": "nZVixsPb6mx7"
      },
      "execution_count": null,
      "outputs": []
    },
    {
      "cell_type": "markdown",
      "source": [
        "# dJdb1 calculation"
      ],
      "metadata": {
        "id": "3auBXZKe-ivq"
      }
    },
    {
      "cell_type": "code",
      "source": [
        "def relu_derivative(z):\n",
        "    return 1.0*(z > 0)\n",
        "\n",
        "dJdb1 = np.zeros_like(b1)\n",
        "\n",
        "# h,z = forward(X,theta)\n",
        "for i in range(n):\n",
        "    dJdb1 += (W2@(loss_der[i,:])) * relu_derivative(h[i,:])\n",
        "dJdb1 /=n\n",
        "dJdb1\n",
        "# should be\n",
        "# array([ 5.90775856e-02,  3.33066422e-01,  5.00043538e-01,  9.65803254e-02,\n",
        "        # 1.74727058e+00, -1.54422652e-03,  3.68069930e-01, -1.10518462e-02,\n",
        "        # 2.43568198e-01, -3.58945020e-01])"
      ],
      "metadata": {
        "colab": {
          "base_uri": "https://localhost:8080/"
        },
        "id": "q-_A4TBp-kpG",
        "outputId": "8b004f20-ac47-48d0-8887-0b3fe5378ada"
      },
      "execution_count": null,
      "outputs": [
        {
          "output_type": "execute_result",
          "data": {
            "text/plain": [
              "array([ 5.90775856e-02,  3.33066422e-01,  5.00043538e-01,  9.65803254e-02,\n",
              "        1.74727058e+00, -1.54422652e-03,  3.68069930e-01, -1.10518462e-02,\n",
              "        2.43568198e-01, -3.58945020e-01])"
            ]
          },
          "metadata": {},
          "execution_count": 13
        }
      ]
    },
    {
      "cell_type": "markdown",
      "source": [
        "# dJdb1 calculation (vectorized)"
      ],
      "metadata": {
        "id": "YThsCttzAtEQ"
      }
    },
    {
      "cell_type": "code",
      "source": [
        "dJdb1 = # YOUR CODE HERE\n",
        "dJdb1"
      ],
      "metadata": {
        "colab": {
          "base_uri": "https://localhost:8080/"
        },
        "id": "1By0832jAXLk",
        "outputId": "c9c43529-d51e-4db6-846f-9df678a3b289"
      },
      "execution_count": null,
      "outputs": [
        {
          "output_type": "execute_result",
          "data": {
            "text/plain": [
              "array([ 5.90775856e-02,  3.33066422e-01,  5.00043538e-01,  9.65803254e-02,\n",
              "        1.74727058e+00, -1.54422652e-03,  3.68069930e-01, -1.10518462e-02,\n",
              "        2.43568198e-01, -3.58945020e-01])"
            ]
          },
          "metadata": {},
          "execution_count": 14
        }
      ]
    },
    {
      "cell_type": "markdown",
      "source": [
        "# dJdW1 calculation"
      ],
      "metadata": {
        "id": "SGR1hpukB8YE"
      }
    },
    {
      "cell_type": "code",
      "source": [
        "dJdW1 = np.zeros_like(W1)\n",
        "\n",
        "# h,z = forward(X,theta)\n",
        "for i in range(n):\n",
        "    dJdW1 += np.outer((W2@loss_der[i,:])  *\n",
        "                      relu_derivative(h[i,:]), X[i,:]).T\n",
        "dJdW1 /=n\n",
        "dJdW1\n",
        "# should be\n",
        "# array([[ 1.07999453e-01, -5.09697354e-01,  4.20123306e-01,\n",
        "#          9.36336787e-02, -6.47689038e-02,  2.30465388e-03,\n",
        "#          7.38056259e-02,  2.24393341e-02, -5.33412589e-03,\n",
        "#          1.45179361e-01],\n",
        "#        [ 3.36460923e-03,  2.20529616e-01, -4.57539715e-02,\n",
        "#         -8.32287862e-04,  4.33449051e-01, -6.86691098e-05,\n",
        "#          1.32692205e-01, -5.30041434e-03,  5.17620420e-02,\n",
        "#         -1.19088483e-01]])"
      ],
      "metadata": {
        "colab": {
          "base_uri": "https://localhost:8080/"
        },
        "id": "cTQcIe1tB9gu",
        "outputId": "f28f0d68-3921-40de-c194-a122a6a58cce"
      },
      "execution_count": null,
      "outputs": [
        {
          "output_type": "execute_result",
          "data": {
            "text/plain": [
              "array([[ 1.07999453e-01, -5.09697354e-01,  4.20123306e-01,\n",
              "         9.36336787e-02, -6.47689038e-02,  2.30465388e-03,\n",
              "         7.38056259e-02,  2.24393341e-02, -5.33412589e-03,\n",
              "         1.45179361e-01],\n",
              "       [ 3.36460923e-03,  2.20529616e-01, -4.57539715e-02,\n",
              "        -8.32287862e-04,  4.33449051e-01, -6.86691098e-05,\n",
              "         1.32692205e-01, -5.30041434e-03,  5.17620420e-02,\n",
              "        -1.19088483e-01]])"
            ]
          },
          "metadata": {},
          "execution_count": 15
        }
      ]
    },
    {
      "cell_type": "markdown",
      "source": [
        "# dJdW1 calculation (vectorized)"
      ],
      "metadata": {
        "id": "fv3bnytfESe5"
      }
    },
    {
      "cell_type": "code",
      "source": [
        "# hint: use the same trick for expressing sum of outer products as a matmul\n",
        "# hint: you can use 2 lines\n",
        "dJdW1 = # YOUR CODE HERE\n",
        "dJdW1"
      ],
      "metadata": {
        "colab": {
          "base_uri": "https://localhost:8080/"
        },
        "id": "KlMSl4QnCCcu",
        "outputId": "134f76f4-747c-4ca2-97f7-e8c8274dc8ec"
      },
      "execution_count": null,
      "outputs": [
        {
          "output_type": "execute_result",
          "data": {
            "text/plain": [
              "array([[ 1.07999453e-01, -5.09697354e-01,  4.20123306e-01,\n",
              "         9.36336787e-02, -6.47689038e-02,  2.30465388e-03,\n",
              "         7.38056259e-02,  2.24393341e-02, -5.33412589e-03,\n",
              "         1.45179361e-01],\n",
              "       [ 3.36460923e-03,  2.20529616e-01, -4.57539715e-02,\n",
              "        -8.32287862e-04,  4.33449051e-01, -6.86691098e-05,\n",
              "         1.32692205e-01, -5.30041434e-03,  5.17620420e-02,\n",
              "        -1.19088483e-01]])"
            ]
          },
          "metadata": {},
          "execution_count": 16
        }
      ]
    },
    {
      "cell_type": "markdown",
      "source": [
        "# `compute_gradient` from last time"
      ],
      "metadata": {
        "id": "bLkpUBeYF-jc"
      }
    },
    {
      "cell_type": "code",
      "source": [
        "\n",
        "def compute_gradients(X,y,theta):\n",
        "    dJdW1 = np.zeros_like(W1)\n",
        "    dJdb1 = np.zeros_like(b1)\n",
        "    dJdW2 = np.zeros_like(W2)\n",
        "    dJdb2 = np.zeros_like(b2)\n",
        "    h, z = forward(X, theta)\n",
        "    for i in range(n):\n",
        "        p = np.exp(z[i,:])/np.sum(np.exp(z[i,:]))\n",
        "        loss_der = p - E[y[i], :]\n",
        "        dJdW1 += np.outer((W2@loss_der) * relu_derivative(h[i,:]), X[i,:]).T\n",
        "        dJdb1 += (W2@(loss_der)) * relu_derivative(h[i,:])\n",
        "        dJdW2 += np.outer(relu(h[i,:]), loss_der)\n",
        "        dJdb2 += loss_der\n",
        "    dJdW1 /=n\n",
        "    dJdb1 /=n\n",
        "    dJdW2 /=n\n",
        "    dJdb2 /=n\n",
        "\n",
        "    gradients = {\n",
        "        \"W1\": dJdW1,\n",
        "        \"b1\": dJdb1,\n",
        "        \"W2\": dJdW2,\n",
        "        \"b2\": dJdb2\n",
        "    }\n",
        "\n",
        "    return gradients"
      ],
      "metadata": {
        "id": "YuXQA4k3C3a6"
      },
      "execution_count": null,
      "outputs": []
    },
    {
      "cell_type": "markdown",
      "source": [
        "# vectorize the `compute_gradient` function from last time\n",
        "should not use any for loop in the function"
      ],
      "metadata": {
        "id": "indUZ6DqF1Mt"
      }
    },
    {
      "cell_type": "code",
      "source": [
        "def compute_gradients(X,y,theta):\n",
        "    # your code here\n",
        "    return None\n",
        "    # return gradients"
      ],
      "metadata": {
        "id": "a-Ip82OGF9S7"
      },
      "execution_count": null,
      "outputs": []
    },
    {
      "cell_type": "code",
      "source": [],
      "metadata": {
        "id": "7d0rdkY6GE1V"
      },
      "execution_count": null,
      "outputs": []
    }
  ]
}