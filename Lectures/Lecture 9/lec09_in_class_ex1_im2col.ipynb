{
  "nbformat": 4,
  "nbformat_minor": 0,
  "metadata": {
    "colab": {
      "provenance": []
    },
    "kernelspec": {
      "name": "python3",
      "display_name": "Python 3"
    },
    "language_info": {
      "name": "python"
    }
  },
  "cells": [
    {
      "cell_type": "code",
      "execution_count": null,
      "metadata": {
        "id": "Egq_C569Cjv9"
      },
      "outputs": [],
      "source": [
        "import numpy as np\n",
        "\n",
        "\n",
        "# im2col for dense matrix\n",
        "def im2col_matrix_dense(Xin, K, S=1):\n",
        "    N, Cin, Hin, Win = Xin.shape\n",
        "    Hout, Wout = Hin - K + 1, Win - K + 1\n",
        "    P = Hout * Wout  # Total number of patches per image\n",
        "    patch_size = Cin * K * K # Size of each flattened patch\n",
        "    im2col_mat_dense = np.zeros((Cin * Hin * Win, P * patch_size))\n",
        "    patch_idx = 0\n",
        "    for hout in range(Hout):\n",
        "        for wout in range(Wout):\n",
        "            for cin in range(Cin):\n",
        "                for hker in range(K):\n",
        "                    for wker in range(K):\n",
        "                        input_index = cin * Hin * Win + hout * Win + wout + hker * Win + wker\n",
        "                        patch_position = cin * K * K + hker * K + wker\n",
        "                        output_index = patch_idx * patch_size + patch_position\n",
        "                        im2col_mat_dense[input_index, output_index] = 1\n",
        "            patch_idx += 1\n",
        "    return im2col_mat_dense\n"
      ]
    },
    {
      "cell_type": "code",
      "source": [
        "Xin = np.arange(2*3*5*5).reshape(2,3,5,5)\n",
        "print(\"Showing the first image, i.e., X[0]\")\n",
        "Xin[0]"
      ],
      "metadata": {
        "id": "B8iwfChRCnTa"
      },
      "execution_count": null,
      "outputs": []
    },
    {
      "cell_type": "code",
      "source": [
        "N, Cin, Hin, Win = Xin.shape\n",
        "\n",
        "K = 2\n",
        "S = 1\n",
        "\n",
        "Hout, Wout = Hin - K + 1, Win - K + 1\n",
        "P = Hout * Wout\n",
        "\n",
        "patch_size = Cin * K * K\n",
        "\n",
        "Xin_flat = Xin.reshape(-1, Cin * Hin * Win)\n",
        "\n",
        "im2col_mat = im2col_matrix_dense(Xin, K,S) # im2col\n",
        "\n",
        "Xin_im2col = Xin_flat @ im2col_mat\n",
        "\n",
        "Xin_patches_flat = Xin_im2col.reshape(N, P, patch_size) # X_out has shape (N, P, C*K**2)\n",
        "Xin_patches = Xin_patches_flat.reshape(N, P, Cin, K, K)\n",
        "\n",
        "print(\"Showing the first two patches of X[0]\")\n",
        "Xin_patches[0][:2]"
      ],
      "metadata": {
        "id": "HrDANNc6C21G"
      },
      "execution_count": null,
      "outputs": []
    },
    {
      "cell_type": "markdown",
      "source": [
        "## Apply a (flattened) convolutional filter"
      ],
      "metadata": {
        "id": "6MwCIDYliaGN"
      }
    },
    {
      "cell_type": "code",
      "source": [
        "Cout = 2\n",
        "weight_flat = np.array([[ 0.,  0.], # the convolutional filter\n",
        "       [ 1.,  0.],\n",
        "       [-1.,  0.],\n",
        "       [ 0.,  0.],\n",
        "       [ 0., -1.],\n",
        "       [ 0.,  0.],\n",
        "       [ 0.,  1.],\n",
        "       [ 0.,  0.],\n",
        "       [ 0.,  0.],\n",
        "       [ 0.,  0.],\n",
        "       [ 0.,  0.],\n",
        "       [ 0.,  0.]])\n",
        "\n",
        "Xout_flat = Xin_patches_flat @ weight_flat\n",
        "Xout = np.moveaxis(Xout_flat, 1,2).reshape(N,Cout,Hout,Wout)\n",
        "\n",
        "Xout"
      ],
      "metadata": {
        "id": "pACg9CyohbOa"
      },
      "execution_count": null,
      "outputs": []
    },
    {
      "cell_type": "markdown",
      "source": [
        "# Exercise 1: Modify `im2col_matrix_dense` to allow stride (note that kernel size has changed)"
      ],
      "metadata": {
        "id": "IJC4EyOJIPZB"
      }
    },
    {
      "cell_type": "code",
      "source": [
        "N, Cin, Hin, Win = Xin.shape\n",
        "\n",
        "K = 3\n",
        "S = 2\n",
        "\n",
        "# YOUR CODE HERE\n",
        "\n",
        "\n",
        "print(\"Showing the first two patches of X[0]\")\n",
        "Xin_patches[0][:2]"
      ],
      "metadata": {
        "id": "0NjW4L6kETfK"
      },
      "execution_count": null,
      "outputs": []
    },
    {
      "cell_type": "markdown",
      "source": [
        "# Exercise 1: Answer key:"
      ],
      "metadata": {
        "id": "o5sD_Ql0IXhp"
      }
    },
    {
      "cell_type": "code",
      "source": [
        "answer = np.array([[[[ 0.,  1.,  2.],\n",
        "         [ 5.,  6.,  7.],\n",
        "         [10., 11., 12.]],\n",
        "\n",
        "        [[25., 26., 27.],\n",
        "         [30., 31., 32.],\n",
        "         [35., 36., 37.]],\n",
        "\n",
        "        [[50., 51., 52.],\n",
        "         [55., 56., 57.],\n",
        "         [60., 61., 62.]]],\n",
        "\n",
        "\n",
        "       [[[ 2.,  3.,  4.],\n",
        "         [ 7.,  8.,  9.],\n",
        "         [12., 13., 14.]],\n",
        "\n",
        "        [[27., 28., 29.],\n",
        "         [32., 33., 34.],\n",
        "         [37., 38., 39.]],\n",
        "\n",
        "        [[52., 53., 54.],\n",
        "         [57., 58., 59.],\n",
        "         [62., 63., 64.]]]])\n",
        "\n",
        "\n",
        "answer"
      ],
      "metadata": {
        "id": "vFwDBHC-H4LN"
      },
      "execution_count": null,
      "outputs": []
    },
    {
      "cell_type": "code",
      "source": [],
      "metadata": {
        "id": "9Bul-JgkIV7I"
      },
      "execution_count": null,
      "outputs": []
    }
  ]
}