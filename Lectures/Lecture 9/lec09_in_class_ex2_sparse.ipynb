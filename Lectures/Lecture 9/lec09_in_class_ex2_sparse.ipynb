{
  "nbformat": 4,
  "nbformat_minor": 0,
  "metadata": {
    "colab": {
      "provenance": []
    },
    "kernelspec": {
      "name": "python3",
      "display_name": "Python 3"
    },
    "language_info": {
      "name": "python"
    }
  },
  "cells": [
    {
      "cell_type": "markdown",
      "source": [
        "# Exercise 2\n",
        "\n",
        "1. Install `scipy` if you don't have it installed\n",
        "2. Implement `im2col_matrix_sparse` using sparse matrix"
      ],
      "metadata": {
        "id": "7Mk5ZIUoxaLk"
      }
    },
    {
      "cell_type": "code",
      "execution_count": null,
      "metadata": {
        "id": "63FjwYaaxWc6"
      },
      "outputs": [],
      "source": [
        "import numpy as np\n",
        "from scipy.sparse import csr_matrix\n",
        "import time\n",
        "\n",
        "    ###### from the slides:\n",
        "    # data = [1,1,1,1,1,...] # len(data) = P * patch_size\n",
        "    # row_indices = [0,1,3,4,9,...]\n",
        "    # col_indices = [0,1,2,3,4,...]\n",
        "    # im2col_mat_sparse = csr_matrix((data,\n",
        "    #                                 (row_indices, col_indices)),\n",
        "    #                                shape=(n_rows, n_cols))\n",
        "\n",
        "\n",
        "# im2col\n",
        "def im2col_matrix_sparse(Xin, K, S=1):\n",
        "    N, Cin, Hin, Win = Xin.shape\n",
        "    CHW = Cin * Hin * Win\n",
        "    Hout = (Hin - K)//S + 1\n",
        "    Wout = (Win - K)//S + 1\n",
        "    P = Hout * Wout  # Total number of patches per image\n",
        "    patch_size = Cin * K * K # Size of each flattened patch\n",
        "\n",
        "    # YOUR CODE HERE\n",
        "\n",
        "    # n_rows = ?\n",
        "    # n_cols = ?\n",
        "    # data = ?\n",
        "    # row_indices = ?\n",
        "    # col_indices = ?\n",
        "\n",
        "    im2col_mat_sparse = csr_matrix((data, (row_indices, col_indices)), shape=(n_rows, n_cols))\n",
        "    return im2col_mat_sparse\n",
        "\n",
        "\n",
        "\n"
      ]
    },
    {
      "cell_type": "markdown",
      "source": [
        "# Paste your `im2col_matrix_dense` here:"
      ],
      "metadata": {
        "id": "Kg0KvP1w6woy"
      }
    },
    {
      "cell_type": "code",
      "source": [
        "# im2col_matrix_dense go here"
      ],
      "metadata": {
        "id": "yReY-dIe6wAC"
      },
      "execution_count": null,
      "outputs": []
    },
    {
      "cell_type": "markdown",
      "source": [
        "# Tiny example: Defining sparse matrix"
      ],
      "metadata": {
        "id": "byjKyGUZzXQ7"
      }
    },
    {
      "cell_type": "code",
      "source": [
        "data = [1,2,3,1]\n",
        "row_indices = [1,2,0,1]\n",
        "col_indices = [0,1,2,1]\n",
        "sparse_mat_example = csr_matrix((data, (row_indices, col_indices)), shape=(3, 3))\n",
        "sparse_mat_example.toarray()"
      ],
      "metadata": {
        "id": "Wz5vwrdTyhfT"
      },
      "execution_count": null,
      "outputs": []
    },
    {
      "cell_type": "markdown",
      "source": [
        "#  Tiny example: Matrix multiplication"
      ],
      "metadata": {
        "id": "ReM1hWujzZHy"
      }
    },
    {
      "cell_type": "code",
      "source": [
        "X = np.arange(9).reshape(3,3)\n",
        "X                   @   sparse_mat_example\n"
      ],
      "metadata": {
        "id": "9mvhVrW8yxm4"
      },
      "execution_count": null,
      "outputs": []
    },
    {
      "cell_type": "markdown",
      "source": [
        "# Timing comparison"
      ],
      "metadata": {
        "id": "-ZQbzdh67SBo"
      }
    },
    {
      "cell_type": "code",
      "source": [
        "Xin = np.arange(80*1*32*32).reshape(80,1,32,32)\n",
        "\n",
        "N, Cin, Hin, Win = Xin.shape\n",
        "K = 5\n",
        "S = 1\n",
        "\n",
        "Hout, Wout = Hin - K + 1, Win - K + 1\n",
        "P = Hout * Wout\n",
        "patch_size = Cin * K * K\n",
        "\n",
        "Xin_flat = Xin.reshape(-1, Cin * Hin * Win)\n",
        "\n",
        "\n",
        "im2col_mat_dense = im2col_matrix_dense(Xin, K,S) # im2col\n",
        "im2col_mat_sparse = im2col_matrix_sparse(Xin, K,S) # im2col\n",
        "\n",
        "# Dense method\n",
        "start_dense = time.time()\n",
        "Xin_im2col_dense = Xin_flat @ im2col_mat_dense\n",
        "end_dense = time.time()\n",
        "print(f\"Dense matmul took {end_dense - start_dense:.6f} seconds, excluding im2col creation.\")\n",
        "\n",
        "\n",
        "\n",
        "\n",
        "# Sparse method\n",
        "start_sparse = time.time()\n",
        "Xin_im2col_sparse = Xin_flat @ im2col_mat_sparse\n",
        "end_sparse = time.time()\n",
        "print(f\"Sparse matmul took {end_sparse - start_sparse:.6f} seconds, excluding im2col creation.\")\n",
        "\n"
      ],
      "metadata": {
        "id": "R7btUrUTzhlg"
      },
      "execution_count": null,
      "outputs": []
    },
    {
      "cell_type": "markdown",
      "source": [
        "# Sanity check: the two methods agree"
      ],
      "metadata": {
        "id": "HRo9HySY5UA-"
      }
    },
    {
      "cell_type": "code",
      "source": [
        "Xin_patches_flat_dense = Xin_im2col_dense.reshape(N, P, patch_size)\n",
        "Xin_patches_dense = Xin_patches_flat_dense.reshape(N, P, Cin, K, K)\n",
        "\n",
        "print(\"Dense method:  Showing the first two patches of X[0]:\")\n",
        "print(Xin_patches_dense[0][:2])\n",
        "\n",
        "\n",
        "Xin_patches_flat_sparse = Xin_im2col_sparse.reshape(N, P, patch_size)\n",
        "Xin_patches_sparse = Xin_patches_flat_sparse.reshape(N, P, Cin, K, K)\n",
        "\n",
        "print(\"Sparse method: Showing the first two patches of X[0]:\")\n",
        "print(Xin_patches_sparse[0][:2])\n"
      ],
      "metadata": {
        "id": "Ao7VAALO5PlF"
      },
      "execution_count": null,
      "outputs": []
    }
  ]
}