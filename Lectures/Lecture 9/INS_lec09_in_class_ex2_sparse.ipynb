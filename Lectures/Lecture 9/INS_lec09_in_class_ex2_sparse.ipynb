{
  "nbformat": 4,
  "nbformat_minor": 0,
  "metadata": {
    "colab": {
      "provenance": []
    },
    "kernelspec": {
      "name": "python3",
      "display_name": "Python 3"
    },
    "language_info": {
      "name": "python"
    }
  },
  "cells": [
    {
      "cell_type": "markdown",
      "source": [
        "# Exercise 2\n",
        "\n",
        "1. Install `scipy` if you don't have it installed\n",
        "2. Implement `im2col_matrix_sparse` using sparse matrix"
      ],
      "metadata": {
        "id": "7Mk5ZIUoxaLk"
      }
    },
    {
      "cell_type": "code",
      "source": [
        "import numpy as np\n",
        "from scipy.sparse import csr_matrix\n",
        "import time"
      ],
      "metadata": {
        "id": "zkoCHYaa7dyg"
      },
      "execution_count": null,
      "outputs": []
    },
    {
      "cell_type": "code",
      "execution_count": null,
      "metadata": {
        "id": "63FjwYaaxWc6"
      },
      "outputs": [],
      "source": [
        "\n",
        "\n",
        "#     ###### from the slides:\n",
        "#     # data = [1,1,1,1,1,...] # len(data) = P * patch_size\n",
        "#     # row_indices = [0,1,3,4,9,...]\n",
        "#     # col_indices = [0,1,2,3,4,...]\n",
        "#     # im2col_mat_sparse = csr_matrix((data,\n",
        "#     #                                 (row_indices, col_indices)),\n",
        "#     #                                shape=(n_rows, n_cols))\n",
        "\n",
        "\n",
        "# # im2col\n",
        "# def im2col_matrix_sparse(Xin, K, S=1):\n",
        "#     N, Cin, Hin, Win = Xin.shape\n",
        "#     CHW = Cin * Hin * Win\n",
        "#     Hout = (Hin - K)//S + 1\n",
        "#     Wout = (Win - K)//S + 1\n",
        "#     P = Hout * Wout  # Total number of patches per image\n",
        "#     patch_size = Cin * K * K # Size of each flattened patch\n",
        "\n",
        "#     # YOUR CODE HERE\n",
        "\n",
        "#     # n_rows = ?\n",
        "#     # n_cols = ?\n",
        "#     # data = ?\n",
        "#     # row_indices = ?\n",
        "#     # col_indices = ?\n",
        "\n",
        "#     im2col_mat_sparse = csr_matrix((data, (row_indices, col_indices)), shape=(n_rows, n_cols))\n",
        "#     return im2col_mat_sparse\n",
        "\n",
        "\n",
        "\n"
      ]
    },
    {
      "cell_type": "markdown",
      "source": [
        "## SOLUTION"
      ],
      "metadata": {
        "id": "1TYyWCPD69Gp"
      }
    },
    {
      "cell_type": "code",
      "source": [
        "# im2col\n",
        "def im2col_matrix_sparse(Xin, K, S=1):\n",
        "    N, Cin, Hin, Win = Xin.shape\n",
        "    CHW = Cin * Hin * Win\n",
        "    Hout = (Hin - K)//S + 1\n",
        "    Wout = (Win - K)//S + 1\n",
        "    P = Hout * Wout  # Total number of patches per image\n",
        "    patch_size = Cin * K * K # Size of each flattened patch\n",
        "\n",
        "    data = [1 for _ in range(P*patch_size)]\n",
        "    row_indices = []\n",
        "    col_indices = list(range(P*patch_size))\n",
        "\n",
        "    patch_idx = 0\n",
        "    for hout in range(Hout):\n",
        "        for wout in range(Wout):\n",
        "            for cin in range(Cin):\n",
        "                for hker in range(K):\n",
        "                    for wker in range(K):\n",
        "                        input_index = cin * Hin * Win + hout * S * Win + wout * S + hker * Win + wker\n",
        "                        row_indices.append(input_index)\n",
        "            patch_idx += 1\n",
        "\n",
        "    im2col_mat_sparse = csr_matrix((data, (row_indices, col_indices)), shape=(CHW, P * patch_size))\n",
        "    return im2col_mat_sparse\n",
        "\n"
      ],
      "metadata": {
        "id": "jZVGe-3E68ox"
      },
      "execution_count": null,
      "outputs": []
    },
    {
      "cell_type": "markdown",
      "source": [
        "# Paste your `im2col_matrix_dense` here:"
      ],
      "metadata": {
        "id": "Kg0KvP1w6woy"
      }
    },
    {
      "cell_type": "code",
      "source": [
        "# DELETE\n",
        "# im2col for dense matrix\n",
        "def im2col_matrix_dense(Xin, K, S=1):\n",
        "    N, Cin, Hin, Win = Xin.shape\n",
        "    Hout, Wout = (Hin - K)//S + 1, (Win - K)//S + 1\n",
        "    P = Hout * Wout  # Total number of patches per image\n",
        "    patch_size = Cin * K * K # Size of each flattened patch\n",
        "    im2col_mat_dense = np.zeros((Cin * Hin * Win, P * patch_size))\n",
        "    patch_idx = 0\n",
        "    output_index = 0\n",
        "    for hout in range(Hout):\n",
        "        for wout in range(Wout):\n",
        "            for cin in range(Cin):\n",
        "                for hker in range(K):\n",
        "                    for wker in range(K):\n",
        "                        input_index = cin * Hin * Win + hout * S * Win + wout * S + hker * Win + wker\n",
        "                        im2col_mat_dense[input_index, output_index] = 1\n",
        "                        output_index += 1\n",
        "            patch_idx += 1\n",
        "    return im2col_mat_dense\n"
      ],
      "metadata": {
        "id": "yReY-dIe6wAC"
      },
      "execution_count": null,
      "outputs": []
    },
    {
      "cell_type": "markdown",
      "source": [
        "# Defining sparse matrix"
      ],
      "metadata": {
        "id": "byjKyGUZzXQ7"
      }
    },
    {
      "cell_type": "code",
      "source": [
        "data = [1,2,3,1]\n",
        "row_indices = [1,2,0,1]\n",
        "col_indices = [0,1,2,1]\n",
        "sparse_mat_example = csr_matrix((data, (row_indices, col_indices)), shape=(3, 3))\n",
        "sparse_mat_example.toarray()"
      ],
      "metadata": {
        "colab": {
          "base_uri": "https://localhost:8080/"
        },
        "id": "Wz5vwrdTyhfT",
        "outputId": "b5e8027e-0909-4bb2-8f76-d8da2e7c22a7"
      },
      "execution_count": null,
      "outputs": [
        {
          "output_type": "execute_result",
          "data": {
            "text/plain": [
              "array([[0, 0, 3],\n",
              "       [1, 1, 0],\n",
              "       [0, 2, 0]])"
            ]
          },
          "metadata": {},
          "execution_count": 37
        }
      ]
    },
    {
      "cell_type": "markdown",
      "source": [
        "# Matrix multiplication"
      ],
      "metadata": {
        "id": "ReM1hWujzZHy"
      }
    },
    {
      "cell_type": "code",
      "source": [
        "X = np.arange(9).reshape(3,3)\n",
        "X                   @   sparse_mat_example\n"
      ],
      "metadata": {
        "colab": {
          "base_uri": "https://localhost:8080/"
        },
        "id": "9mvhVrW8yxm4",
        "outputId": "80f15911-980b-4ad6-d5ad-4c61a616157e"
      },
      "execution_count": null,
      "outputs": [
        {
          "output_type": "execute_result",
          "data": {
            "text/plain": [
              "array([[ 1,  5,  0],\n",
              "       [ 4, 14,  9],\n",
              "       [ 7, 23, 18]])"
            ]
          },
          "metadata": {},
          "execution_count": 38
        }
      ]
    },
    {
      "cell_type": "code",
      "source": [
        "Xin = np.arange(80*1*32*32).reshape(80,1,32,32)\n",
        "\n",
        "N, Cin, Hin, Win = Xin.shape\n",
        "K = 5\n",
        "S = 1\n",
        "\n",
        "Hout, Wout = Hin - K + 1, Win - K + 1\n",
        "P = Hout * Wout\n",
        "patch_size = Cin * K * K\n",
        "\n",
        "Xin_flat = Xin.reshape(-1, Cin * Hin * Win)\n",
        "\n",
        "\n",
        "im2col_mat_dense = im2col_matrix_dense(Xin, K,S) # im2col\n",
        "im2col_mat_sparse = im2col_matrix_sparse(Xin, K,S) # im2col\n",
        "\n",
        "# Dense method\n",
        "start_dense = time.time()\n",
        "Xin_im2col_dense = Xin_flat @ im2col_mat_dense\n",
        "end_dense = time.time()\n",
        "print(f\"Dense matmul took {end_dense - start_dense:.6f} seconds, excluding im2col creation.\")\n",
        "\n",
        "\n",
        "\n",
        "\n",
        "# Sparse method\n",
        "start_sparse = time.time()\n",
        "Xin_im2col_sparse = Xin_flat @ im2col_mat_sparse\n",
        "end_sparse = time.time()\n",
        "print(f\"Sparse matmul took {end_sparse - start_sparse:.6f} seconds, excluding im2col creation.\")\n",
        "\n"
      ],
      "metadata": {
        "colab": {
          "base_uri": "https://localhost:8080/"
        },
        "id": "R7btUrUTzhlg",
        "outputId": "7b315503-8ef0-4fa8-d194-20c98a4cc493"
      },
      "execution_count": null,
      "outputs": [
        {
          "output_type": "stream",
          "name": "stdout",
          "text": [
            "Dense matmul took 0.374793 seconds, excluding im2col creation.\n",
            "Sparse matmul took 0.013100 seconds, excluding im2col creation.\n"
          ]
        }
      ]
    },
    {
      "cell_type": "markdown",
      "source": [
        "# Sanity check: the two methods agree"
      ],
      "metadata": {
        "id": "HRo9HySY5UA-"
      }
    },
    {
      "cell_type": "code",
      "source": [
        "Xin_patches_flat_dense = Xin_im2col_dense.reshape(N, P, patch_size)\n",
        "Xin_patches_dense = Xin_patches_flat_dense.reshape(N, P, Cin, K, K)\n",
        "\n",
        "print(\"Dense method:  Showing the first two patches of X[0]:\")\n",
        "print(Xin_patches_dense[0][:2])\n",
        "\n",
        "\n",
        "Xin_patches_flat_sparse = Xin_im2col_sparse.reshape(N, P, patch_size)\n",
        "Xin_patches_sparse = Xin_patches_flat_sparse.reshape(N, P, Cin, K, K)\n",
        "\n",
        "print(\"Sparse method: Showing the first two patches of X[0]:\")\n",
        "print(Xin_patches_sparse[0][:2])\n"
      ],
      "metadata": {
        "colab": {
          "base_uri": "https://localhost:8080/"
        },
        "id": "Ao7VAALO5PlF",
        "outputId": "3e673203-68ec-40c1-ba6f-33407fa445b6"
      },
      "execution_count": null,
      "outputs": [
        {
          "output_type": "stream",
          "name": "stdout",
          "text": [
            "Dense method:  Showing the first two patches of X[0]:\n",
            "[[[[  0.   1.   2.   3.   4.]\n",
            "   [ 32.  33.  34.  35.  36.]\n",
            "   [ 64.  65.  66.  67.  68.]\n",
            "   [ 96.  97.  98.  99. 100.]\n",
            "   [128. 129. 130. 131. 132.]]]\n",
            "\n",
            "\n",
            " [[[  1.   2.   3.   4.   5.]\n",
            "   [ 33.  34.  35.  36.  37.]\n",
            "   [ 65.  66.  67.  68.  69.]\n",
            "   [ 97.  98.  99. 100. 101.]\n",
            "   [129. 130. 131. 132. 133.]]]]\n",
            "Sparse method: Showing the first two patches of X[0]:\n",
            "[[[[  0   1   2   3   4]\n",
            "   [ 32  33  34  35  36]\n",
            "   [ 64  65  66  67  68]\n",
            "   [ 96  97  98  99 100]\n",
            "   [128 129 130 131 132]]]\n",
            "\n",
            "\n",
            " [[[  1   2   3   4   5]\n",
            "   [ 33  34  35  36  37]\n",
            "   [ 65  66  67  68  69]\n",
            "   [ 97  98  99 100 101]\n",
            "   [129 130 131 132 133]]]]\n"
          ]
        }
      ]
    },
    {
      "cell_type": "code",
      "source": [],
      "metadata": {
        "id": "hND7tCxd7ij3"
      },
      "execution_count": null,
      "outputs": []
    }
  ]
}