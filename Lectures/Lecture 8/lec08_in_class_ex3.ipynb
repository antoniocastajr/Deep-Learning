{
  "nbformat": 4,
  "nbformat_minor": 0,
  "metadata": {
    "colab": {
      "provenance": []
    },
    "kernelspec": {
      "name": "python3",
      "display_name": "Python 3"
    },
    "language_info": {
      "name": "python"
    }
  },
  "cells": [
    {
      "cell_type": "code",
      "execution_count": 2,
      "metadata": {
        "id": "EHOAUm2oaDH4"
      },
      "outputs": [],
      "source": [
        "import numpy as np\n",
        "import matplotlib.pyplot as plt\n",
        "# from scipy.sparse import csr_matrix\n",
        "import time\n",
        "import sys"
      ]
    },
    {
      "cell_type": "markdown",
      "source": [
        "# im2col"
      ],
      "metadata": {
        "id": "E-WxJ3erI0ww"
      }
    },
    {
      "cell_type": "code",
      "source": [
        "# Dense Method\n",
        "def im2col_matrix_dense(X, K):\n",
        "    N, C, H, W = X.shape\n",
        "    CHW = C * H * W\n",
        "    out_H = H - K + 1\n",
        "    out_W = W - K + 1\n",
        "    P = out_H * out_W\n",
        "    patch_size = C * K * K\n",
        "\n",
        "    # Initialize the im2col matrix with zeros\n",
        "    im2col_mat = np.zeros((CHW, P * patch_size))\n",
        "\n",
        "    patch_idx = 0\n",
        "    for h in range(out_H):\n",
        "        for w in range(out_W):\n",
        "            for c in range(C):\n",
        "                for kh in range(K):\n",
        "                    for kw in range(K):\n",
        "                        input_index = c * H * W + (h + kh) * W + (w + kw)\n",
        "                        patch_position = c * K * K + kh * K + kw\n",
        "                        output_index = patch_idx * patch_size + patch_position\n",
        "\n",
        "                        im2col_mat[input_index, output_index] = 1\n",
        "            patch_idx += 1\n",
        "\n",
        "    return im2col_mat\n",
        "\n",
        "# # Sparse Method\n",
        "# def im2col_matrix_sparse(X, K):\n",
        "#     N, C, H, W = X.shape\n",
        "#     CHW = C * H * W\n",
        "#     out_H = H - K + 1\n",
        "#     out_W = W - K + 1\n",
        "#     P = out_H * out_W\n",
        "#     patch_size = C * K * K\n",
        "\n",
        "#     data = []\n",
        "#     row_indices = []\n",
        "#     col_indices = []\n",
        "\n",
        "#     patch_idx = 0\n",
        "#     for h in range(out_H):\n",
        "#         for w in range(out_W):\n",
        "#             for c in range(C):\n",
        "#                 for kh in range(K):\n",
        "#                     for kw in range(K):\n",
        "#                         input_index = c * H * W + (h + kh) * W + (w + kw)\n",
        "#                         patch_position = c * K * K + kh * K + kw\n",
        "#                         output_index = patch_idx * patch_size + patch_position\n",
        "\n",
        "#                         data.append(1)\n",
        "#                         row_indices.append(input_index)\n",
        "#                         col_indices.append(output_index)\n",
        "#             patch_idx += 1\n",
        "\n",
        "#     im2col_mat_sparse = csr_matrix((data, (row_indices, col_indices)), shape=(CHW, P * patch_size))\n",
        "#     return im2col_mat_sparse\n"
      ],
      "metadata": {
        "id": "OhqJe-CXI0RX"
      },
      "execution_count": 3,
      "outputs": []
    },
    {
      "cell_type": "markdown",
      "source": [
        "# A numerical example"
      ],
      "metadata": {
        "id": "2v9_Zvcj2sM0"
      }
    },
    {
      "cell_type": "code",
      "source": [
        "C, H, W = 2, 4, 5\n",
        "K = 2  # Kernel size\n",
        "N = 2  # Batch size\n",
        "X = np.arange(N * C * H * W).reshape(N, C, H, W)\n",
        "X[0]"
      ],
      "metadata": {
        "colab": {
          "base_uri": "https://localhost:8080/"
        },
        "id": "bSYRnzgO2tMw",
        "outputId": "d70f13f1-6975-49b6-c0a8-2ee047f42407"
      },
      "execution_count": 4,
      "outputs": [
        {
          "output_type": "execute_result",
          "data": {
            "text/plain": [
              "array([[[ 0,  1,  2,  3,  4],\n",
              "        [ 5,  6,  7,  8,  9],\n",
              "        [10, 11, 12, 13, 14],\n",
              "        [15, 16, 17, 18, 19]],\n",
              "\n",
              "       [[20, 21, 22, 23, 24],\n",
              "        [25, 26, 27, 28, 29],\n",
              "        [30, 31, 32, 33, 34],\n",
              "        [35, 36, 37, 38, 39]]])"
            ]
          },
          "metadata": {},
          "execution_count": 4
        }
      ]
    },
    {
      "cell_type": "code",
      "source": [
        "X_flat = X.reshape(N, -1)  # Shape (N, C*H*W)\n",
        "X_flat[0]"
      ],
      "metadata": {
        "colab": {
          "base_uri": "https://localhost:8080/"
        },
        "id": "Nt5nKKNe329X",
        "outputId": "e67842dd-9aa9-4b02-8386-c7850502b8f9"
      },
      "execution_count": 5,
      "outputs": [
        {
          "output_type": "execute_result",
          "data": {
            "text/plain": [
              "array([ 0,  1,  2,  3,  4,  5,  6,  7,  8,  9, 10, 11, 12, 13, 14, 15, 16,\n",
              "       17, 18, 19, 20, 21, 22, 23, 24, 25, 26, 27, 28, 29, 30, 31, 32, 33,\n",
              "       34, 35, 36, 37, 38, 39])"
            ]
          },
          "metadata": {},
          "execution_count": 5
        }
      ]
    },
    {
      "cell_type": "code",
      "source": [
        "\n",
        "CHW = C * H * W\n",
        "out_H = H - K + 1 # Output height\n",
        "out_W = W - K + 1 # Output width\n",
        "P = out_H * out_W  # Total number of patches per image\n",
        "patch_size = C * K * K  # Size of each flattened patch\n",
        "\n",
        "im2col_mat_dense = im2col_matrix_dense(X, K)\n",
        "X_out_dense = np.matmul(X_flat, im2col_mat_dense)\n",
        "X_patches_flat = X_out_dense.reshape(-1, P, patch_size)\n",
        "X_patches = X_patches_flat.reshape(N,P,C,K,K)\n",
        "X_patches.shape"
      ],
      "metadata": {
        "colab": {
          "base_uri": "https://localhost:8080/"
        },
        "id": "yFN8jV862w5r",
        "outputId": "bc6a1864-94fb-4767-f75d-ed1a6fbfdff9"
      },
      "execution_count": 6,
      "outputs": [
        {
          "output_type": "execute_result",
          "data": {
            "text/plain": [
              "(2, 12, 2, 2, 2)"
            ]
          },
          "metadata": {},
          "execution_count": 6
        }
      ]
    },
    {
      "cell_type": "code",
      "source": [
        "X_patches[0,0]"
      ],
      "metadata": {
        "colab": {
          "base_uri": "https://localhost:8080/"
        },
        "id": "YddQA0vl33sR",
        "outputId": "f2a05e64-6118-41f8-8b31-e4a4ebefe0c3"
      },
      "execution_count": 7,
      "outputs": [
        {
          "output_type": "execute_result",
          "data": {
            "text/plain": [
              "array([[[ 0.,  1.],\n",
              "        [ 5.,  6.]],\n",
              "\n",
              "       [[20., 21.],\n",
              "        [25., 26.]]])"
            ]
          },
          "metadata": {},
          "execution_count": 7
        }
      ]
    },
    {
      "cell_type": "code",
      "source": [
        "X_out_dense"
      ],
      "metadata": {
        "colab": {
          "base_uri": "https://localhost:8080/"
        },
        "id": "_kiuhfK18RAV",
        "outputId": "00657d89-76c8-41cf-8af9-8082b4f52ece"
      },
      "execution_count": 8,
      "outputs": [
        {
          "output_type": "execute_result",
          "data": {
            "text/plain": [
              "array([[ 0.,  1.,  5.,  6., 20., 21., 25., 26.,  1.,  2.,  6.,  7., 21.,\n",
              "        22., 26., 27.,  2.,  3.,  7.,  8., 22., 23., 27., 28.,  3.,  4.,\n",
              "         8.,  9., 23., 24., 28., 29.,  5.,  6., 10., 11., 25., 26., 30.,\n",
              "        31.,  6.,  7., 11., 12., 26., 27., 31., 32.,  7.,  8., 12., 13.,\n",
              "        27., 28., 32., 33.,  8.,  9., 13., 14., 28., 29., 33., 34., 10.,\n",
              "        11., 15., 16., 30., 31., 35., 36., 11., 12., 16., 17., 31., 32.,\n",
              "        36., 37., 12., 13., 17., 18., 32., 33., 37., 38., 13., 14., 18.,\n",
              "        19., 33., 34., 38., 39.],\n",
              "       [40., 41., 45., 46., 60., 61., 65., 66., 41., 42., 46., 47., 61.,\n",
              "        62., 66., 67., 42., 43., 47., 48., 62., 63., 67., 68., 43., 44.,\n",
              "        48., 49., 63., 64., 68., 69., 45., 46., 50., 51., 65., 66., 70.,\n",
              "        71., 46., 47., 51., 52., 66., 67., 71., 72., 47., 48., 52., 53.,\n",
              "        67., 68., 72., 73., 48., 49., 53., 54., 68., 69., 73., 74., 50.,\n",
              "        51., 55., 56., 70., 71., 75., 76., 51., 52., 56., 57., 71., 72.,\n",
              "        76., 77., 52., 53., 57., 58., 72., 73., 77., 78., 53., 54., 58.,\n",
              "        59., 73., 74., 78., 79.]])"
            ]
          },
          "metadata": {},
          "execution_count": 8
        }
      ]
    },
    {
      "cell_type": "markdown",
      "source": [
        "# Exercise 3: compute X_convolved using matmul or \"@\""
      ],
      "metadata": {
        "id": "YZjDVZpRLmIY"
      }
    },
    {
      "cell_type": "code",
      "source": [
        "# YOUR CODE HERE\n",
        "# replace this dummy code\n",
        "# hint: consider defining a tensor Conv_kernel of shape (2,2,2) then flattening it\n",
        "X_convolved = np.zeros((2,3,4))\n"
      ],
      "metadata": {
        "id": "vKUjG7IF_tJZ"
      },
      "execution_count": 9,
      "outputs": []
    },
    {
      "cell_type": "code",
      "source": [
        "X_convolved.shape"
      ],
      "metadata": {
        "colab": {
          "base_uri": "https://localhost:8080/"
        },
        "id": "5fwaw-aTBra4",
        "outputId": "37312d5b-704c-4050-a877-7a37c5520ebe"
      },
      "execution_count": 10,
      "outputs": [
        {
          "output_type": "execute_result",
          "data": {
            "text/plain": [
              "(2, 3, 4)"
            ]
          },
          "metadata": {},
          "execution_count": 10
        }
      ]
    },
    {
      "cell_type": "code",
      "source": [
        "X_convolved[0]\n",
        "# expected output\n",
        "\n",
        "# array([[ 9., 10., 11., 12.],\n",
        "#        [14., 15., 16., 17.],\n",
        "#        [19., 20., 21., 22.]])\n"
      ],
      "metadata": {
        "colab": {
          "base_uri": "https://localhost:8080/"
        },
        "id": "r4wTIYdBBO6b",
        "outputId": "c2fabeb7-b7de-4624-b29b-87bf1a5600ff"
      },
      "execution_count": 11,
      "outputs": [
        {
          "output_type": "execute_result",
          "data": {
            "text/plain": [
              "array([[0., 0., 0., 0.],\n",
              "       [0., 0., 0., 0.],\n",
              "       [0., 0., 0., 0.]])"
            ]
          },
          "metadata": {},
          "execution_count": 11
        }
      ]
    },
    {
      "cell_type": "code",
      "source": [],
      "metadata": {
        "id": "4e-ZbSAfLlJx"
      },
      "execution_count": 11,
      "outputs": []
    }
  ]
}