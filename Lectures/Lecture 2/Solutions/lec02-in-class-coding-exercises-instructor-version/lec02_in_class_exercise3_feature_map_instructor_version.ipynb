{
  "nbformat": 4,
  "nbformat_minor": 0,
  "metadata": {
    "colab": {
      "provenance": []
    },
    "kernelspec": {
      "name": "python3",
      "display_name": "Python 3"
    },
    "language_info": {
      "name": "python"
    }
  },
  "cells": [
    {
      "cell_type": "code",
      "execution_count": null,
      "metadata": {
        "id": "LY7OONWLd4Qj"
      },
      "outputs": [],
      "source": [
        "import numpy as np\n",
        "import matplotlib.pyplot as plt\n",
        "import plotly.graph_objects as go\n",
        "\n",
        "N = 50\n",
        "N_test = 2*N\n",
        "\n",
        "np.random.seed(42)\n",
        "x = 2.0*(np.random.rand(N)-0.5)\n",
        "eps = (1/5)*np.random.randn(N)\n",
        "y = np.cos((3/2)*np.pi*x) + eps\n",
        "\n",
        "np.random.seed(0)\n",
        "x_test = 2.0*(np.random.rand(N_test)-0.5)\n",
        "eps_test = (1/5)*np.random.randn(N_test)\n",
        "y_test = np.cos((3/2)*np.pi*x_test) + eps_test\n",
        "\n",
        "plt.scatter(x,y, label='train')\n",
        "plt.scatter(x_test,y_test, label = 'test')\n",
        "plt.ylim([-1.5,2.0])\n",
        "plt.legend()"
      ]
    },
    {
      "cell_type": "markdown",
      "source": [
        "# Live demo\n",
        "Making a numpy array from a list of vectors.\n",
        "Points along the unit circle.\n"
      ],
      "metadata": {
        "id": "bbfXlRDoHJEc"
      }
    },
    {
      "cell_type": "code",
      "source": [
        "import matplotlib.patches as patches\n",
        "\n",
        "# YOUR CODE GOES HERE\n",
        "\n",
        "\n",
        "plt.figure()\n",
        "ax = plt.gca()\n",
        "circle = patches.Circle((0, 0), radius=1, edgecolor='blue', fill=False, label='Unit Circle')\n",
        "\n",
        "\n",
        "ax.add_patch(circle)\n",
        "plt.xlim([-2,2])\n",
        "plt.ylim([-2,2])\n",
        "ax.set_aspect('equal', adjustable='box')\n",
        "\n"
      ],
      "metadata": {
        "id": "FmrnSuH1HRrm"
      },
      "execution_count": null,
      "outputs": []
    },
    {
      "cell_type": "markdown",
      "source": [
        "# Exercise 3.a\n",
        "\n",
        "1. Make the polynomial feature map of degree `37`.\n",
        "2. Create `Xtilde` and `Xtilde_test` matrices."
      ],
      "metadata": {
        "id": "dc7b1nJtIDVE"
      }
    },
    {
      "cell_type": "code",
      "source": [
        "def polynomial_feature_map_(x,degree):\n",
        "  return [x**d for d in range(degree+1)]\n",
        "\n",
        "def polynomial_feature_map(x_array,degree):\n",
        "  return np.array([polynomial_feature_map_(x_array[i],degree) for i in range(len(x_array))])\n",
        "\n",
        "deg = 37\n",
        "\n",
        "Xtilde = polynomial_feature_map(x, deg)\n",
        "Xtilde_test = polynomial_feature_map(x_test, deg)"
      ],
      "metadata": {
        "id": "8tkKH3DW8clo"
      },
      "execution_count": null,
      "outputs": []
    },
    {
      "cell_type": "markdown",
      "source": [
        "# Make a \"bad\" guess for `w`\n"
      ],
      "metadata": {
        "id": "aby1zbikf-Vf"
      }
    },
    {
      "cell_type": "code",
      "source": [
        "w0 = np.ones(deg+1) # bad guess for w\n",
        "\n",
        "x_grid = np.linspace(-1,1)\n",
        "Xtilde_grid = polynomial_feature_map(x_grid,deg)\n",
        "\n",
        "plt.plot(x_grid, Xtilde_grid@w0, color ='r')\n",
        "plt.scatter(x,y)\n",
        "plt.ylim([-1.5,2.0])"
      ],
      "metadata": {
        "id": "jChDCzG1fAmk"
      },
      "execution_count": null,
      "outputs": []
    },
    {
      "cell_type": "markdown",
      "source": [
        "# Exercise 3.b\n",
        "Compute `w_star`"
      ],
      "metadata": {
        "id": "Ki3s35KSVits"
      }
    },
    {
      "cell_type": "code",
      "source": [
        "# delete the line below in the student version\n",
        "w_star = np.linalg.pinv(Xtilde.T @ Xtilde) @ (Xtilde.T @ y)\n",
        "\n",
        "plt.plot(x_grid, Xtilde_grid@w_star, color ='r')\n",
        "plt.scatter(x,y)\n",
        "plt.ylim([-1.5,2.0])"
      ],
      "metadata": {
        "id": "HCH69Pt6Ba5F"
      },
      "execution_count": null,
      "outputs": []
    },
    {
      "cell_type": "code",
      "source": [
        "plt.plot(x_grid, Xtilde_grid@w_star, color ='r')\n",
        "plt.scatter(x_test,y_test)\n",
        "plt.ylim([-1.5,2.0])"
      ],
      "metadata": {
        "id": "Y0VG_j9DRzxM"
      },
      "execution_count": null,
      "outputs": []
    },
    {
      "cell_type": "markdown",
      "source": [
        "# Exercise 3.c\n",
        "\n",
        "Compute $\\nabla_{\\mathbf{w}} J(\\mathbf{w})$"
      ],
      "metadata": {
        "id": "1HqSX9gCV-Kj"
      }
    },
    {
      "cell_type": "code",
      "source": [
        "step_size=1e-4\n",
        "\n",
        "def dJdw(w):\n",
        "  pass # delete this line\n",
        "  # YOUR CODE GOES HERE\n",
        "\n",
        "  # return grad_w\n",
        "\n",
        "# DELETE IN STUDENT VERSION\n",
        "def dJdw(w):\n",
        "  grad_w = (2/N)*((Xtilde.T @ Xtilde @ w) - Xtilde.T @ y)\n",
        "  return grad_w\n",
        "\n",
        "w1 = w0 - step_size*dJdw(w0)\n",
        "\n",
        "\n",
        "\n",
        "plt.plot(x_grid, Xtilde_grid@w1, color ='r')\n",
        "plt.scatter(x,y)\n",
        "plt.ylim([-1.5,2.0])"
      ],
      "metadata": {
        "id": "Ii75Xviar-Uj"
      },
      "execution_count": null,
      "outputs": []
    },
    {
      "cell_type": "code",
      "source": [
        "def J(w):\n",
        "    return np.mean((y - Xtilde@w)**2)\n",
        "def J_test(w):\n",
        "    return np.mean((y_test - Xtilde_test@w)**2)\n"
      ],
      "metadata": {
        "id": "WhuRYMoqSNjr"
      },
      "execution_count": null,
      "outputs": []
    },
    {
      "cell_type": "code",
      "source": [
        "w_list = [w0] # list of the w's\n",
        "\n",
        "mse_list = [J(w0)]\n",
        "mse_test_list = [J_test(w0)]\n",
        "\n",
        "num_steps = 10000\n",
        "step_size = 1e-1\n",
        "for t in range(num_steps):\n",
        "  w = w_list[-1]\n",
        "\n",
        "\n",
        "  grad_w = dJdw(w)\n",
        "\n",
        "  w_next = w - step_size * grad_w\n",
        "  mse_list.append(J(w_next))\n",
        "  mse_test_list.append(J_test(w_next))\n",
        "\n",
        "  w_list.append(w_next)\n",
        "\n",
        "\n",
        "w_final = w_list[-1]\n",
        "plt.plot(x_grid, Xtilde_grid@w_final, color ='r')\n",
        "plt.scatter(x,y)\n",
        "plt.ylim([-1.5,2.0])"
      ],
      "metadata": {
        "id": "c1qzdo_7ipaO"
      },
      "execution_count": null,
      "outputs": []
    },
    {
      "cell_type": "code",
      "source": [
        "plt.semilogx(mse_list,label='train MSE (w_t)')\n",
        "plt.semilogx(mse_test_list,label='test MSE (w_t)')\n",
        "plt.axhline(J(w_star), linestyle=\":\", label = 'train MSE (w_star)')\n",
        "plt.axhline(J_test(w_star), linestyle=\"-.\", label = 'test MSE (w_star)')\n",
        "\n",
        "plt.legend()"
      ],
      "metadata": {
        "id": "1JxQ_uTYIb0k"
      },
      "execution_count": null,
      "outputs": []
    }
  ]
}