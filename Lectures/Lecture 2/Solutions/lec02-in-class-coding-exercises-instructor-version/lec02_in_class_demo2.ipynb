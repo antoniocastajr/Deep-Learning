{
  "nbformat": 4,
  "nbformat_minor": 0,
  "metadata": {
    "colab": {
      "provenance": []
    },
    "kernelspec": {
      "name": "python3",
      "display_name": "Python 3"
    },
    "language_info": {
      "name": "python"
    }
  },
  "cells": [
    {
      "cell_type": "code",
      "execution_count": null,
      "metadata": {
        "id": "5x04vZrrl_or"
      },
      "outputs": [],
      "source": [
        "import numpy as np\n",
        "import matplotlib.pyplot as plt\n",
        "\n",
        "N = 100\n",
        "x = np.sqrt(20)*np.random.randn(N)\n",
        "eps = (1/10)*np.random.randn(N)\n",
        "\n",
        "b1_star = -2.0\n",
        "b2_star = -4.0\n",
        "\n",
        "def relu(z):\n",
        "    return np.maximum(0, z)\n",
        "\n",
        "y = relu(x + b1_star) - relu(x + b2_star) + eps\n",
        "\n",
        "x_grid = np.linspace(-10, 10, 100)\n",
        "y_grid = relu(x_grid + b1_star) - relu(x_grid + b2_star)\n",
        "\n",
        "plt.plot(x_grid, y_grid, color='r', label='Model')\n",
        "plt.scatter(x, y, label='Training samples')\n",
        "plt.xlabel('x')\n",
        "plt.ylabel('y')\n",
        "plt.legend()\n",
        "\n",
        "plt.show()\n"
      ]
    },
    {
      "cell_type": "code",
      "source": [
        "b1 = 5.0\n",
        "b2 = 4.0\n",
        "x_grid = np.linspace(-10, 10, 100)\n",
        "y_grid = relu(x_grid + b1) - relu(x_grid + b2)\n",
        "\n",
        "\n",
        "# x_grid = np.linspace(-2,2)\n",
        "plt.plot(x_grid, y_grid, color='r', label='Model')\n",
        "plt.scatter(x, y, label='Training samples')\n",
        "plt.xlabel('x')\n",
        "plt.ylabel('y')\n",
        "plt.legend()\n",
        "\n",
        "plt.show()\n"
      ],
      "metadata": {
        "id": "dmJx37nXsnxE"
      },
      "execution_count": null,
      "outputs": []
    },
    {
      "cell_type": "code",
      "source": [
        "import numpy as np\n",
        "import plotly.graph_objects as go\n",
        "\n",
        "\n",
        "def J(b1, b2):\n",
        "    predictions = relu(x + b1) - relu(x - b2)\n",
        "    mse = (1/N) * np.sum((y - predictions) ** 2)\n",
        "    return mse\n",
        "\n",
        "def plot_J_surface(x, y, alpha=1.0):\n",
        "    b1_values = np.linspace(-6, 6, 100)\n",
        "    b2_values = np.linspace(-6, 6, 100)\n",
        "    B1, B2 = np.meshgrid(b1_values, b2_values)\n",
        "\n",
        "    Z = np.array([[J(b1, b2) for b1 in b1_values] for b2 in b2_values])\n",
        "\n",
        "    fig = go.Figure(data=[go.Surface(z=Z, x=b1_values, y=b2_values, opacity=alpha)])\n",
        "\n",
        "    fig.update_layout(title='J(b1, b2) surface plot',\n",
        "                      scene=dict(xaxis_title='b1',\n",
        "                                 yaxis_title='b2',\n",
        "                                 zaxis_title='MSE'),\n",
        "                      width=800, height=600)\n",
        "\n",
        "    return fig\n",
        "\n",
        "def plot_line_segment(fig, b1_1, b2_1, b1_2, b2_2, color='blue'):\n",
        "    mse1 = J(b1_1, b2_1)\n",
        "    mse2 = J(b1_2, b2_2)\n",
        "\n",
        "    fig.add_trace(go.Scatter3d(x=[b1_1, b1_2], y=[b2_1, b2_2], z=[mse1, mse2],\n",
        "                               mode='lines',\n",
        "                               line=dict(color=color, width=2),\n",
        "                               name=f'Line Segment ({b1_1}, {b2_1}) -> ({b1_2}, {b2_2})'))\n",
        "\n",
        "def plot_point(fig, b1, b2, color='red'):\n",
        "    mse = J(b1, b2)\n",
        "    fig.add_trace(go.Scatter3d(x=[b1], y=[b2], z=[mse],\n",
        "                               mode='markers',\n",
        "                               marker=dict(size=5, color=color),\n",
        "                               name=f'Point (b1={b1}, b2={b2})'))\n"
      ],
      "metadata": {
        "id": "5Qk9RztErco5"
      },
      "execution_count": null,
      "outputs": []
    },
    {
      "cell_type": "code",
      "source": [
        "fig = plot_J_surface(x, y,alpha=0.5)\n",
        "plot_point(fig,b1,b2)\n",
        "fig.show()"
      ],
      "metadata": {
        "id": "5sr0NUIwq4rD"
      },
      "execution_count": null,
      "outputs": []
    },
    {
      "cell_type": "code",
      "source": [],
      "metadata": {
        "id": "otuYI1jNsALW"
      },
      "execution_count": null,
      "outputs": []
    }
  ]
}