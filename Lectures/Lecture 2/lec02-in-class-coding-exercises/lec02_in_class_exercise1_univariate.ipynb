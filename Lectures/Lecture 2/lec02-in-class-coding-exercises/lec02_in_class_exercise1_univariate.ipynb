{
  "cells": [
    {
      "cell_type": "markdown",
      "metadata": {
        "id": "6H7gb95PWi3B"
      },
      "source": [
        "# 1-dimensional linear regression\n",
        "\n",
        "Your mission, should you accept it, is to unveil the `secret_numbers`.\n",
        "\n",
        "These numbers have been used to generate samples `x` and labels `y` via the model:\n",
        "\n",
        "$$\n",
        "y = w_{\\star}\\cdot x + b_{\\star}.\n",
        "$$\n",
        "\n",
        "Use linear regression with gradient descent to recover them."
      ]
    },
    {
      "cell_type": "code",
      "execution_count": 1,
      "metadata": {
        "id": "LY7OONWLd4Qj"
      },
      "outputs": [
        {
          "ename": "ModuleNotFoundError",
          "evalue": "No module named 'plotly'",
          "output_type": "error",
          "traceback": [
            "\u001b[1;31m---------------------------------------------------------------------------\u001b[0m",
            "\u001b[1;31mModuleNotFoundError\u001b[0m                       Traceback (most recent call last)",
            "Cell \u001b[1;32mIn[1], line 3\u001b[0m\n\u001b[0;32m      1\u001b[0m \u001b[38;5;28;01mimport\u001b[39;00m \u001b[38;5;21;01mnumpy\u001b[39;00m \u001b[38;5;28;01mas\u001b[39;00m \u001b[38;5;21;01mnp\u001b[39;00m\n\u001b[0;32m      2\u001b[0m \u001b[38;5;28;01mimport\u001b[39;00m \u001b[38;5;21;01mmatplotlib\u001b[39;00m\u001b[38;5;21;01m.\u001b[39;00m\u001b[38;5;21;01mpyplot\u001b[39;00m \u001b[38;5;28;01mas\u001b[39;00m \u001b[38;5;21;01mplt\u001b[39;00m\n\u001b[1;32m----> 3\u001b[0m \u001b[38;5;28;01mimport\u001b[39;00m \u001b[38;5;21;01mplotly\u001b[39;00m\u001b[38;5;21;01m.\u001b[39;00m\u001b[38;5;21;01mgraph_objects\u001b[39;00m \u001b[38;5;28;01mas\u001b[39;00m \u001b[38;5;21;01mgo\u001b[39;00m\n\u001b[0;32m      5\u001b[0m N \u001b[38;5;241m=\u001b[39m \u001b[38;5;241m100\u001b[39m\n\u001b[0;32m      7\u001b[0m np\u001b[38;5;241m.\u001b[39mrandom\u001b[38;5;241m.\u001b[39mseed(\u001b[38;5;241m9819\u001b[39m)\n",
            "\u001b[1;31mModuleNotFoundError\u001b[0m: No module named 'plotly'"
          ]
        }
      ],
      "source": [
        "import numpy as np\n",
        "import matplotlib.pyplot as plt\n",
        "import plotly.graph_objects as go\n",
        "\n",
        "N = 100\n",
        "\n",
        "np.random.seed(9819)\n",
        "\n",
        "# create some \"secret\" parameters w and b that we wish to learn\n",
        "secret_numbers = np.round(100*(1.5*np.random.rand(2)-1)/2)/10\n",
        "w_star = secret_numbers[0]\n",
        "b_star = secret_numbers[1]\n",
        "\n",
        "# don't print them! :)\n",
        "# print((w,b))\n",
        "\n",
        "x = np.random.randn(N)\n",
        "eps = np.random.randn(N)\n",
        "y = w_star*x + b_star + eps\n",
        "\n",
        "plt.scatter(x,y)"
      ]
    },
    {
      "cell_type": "markdown",
      "metadata": {
        "id": "RBNNkiU74rtu"
      },
      "source": [
        "# Functions for plotting"
      ]
    },
    {
      "cell_type": "code",
      "execution_count": null,
      "metadata": {
        "id": "FiSdPoF6r7Yk"
      },
      "outputs": [],
      "source": [
        "def plot_J_surface(x, y,alpha=1.0):\n",
        "    w_values = np.linspace(-6, 1, 100)\n",
        "    b_values = np.linspace(-1, 6, 100)\n",
        "    W, B = np.meshgrid(w_values, b_values)\n",
        "\n",
        "    Z = np.array([[J(w, b) for w in w_values] for b in b_values])\n",
        "\n",
        "    fig = go.Figure(data=[go.Surface(z=Z, x=w_values, y=b_values,opacity=alpha)])\n",
        "\n",
        "    fig.update_layout(title='J(w, b) surface plot',\n",
        "                      scene=dict(xaxis_title='w',\n",
        "                                 yaxis_title='b',\n",
        "                                 zaxis_title='MSE') ,\n",
        "                      width=800, height=600)\n",
        "\n",
        "    return fig\n",
        "\n",
        "def plot_line_segment(fig, w1, b1, w2, b2, color='blue'):\n",
        "    mse1 = J(w1, b1)\n",
        "    mse2 = J(w2, b2)\n",
        "\n",
        "    fig.add_trace(go.Scatter3d(x=[w1, w2], y=[b1, b2], z=[mse1, mse2],\n",
        "                               mode='lines',\n",
        "                               line=dict(color=color, width=2),\n",
        "                               name=f'Line Segment ({w1}, {b1}) -> ({w2}, {b2})'))\n",
        "\n",
        "\n",
        "def plot_point(fig, w, b, color='red'):\n",
        "    mse = J(w, b)\n",
        "    fig.add_trace(go.Scatter3d(x=[w], y=[b], z=[mse],\n",
        "                               mode='markers',\n",
        "                               marker=dict(size=5, color=color),\n",
        "                               name=f'Point (w={w}, b={b})'))\n"
      ]
    },
    {
      "cell_type": "markdown",
      "metadata": {
        "id": "aby1zbikf-Vf"
      },
      "source": [
        "# Make a \"bad\" guess what is $w$ and $b$\n"
      ]
    },
    {
      "cell_type": "code",
      "execution_count": null,
      "metadata": {
        "id": "jChDCzG1fAmk"
      },
      "outputs": [],
      "source": [
        "w0 = -4.0\n",
        "b0 = 2.0\n",
        "\n",
        "\n",
        "x_grid = np.linspace(-2,2)\n",
        "plt.plot(x_grid, w0*x_grid + b0, color ='r')\n",
        "plt.scatter(x,y)"
      ]
    },
    {
      "cell_type": "markdown",
      "metadata": {
        "id": "xNYHmnh24rtu"
      },
      "source": [
        "# Exercise 1.a\n",
        "\n",
        "Implement the training means squared error."
      ]
    },
    {
      "cell_type": "code",
      "execution_count": null,
      "metadata": {
        "id": "Ii75Xviar-Uj"
      },
      "outputs": [],
      "source": [
        "\n",
        "def J(w, b):\n",
        "    pass\n",
        "    # YOUR CODE GOES HERE\n",
        "    # return mse\n"
      ]
    },
    {
      "cell_type": "markdown",
      "metadata": {
        "id": "9ic_-GOW4rtv"
      },
      "source": [
        "# Exercise 1.b\n",
        "\n",
        "Implement the partial derivative of `J` w.r.t `w` and `b`"
      ]
    },
    {
      "cell_type": "code",
      "execution_count": null,
      "metadata": {
        "id": "c1qzdo_7ipaO"
      },
      "outputs": [],
      "source": [
        "def dJdw(w, b):\n",
        "    pass # delete this line\n",
        "    # YOUR CODE GOES HERE\n",
        "    # return grad_w\n",
        "\n",
        "\n",
        "def dJdb(w, b):\n",
        "    pass # delete this line\n",
        "    # YOUR CODE GOES HERE\n",
        "    # return grad_b\n",
        "\n"
      ]
    },
    {
      "cell_type": "markdown",
      "metadata": {
        "id": "pr8p6Z1t4rtv"
      },
      "source": [
        "# Exercise 1.c\n",
        "Implement the gradient descent algorithm with constant step size = 1/4"
      ]
    },
    {
      "cell_type": "code",
      "execution_count": null,
      "metadata": {
        "id": "ehdIJJ5nswMe"
      },
      "outputs": [],
      "source": [
        "step_size=(1/4)\n",
        "w,b = w0,b0\n",
        "\n",
        "\n",
        "# YOUR GRADIENT DESCENT ALGORITHM GOES HERE\n",
        "\n",
        "w1 = None # CHANGE THIS TO THE ACTUAL UPDATE\n",
        "b1 = None # CHANGE THIS TO THE ACTUAL UPDATE\n",
        "\n",
        "\n"
      ]
    },
    {
      "cell_type": "markdown",
      "metadata": {
        "id": "KJ9ayp6-4rtv"
      },
      "source": [
        "# Visualizing your solution to Exercise 1.c"
      ]
    },
    {
      "cell_type": "code",
      "execution_count": null,
      "metadata": {
        "id": "5fxiDDPgs9NU",
        "scrolled": true
      },
      "outputs": [],
      "source": [
        "plt.plot(x_grid, w1*x_grid + b1, color ='r')\n",
        "plt.scatter(x,y)"
      ]
    },
    {
      "cell_type": "code",
      "execution_count": null,
      "metadata": {
        "id": "O0CkH_mXgfdW"
      },
      "outputs": [],
      "source": [
        "fig = plot_J_surface(x, y,alpha=0.5)\n",
        "\n",
        "plot_point(fig, w0, b0,color='red')\n",
        "plot_point(fig, w1, b1,color='blue')\n",
        "\n",
        "plot_line_segment(fig, w0, b0, w1, b1, color='black')\n",
        "\n",
        "fig.update_layout(showlegend=False)\n",
        "\n",
        "fig.show()"
      ]
    },
    {
      "cell_type": "markdown",
      "metadata": {
        "id": "3NK-9SG34rtv"
      },
      "source": [
        "# Exercise 1.d\n",
        "Run your solution from exercise 1.c for 10 iterations with constant step size = 1/4.\n",
        "\n",
        "Store the iterates in `w_list` and `b_list`."
      ]
    },
    {
      "cell_type": "code",
      "execution_count": null,
      "metadata": {
        "id": "HxBpAiUVm1Bc"
      },
      "outputs": [],
      "source": [
        "w_list = [w0] # list of the w's, initialized to just be a single element\n",
        "b_list = [b0] # list of the b's\n",
        "\n",
        "num_steps = 100\n",
        "step_size = (1/4)\n",
        "\n",
        "for t in range(num_steps):\n",
        "    pass # DELETE THIS\n",
        "    # YOUR CODE GOES HERE\n",
        "\n",
        "\n",
        "\n",
        "\n",
        "print(\"final iterate:\", w_list[-1], b_list[-1])\n",
        "print(\"secret numbers:\", w_star, b_star)"
      ]
    },
    {
      "cell_type": "markdown",
      "metadata": {
        "id": "Op0d4-xn4rtw"
      },
      "source": [
        "# Visualizing your solution to Exercise 1.c"
      ]
    },
    {
      "cell_type": "code",
      "execution_count": null,
      "metadata": {
        "id": "yPoYs14wnKoG"
      },
      "outputs": [],
      "source": [
        "fig = plot_J_surface(x, y,alpha=.5)\n",
        "\n",
        "def generate_color_spectrum(n):\n",
        "    cmap = plt.get_cmap('hot')\n",
        "    colors = [cmap(i / n) for i in range(n)]\n",
        "    return colors\n",
        "colors = generate_color_spectrum(len(w_list))\n",
        "\n",
        "for i in range(len(w_list) - 1):\n",
        "    plot_point(fig, w_list[i], b_list[i], color=colors[i])\n",
        "    plot_line_segment(fig, w_list[i], b_list[i], w_list[i + 1], b_list[i + 1], color=colors[i])\n",
        "\n",
        "plot_point(fig, w_list[-1], b_list[-1], color=colors[-1])\n",
        "\n",
        "\n",
        "fig.update_layout(showlegend=False)\n",
        "\n",
        "fig.show()"
      ]
    }
  ],
  "metadata": {
    "colab": {
      "provenance": []
    },
    "kernelspec": {
      "display_name": "Python 3 (ipykernel)",
      "language": "python",
      "name": "python3"
    },
    "language_info": {
      "codemirror_mode": {
        "name": "ipython",
        "version": 3
      },
      "file_extension": ".py",
      "mimetype": "text/x-python",
      "name": "python",
      "nbconvert_exporter": "python",
      "pygments_lexer": "ipython3",
      "version": "3.12.5"
    }
  },
  "nbformat": 4,
  "nbformat_minor": 0
}
