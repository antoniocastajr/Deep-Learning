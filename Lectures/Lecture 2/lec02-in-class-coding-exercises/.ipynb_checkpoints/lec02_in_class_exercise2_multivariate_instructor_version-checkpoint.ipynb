{
 "cells": [
  {
   "cell_type": "code",
   "execution_count": null,
   "metadata": {
    "id": "LY7OONWLd4Qj"
   },
   "outputs": [],
   "source": [
    "import numpy as np\n",
    "import matplotlib.pyplot as plt\n",
    "import plotly.graph_objects as go\n",
    "\n",
    "N = 100\n",
    "\n",
    "np.random.seed(42)\n",
    "secret_numbers = np.round(100*(1.5*np.random.rand(3)-1)/2)/10\n",
    "\n",
    "w = np.array([secret_numbers[0],secret_numbers[1]])\n",
    "b = secret_numbers[1]\n",
    "x = np.random.randn(N,2)\n",
    "eps = np.sqrt(np.pi)*np.random.randn(N)\n",
    "y = x@w + b + eps"
   ]
  },
  {
   "cell_type": "markdown",
   "metadata": {
    "id": "raez9XOk9Kjy"
   },
   "source": [
    "# Plotting utilities\n",
    "(see below for how to use them)"
   ]
  },
  {
   "cell_type": "code",
   "execution_count": null,
   "metadata": {
    "id": "2L4AHiFTy6ht"
   },
   "outputs": [],
   "source": [
    "def plot_scatter_data():\n",
    "    global x, y\n",
    "    fig = go.Figure(data=[go.Scatter3d(x=x[:, 0], y=x[:, 1], z=y, mode='markers', name='Data Points')])\n",
    "\n",
    "    fig.update_layout(title='3D Scatter Plot',\n",
    "                      scene=dict(\n",
    "                          xaxis_title='Feature 1 (x1)',\n",
    "                          yaxis_title='Feature 2 (x2)',\n",
    "                          zaxis_title='Target (y)'))\n",
    "    return fig\n",
    "\n",
    "def plot_plane(fig, w, b,alpha=0.5):\n",
    "    global x\n",
    "\n",
    "    x_range = np.linspace(x[:, 0].min(), x[:, 0].max(), 10)\n",
    "    y_range = np.linspace(x[:, 1].min(), x[:, 1].max(), 10)\n",
    "    X_plane, Y_plane = np.meshgrid(x_range, y_range)\n",
    "\n",
    "    Z_plane = w[0] * X_plane + w[1] * Y_plane + b\n",
    "\n",
    "    fig.add_trace(go.Surface(x=X_plane, y=Y_plane, z=Z_plane, name='Regression Plane', opacity=alpha))"
   ]
  },
  {
   "cell_type": "markdown",
   "metadata": {
    "id": "KigE7inA9P6D"
   },
   "source": [
    "# Make a \"random\" guess of the parameters"
   ]
  },
  {
   "cell_type": "code",
   "execution_count": null,
   "metadata": {
    "id": "VvopwnnVysqd"
   },
   "outputs": [],
   "source": [
    "w0 = np.array([1,1])\n",
    "b0 = 1\n",
    "fig = plot_scatter_data()\n",
    "plot_plane(fig, w0, b0)\n",
    "fig.show()"
   ]
  },
  {
   "cell_type": "markdown",
   "metadata": {
    "id": "bQKxm8t3_ssv"
   },
   "source": [
    "# Live demo"
   ]
  },
  {
   "cell_type": "markdown",
   "metadata": {
    "id": "AIvR_oV7AwfU"
   },
   "source": [
    "## Creating vectors"
   ]
  },
  {
   "cell_type": "code",
   "execution_count": null,
   "metadata": {
    "id": "_AHZIBAPAx9E"
   },
   "outputs": [],
   "source": [
    "v = np.array([0,1,2,3,4,5])"
   ]
  },
  {
   "cell_type": "markdown",
   "metadata": {
    "id": "3di2UVV5A4uk"
   },
   "source": [
    "## Slicing vectors"
   ]
  },
  {
   "cell_type": "code",
   "execution_count": null,
   "metadata": {
    "id": "mPw7gkf6A3lW"
   },
   "outputs": [],
   "source": [
    "# 1 through 3"
   ]
  },
  {
   "cell_type": "markdown",
   "metadata": {
    "id": "A8QUIwigBLUL"
   },
   "source": [
    "## Slicing off the end"
   ]
  },
  {
   "cell_type": "code",
   "execution_count": null,
   "metadata": {
    "id": "VUl-wgF7BOFz"
   },
   "outputs": [],
   "source": [
    "# drop the last guy"
   ]
  },
  {
   "cell_type": "markdown",
   "metadata": {
    "id": "8YpI0LYJCTwY"
   },
   "source": [
    "## Concatenation\n",
    "(make `[0,1,4,5]` using `v` and slicing)"
   ]
  },
  {
   "cell_type": "code",
   "execution_count": null,
   "metadata": {
    "id": "yiebOpxmCS7y"
   },
   "outputs": [],
   "source": []
  },
  {
   "cell_type": "markdown",
   "metadata": {
    "id": "1Ab4UjJqBBF-"
   },
   "source": [
    "## Vector of length 1 versus accessing the entry of the vector"
   ]
  },
  {
   "cell_type": "code",
   "execution_count": null,
   "metadata": {
    "id": "SuPV6JzABXWy"
   },
   "outputs": [],
   "source": []
  },
  {
   "cell_type": "markdown",
   "metadata": {
    "id": "wIZR2ecG_1xM"
   },
   "source": [
    "## Creating matrices"
   ]
  },
  {
   "cell_type": "code",
   "execution_count": null,
   "metadata": {
    "id": "dYWvcJB9_ryR"
   },
   "outputs": [],
   "source": [
    "A = np.array([[1,2], [3,4]])\n",
    "\n",
    "# implement this\n",
    "# B = [[5,6]\n",
    "#      [7,8]]\n",
    "\n",
    "B = None"
   ]
  },
  {
   "cell_type": "markdown",
   "metadata": {
    "id": "GO4S1IH_BbSy"
   },
   "source": [
    "## Transpose of a matrix"
   ]
  },
  {
   "cell_type": "code",
   "execution_count": null,
   "metadata": {
    "id": "lTGQZuIyBanN"
   },
   "outputs": [],
   "source": []
  },
  {
   "cell_type": "markdown",
   "metadata": {
    "id": "_lXzsXFaAPHE"
   },
   "source": [
    "## Creating constant matrices"
   ]
  },
  {
   "cell_type": "code",
   "execution_count": null,
   "metadata": {
    "id": "qXHJDFE3AQoo"
   },
   "outputs": [],
   "source": [
    "C = np.ones(shape=(2,3)) # also np.zeros\n",
    "C"
   ]
  },
  {
   "cell_type": "markdown",
   "metadata": {
    "id": "Rz8yxBV9__h6"
   },
   "source": [
    "## Stacking matrices horizontally"
   ]
  },
  {
   "cell_type": "code",
   "execution_count": null,
   "metadata": {
    "id": "Kmd6u8I2AE65"
   },
   "outputs": [],
   "source": [
    "D = np.hstack([A,C])"
   ]
  },
  {
   "cell_type": "markdown",
   "metadata": {
    "id": "Pml-G1KTBgLL"
   },
   "source": [
    "## How about vertically?"
   ]
  },
  {
   "cell_type": "code",
   "execution_count": null,
   "metadata": {
    "id": "YQMnECbJAgZb"
   },
   "outputs": [],
   "source": [
    "np.vstack([A,C])"
   ]
  },
  {
   "cell_type": "markdown",
   "metadata": {
    "id": "R6XZfVcrBnJT"
   },
   "source": [
    "## Matrix-vector multiplication"
   ]
  },
  {
   "cell_type": "code",
   "execution_count": null,
   "metadata": {
    "id": "K9mjZrTCBrUt"
   },
   "outputs": [],
   "source": [
    "# A times [1;2]"
   ]
  },
  {
   "cell_type": "markdown",
   "metadata": {
    "id": "RIKF396LB0bS"
   },
   "source": [
    "## Matrix-matrix multiplication"
   ]
  },
  {
   "cell_type": "code",
   "execution_count": null,
   "metadata": {
    "id": "nW-ekZBVB5Y6"
   },
   "outputs": [],
   "source": [
    "A@C.T"
   ]
  },
  {
   "cell_type": "markdown",
   "metadata": {
    "id": "YOcFqV1u96U4"
   },
   "source": [
    "# Exercise 2.a\n",
    "\n",
    "\n",
    "Implement a single gradient descent update with step size = 1/10"
   ]
  },
  {
   "cell_type": "code",
   "execution_count": null,
   "metadata": {
    "id": "2aenET8Uz8Oz"
   },
   "outputs": [],
   "source": [
    "\n",
    "\n",
    "def pack(w,b):\n",
    "  pass # delete this line\n",
    "  # YOUR CODE HERE\n",
    "  # return theta\n",
    "\n",
    "# delete in student version\n",
    "def pack(w,b):\n",
    "  theta = np.concatenate([w, np.array([b])])\n",
    "  return theta\n",
    "\n",
    "\n",
    "def unpack(theta):\n",
    "  pass # delete this line\n",
    "  # YOUR CODE HERE\n",
    "  # return w,b\n",
    "\n",
    "# delete in student version\n",
    "def unpack(theta):\n",
    "  w = theta[:-1]\n",
    "  b = theta[-1]\n",
    "  return w,b\n",
    "\n",
    "\n"
   ]
  },
  {
   "cell_type": "markdown",
   "metadata": {
    "id": "SEnHvpqXDAnq"
   },
   "source": [
    "# Exercise 2.b\n",
    "Implement gradient descent using linear algebra"
   ]
  },
  {
   "cell_type": "code",
   "execution_count": null,
   "metadata": {
    "id": "xy9JOKijC_Hp"
   },
   "outputs": [],
   "source": [
    "step_size=0.1\n",
    "\n",
    "theta0 = pack(w0,b0)\n",
    "\n",
    "theta1 = None # delete this line\n",
    "\n",
    "# DELETE THIS IN STUDENT VERSION\n",
    "Xtilde = np.hstack([x,np.ones(shape=(N,1))])\n",
    "grad_theta = (2/N)*(Xtilde.T @ Xtilde @ theta0 - Xtilde.T @ y)\n",
    "theta1 = theta0 - step_size*grad_theta\n",
    "# END DELETE\n",
    "\n",
    "\n",
    "w1,b1 = unpack(theta1)\n"
   ]
  },
  {
   "cell_type": "markdown",
   "metadata": {
    "id": "u2LvsVUgDMR8"
   },
   "source": [
    "# Visualize your solution"
   ]
  },
  {
   "cell_type": "code",
   "execution_count": null,
   "metadata": {
    "id": "KfgxjArq_U_F"
   },
   "outputs": [],
   "source": [
    "\n",
    "fig = plot_scatter_data()\n",
    "\n",
    "plot_plane(fig, w1, b1)\n",
    "fig.show()"
   ]
  },
  {
   "cell_type": "markdown",
   "metadata": {
    "id": "u48_DSuu93Mw"
   },
   "source": [
    "# Exercise 2.c\n",
    "\n",
    "1. Implement the mse function `J(theta)`\n",
    "2. Run 100 iterations of gradient descent with step size = 1/10\n",
    "3. Plot `J(theta_list[t])` with `t` on the x-axis\n",
    "4. Why is the value `J(theta_list[-1])` close to `pi`?"
   ]
  },
  {
   "cell_type": "code",
   "execution_count": null,
   "metadata": {
    "id": "5fxiDDPgs9NU"
   },
   "outputs": [],
   "source": [
    "def J(theta):\n",
    "    return np.mean((y - Xtilde@theta)**2)\n",
    "\n",
    "step_size=1/10\n",
    "\n",
    "theta0 = pack(w0,b0)\n",
    "theta_list = [theta0]\n",
    "mse_list = [J(theta0)]\n",
    "w_list = [w0]\n",
    "b_list = [b0]\n",
    "\n",
    "for t in range(100):\n",
    "    pass\n",
    "    # YOUR CODE GOES HERE\n",
    "\n",
    "    # DELETE THIS IN THE STUDENT VERSEION\n",
    "    theta = theta_list[-1]\n",
    "\n",
    "    Xtilde = np.hstack([x,np.ones(shape=(N,1))])\n",
    "    grad_theta = (2/N)*(Xtilde.T @ Xtilde @ theta - Xtilde.T @ y)\n",
    "\n",
    "    theta_next = theta - step_size*grad_theta\n",
    "\n",
    "    w,b = unpack(theta_next)\n",
    "    mse = J(theta_next)\n",
    "    # END DELETE\n",
    "\n",
    "    theta_list.append(theta_next)\n",
    "    w_list.append(w)\n",
    "    b_list.append(b)\n",
    "    mse_list.append(mse)\n",
    "\n",
    "plt.plot(mse_list)\n",
    "\n",
    "plt.axhline(np.pi, color='k', linestyle=\":\")\n"
   ]
  },
  {
   "cell_type": "markdown",
   "metadata": {
    "id": "ssW0DKWBNqLB"
   },
   "source": [
    "# Exercise 2.d\n",
    "\n",
    "1. Create a new batch of testing data called `x_test` and `y_test`\n",
    "2. Define `J_test`\n",
    "3. Plot them together"
   ]
  },
  {
   "cell_type": "code",
   "execution_count": null,
   "metadata": {
    "id": "ouuS3JkDMSe5"
   },
   "outputs": [],
   "source": [
    "np.random.seed(43)\n",
    "N_test = 10*N\n",
    "x_test = None\n",
    "y_test = None\n",
    "\n",
    "# YOUR CODE GOES HERE\n",
    "# Hint: You should define Xtilde_test\n",
    "\n",
    "# delete this in student version\n",
    "x_test = np.random.randn(N_test,2)\n",
    "eps_test = np.sqrt(np.pi)*np.random.randn(N_test)\n",
    "y_test = x_test@w + b + eps_test\n",
    "Xtilde_test = np.hstack([x_test,np.ones(shape=(N_test,1))])\n",
    "# end delete\n",
    "\n",
    "\n",
    "def J_test(theta):\n",
    "    pass # delete this line\n",
    "    # YOUR CODE GOES HERE\n",
    "    return mse_test\n",
    "\n",
    "# delete this in student version\n",
    "def J_test(theta):\n",
    "    return np.mean((y_test - Xtilde_test@theta)**2)\n",
    "\n",
    "\n",
    "mse_test_list = [J_test(theta) for theta in theta_list]\n",
    "\n",
    "plt.plot(mse_list, label='Training MSE')\n",
    "plt.plot(mse_test_list, label='Testing MSE')\n",
    "\n",
    "plt.axhline(np.pi, color='k', linestyle=\":\")\n",
    "plt.legend()"
   ]
  },
  {
   "cell_type": "markdown",
   "metadata": {
    "id": "EKoXBiQMF_j_"
   },
   "source": [
    "# Visualize the models through the training process"
   ]
  },
  {
   "cell_type": "code",
   "execution_count": null,
   "metadata": {
    "id": "lZxBfO-4D_X_"
   },
   "outputs": [],
   "source": [
    "\n",
    "fig = plot_scatter_data()\n",
    "\n",
    "for i in range(6):\n",
    "  plot_plane(fig, w_list[i], b_list[i],alpha=0.6-(6-i-1)*.1)\n",
    "fig.show()"
   ]
  },
  {
   "cell_type": "code",
   "execution_count": null,
   "metadata": {
    "id": "pb0VPOgpE_mJ"
   },
   "outputs": [],
   "source": [
    "\n",
    "fig = plot_scatter_data()\n",
    "\n",
    "for i in range(6):\n",
    "  plot_plane(fig, w_list[i+6], b_list[i+6],alpha=0.6-(6-i-1)*.1)\n",
    "fig.show()"
   ]
  },
  {
   "cell_type": "code",
   "execution_count": null,
   "metadata": {
    "id": "V-NhI7PU9wsn"
   },
   "outputs": [],
   "source": [
    "fig = plot_scatter_data()\n",
    "\n",
    "plot_plane(fig, w_list[-1], b_list[-1])\n",
    "fig.show()"
   ]
  },
  {
   "cell_type": "code",
   "execution_count": null,
   "metadata": {
    "id": "MFZ0SWTOK3Ab"
   },
   "outputs": [],
   "source": []
  }
 ],
 "metadata": {
  "colab": {
   "collapsed_sections": [
    "EKoXBiQMF_j_"
   ],
   "provenance": []
  },
  "kernelspec": {
   "display_name": "Python 3 (ipykernel)",
   "language": "python",
   "name": "python3"
  },
  "language_info": {
   "codemirror_mode": {
    "name": "ipython",
    "version": 3
   },
   "file_extension": ".py",
   "mimetype": "text/x-python",
   "name": "python",
   "nbconvert_exporter": "python",
   "pygments_lexer": "ipython3",
   "version": "3.10.10"
  }
 },
 "nbformat": 4,
 "nbformat_minor": 1
}
