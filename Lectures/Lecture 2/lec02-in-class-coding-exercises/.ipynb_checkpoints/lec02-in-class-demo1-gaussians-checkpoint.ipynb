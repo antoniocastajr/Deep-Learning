{
 "cells": [
  {
   "cell_type": "code",
   "execution_count": null,
   "id": "7aa4ed24",
   "metadata": {},
   "outputs": [],
   "source": [
    "import matplotlib.pyplot as plt\n",
    "import numpy as np\n",
    "\n",
    "N = 10000\n",
    "\n",
    "mu = np.pi\n",
    "sigma = 0.42\n",
    "x = sigma*np.random.randn(N) + mu\n",
    "\n",
    "_ = plt.hist(x,bins=100)\n",
    "\n",
    "plt.axvline(x=mu,color='red')\n",
    "plt.axvline(x=mu+sigma,color='red',linestyle=':')\n",
    "plt.axvline(x=mu-sigma,color='red',linestyle=':')"
   ]
  },
  {
   "cell_type": "code",
   "execution_count": null,
   "id": "6455355d",
   "metadata": {},
   "outputs": [],
   "source": [
    "np.sum(((x-mu) < sigma) * ((x-mu) > -sigma))/N"
   ]
  },
  {
   "cell_type": "code",
   "execution_count": null,
   "id": "764ec418",
   "metadata": {},
   "outputs": [],
   "source": [
    "N = 1000\n",
    "mu = np.array([1,2])\n",
    "sigma = 0.42\n",
    "\n",
    "x = sigma*np.random.randn(N,2) + mu\n",
    "plt.scatter(x[:,0],x[:,1])\n",
    "plt.scatter(mu[0], mu[1], marker='x',color='red', s=1000)"
   ]
  },
  {
   "cell_type": "markdown",
   "id": "720aa960",
   "metadata": {},
   "source": [
    "# Gaussian mixture model"
   ]
  },
  {
   "cell_type": "code",
   "execution_count": null,
   "id": "785cddc6",
   "metadata": {},
   "outputs": [],
   "source": [
    "mu1 = np.array([1,1])\n",
    "mu2 = np.array([-1,0])\n",
    "mu3 = np.array([0,-1])\n",
    "\n",
    "x1 = centroid1 + sigma*np.random.randn(N,2)\n",
    "x2 = centroid2 + sigma*np.random.randn(N,2)\n",
    "x3 = centroid3 + sigma*np.random.randn(N,2)\n",
    "\n",
    "plt.scatter(x1[:,0],x1[:,1])\n",
    "plt.scatter(mu1[0], mu1[1], marker='x',color='red', s=1000)\n",
    "\n",
    "plt.scatter(x2[:,0],x2[:,1])\n",
    "plt.scatter(mu2[0], mu2[1], marker='x',color='red', s=1000)\n",
    "\n",
    "plt.scatter(x3[:,0],x3[:,1])\n",
    "plt.scatter(mu3[0], mu3[1], marker='x',color='red', s=1000)"
   ]
  },
  {
   "cell_type": "code",
   "execution_count": null,
   "id": "fc27b821",
   "metadata": {},
   "outputs": [],
   "source": []
  }
 ],
 "metadata": {
  "kernelspec": {
   "display_name": "Python 3 (ipykernel)",
   "language": "python",
   "name": "python3"
  },
  "language_info": {
   "codemirror_mode": {
    "name": "ipython",
    "version": 3
   },
   "file_extension": ".py",
   "mimetype": "text/x-python",
   "name": "python",
   "nbconvert_exporter": "python",
   "pygments_lexer": "ipython3",
   "version": "3.10.10"
  }
 },
 "nbformat": 4,
 "nbformat_minor": 5
}
