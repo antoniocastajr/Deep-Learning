{
  "nbformat": 4,
  "nbformat_minor": 0,
  "metadata": {
    "colab": {
      "provenance": [],
      "collapsed_sections": [
        "EKoXBiQMF_j_"
      ]
    },
    "kernelspec": {
      "name": "python3",
      "display_name": "Python 3"
    },
    "language_info": {
      "name": "python"
    }
  },
  "cells": [
    {
      "cell_type": "code",
      "execution_count": null,
      "metadata": {
        "id": "LY7OONWLd4Qj"
      },
      "outputs": [],
      "source": [
        "import numpy as np\n",
        "import matplotlib.pyplot as plt\n",
        "import plotly.graph_objects as go\n",
        "\n",
        "N = 100\n",
        "\n",
        "np.random.seed(42)\n",
        "secret_numbers = np.round(100*(1.5*np.random.rand(3)-1)/2)/10\n",
        "\n",
        "w = np.array([secret_numbers[0],secret_numbers[1]])\n",
        "b = secret_numbers[1]\n",
        "x = np.random.randn(N,2)\n",
        "eps = np.sqrt(np.pi)*np.random.randn(N)\n",
        "y = x@w + b + eps"
      ]
    },
    {
      "cell_type": "markdown",
      "source": [
        "# Plotting utilities\n",
        "(see below for how to use them)"
      ],
      "metadata": {
        "id": "raez9XOk9Kjy"
      }
    },
    {
      "cell_type": "code",
      "source": [
        "def plot_scatter_data():\n",
        "    global x, y\n",
        "    fig = go.Figure(data=[go.Scatter3d(x=x[:, 0], y=x[:, 1], z=y, mode='markers', name='Data Points')])\n",
        "\n",
        "    fig.update_layout(title='3D Scatter Plot',\n",
        "                      scene=dict(\n",
        "                          xaxis_title='Feature 1 (x1)',\n",
        "                          yaxis_title='Feature 2 (x2)',\n",
        "                          zaxis_title='Target (y)'))\n",
        "    return fig\n",
        "\n",
        "def plot_plane(fig, w, b,alpha=0.5):\n",
        "    global x\n",
        "\n",
        "    x_range = np.linspace(x[:, 0].min(), x[:, 0].max(), 10)\n",
        "    y_range = np.linspace(x[:, 1].min(), x[:, 1].max(), 10)\n",
        "    X_plane, Y_plane = np.meshgrid(x_range, y_range)\n",
        "\n",
        "    Z_plane = w[0] * X_plane + w[1] * Y_plane + b\n",
        "\n",
        "    fig.add_trace(go.Surface(x=X_plane, y=Y_plane, z=Z_plane, name='Regression Plane', opacity=alpha))"
      ],
      "metadata": {
        "id": "2L4AHiFTy6ht"
      },
      "execution_count": null,
      "outputs": []
    },
    {
      "cell_type": "markdown",
      "source": [
        "# Make a \"random\" guess of the parameters"
      ],
      "metadata": {
        "id": "KigE7inA9P6D"
      }
    },
    {
      "cell_type": "code",
      "source": [
        "w0 = np.array([1,1])\n",
        "b0 = 1\n",
        "fig = plot_scatter_data()\n",
        "plot_plane(fig, w0, b0)\n",
        "fig.show()"
      ],
      "metadata": {
        "id": "VvopwnnVysqd"
      },
      "execution_count": null,
      "outputs": []
    },
    {
      "cell_type": "markdown",
      "source": [
        "# Live demo"
      ],
      "metadata": {
        "id": "bQKxm8t3_ssv"
      }
    },
    {
      "cell_type": "markdown",
      "source": [
        "## Creating vectors"
      ],
      "metadata": {
        "id": "AIvR_oV7AwfU"
      }
    },
    {
      "cell_type": "code",
      "source": [
        "v = np.array([0,1,2,3,4,5])"
      ],
      "metadata": {
        "id": "_AHZIBAPAx9E"
      },
      "execution_count": null,
      "outputs": []
    },
    {
      "cell_type": "markdown",
      "source": [
        "## Slicing vectors"
      ],
      "metadata": {
        "id": "3di2UVV5A4uk"
      }
    },
    {
      "cell_type": "code",
      "source": [
        "# 1 through 3"
      ],
      "metadata": {
        "id": "mPw7gkf6A3lW"
      },
      "execution_count": null,
      "outputs": []
    },
    {
      "cell_type": "markdown",
      "source": [
        "## Slicing off the end"
      ],
      "metadata": {
        "id": "A8QUIwigBLUL"
      }
    },
    {
      "cell_type": "code",
      "source": [
        "# drop the last guy"
      ],
      "metadata": {
        "id": "VUl-wgF7BOFz"
      },
      "execution_count": null,
      "outputs": []
    },
    {
      "cell_type": "markdown",
      "source": [
        "## Concatenation\n",
        "(make `[0,1,4,5]` using `v` and slicing)"
      ],
      "metadata": {
        "id": "8YpI0LYJCTwY"
      }
    },
    {
      "cell_type": "code",
      "source": [],
      "metadata": {
        "id": "yiebOpxmCS7y"
      },
      "execution_count": null,
      "outputs": []
    },
    {
      "cell_type": "markdown",
      "source": [
        "## Vector of length 1 versus accessing the entry of the vector"
      ],
      "metadata": {
        "id": "1Ab4UjJqBBF-"
      }
    },
    {
      "cell_type": "code",
      "source": [],
      "metadata": {
        "id": "SuPV6JzABXWy"
      },
      "execution_count": null,
      "outputs": []
    },
    {
      "cell_type": "markdown",
      "source": [
        "## Creating matrices"
      ],
      "metadata": {
        "id": "wIZR2ecG_1xM"
      }
    },
    {
      "cell_type": "code",
      "source": [
        "A = np.array([[1,2], [3,4]])\n",
        "\n",
        "# implement this\n",
        "# B = [[5,6]\n",
        "#      [7,8]]\n",
        "\n",
        "B = None"
      ],
      "metadata": {
        "id": "dYWvcJB9_ryR"
      },
      "execution_count": null,
      "outputs": []
    },
    {
      "cell_type": "markdown",
      "source": [
        "## Transpose of a matrix"
      ],
      "metadata": {
        "id": "GO4S1IH_BbSy"
      }
    },
    {
      "cell_type": "code",
      "source": [],
      "metadata": {
        "id": "lTGQZuIyBanN"
      },
      "execution_count": null,
      "outputs": []
    },
    {
      "cell_type": "markdown",
      "source": [
        "## Creating constant matrices"
      ],
      "metadata": {
        "id": "_lXzsXFaAPHE"
      }
    },
    {
      "cell_type": "code",
      "source": [
        "C = np.ones(shape=(2,3)) # also np.zeros\n",
        "C"
      ],
      "metadata": {
        "id": "qXHJDFE3AQoo"
      },
      "execution_count": null,
      "outputs": []
    },
    {
      "cell_type": "markdown",
      "source": [
        "## Stacking matrices horizontally"
      ],
      "metadata": {
        "id": "Rz8yxBV9__h6"
      }
    },
    {
      "cell_type": "code",
      "source": [
        "D = np.hstack([A,C])"
      ],
      "metadata": {
        "id": "Kmd6u8I2AE65"
      },
      "execution_count": null,
      "outputs": []
    },
    {
      "cell_type": "markdown",
      "source": [
        "## How about vertically?"
      ],
      "metadata": {
        "id": "Pml-G1KTBgLL"
      }
    },
    {
      "cell_type": "code",
      "source": [
        "np.vstack([A,C])"
      ],
      "metadata": {
        "id": "YQMnECbJAgZb"
      },
      "execution_count": null,
      "outputs": []
    },
    {
      "cell_type": "markdown",
      "source": [
        "## Matrix-vector multiplication"
      ],
      "metadata": {
        "id": "R6XZfVcrBnJT"
      }
    },
    {
      "cell_type": "code",
      "source": [
        "# A times [1;2]"
      ],
      "metadata": {
        "id": "K9mjZrTCBrUt"
      },
      "execution_count": null,
      "outputs": []
    },
    {
      "cell_type": "markdown",
      "source": [
        "## Matrix-matrix multiplication"
      ],
      "metadata": {
        "id": "RIKF396LB0bS"
      }
    },
    {
      "cell_type": "code",
      "source": [
        "A@C.T"
      ],
      "metadata": {
        "id": "nW-ekZBVB5Y6"
      },
      "execution_count": null,
      "outputs": []
    },
    {
      "cell_type": "markdown",
      "source": [
        "# Exercise 2.a\n",
        "\n",
        "\n",
        "Implement a single gradient descent update with step size = 1/10"
      ],
      "metadata": {
        "id": "YOcFqV1u96U4"
      }
    },
    {
      "cell_type": "code",
      "source": [
        "\n",
        "\n",
        "def pack(w,b):\n",
        "  pass # delete this line\n",
        "  # YOUR CODE HERE\n",
        "  # return theta\n",
        "\n",
        "\n",
        "def unpack(theta):\n",
        "  pass # delete this line\n",
        "  # YOUR CODE HERE\n",
        "  # return w,b\n",
        "\n",
        "\n"
      ],
      "metadata": {
        "id": "2aenET8Uz8Oz"
      },
      "execution_count": null,
      "outputs": []
    },
    {
      "cell_type": "markdown",
      "source": [
        "# Exercise 2.b\n",
        "Implement gradient descent using linear algebra"
      ],
      "metadata": {
        "id": "SEnHvpqXDAnq"
      }
    },
    {
      "cell_type": "code",
      "source": [
        "step_size=0.1\n",
        "\n",
        "theta0 = pack(w0,b0)\n",
        "\n",
        "theta1 = None # delete this line\n",
        "# YOUR CODE GOES HERE\n",
        "\n",
        "\n",
        "w1,b1 = unpack(theta1)\n"
      ],
      "metadata": {
        "id": "xy9JOKijC_Hp"
      },
      "execution_count": null,
      "outputs": []
    },
    {
      "cell_type": "markdown",
      "source": [
        "# Visualize your solution"
      ],
      "metadata": {
        "id": "u2LvsVUgDMR8"
      }
    },
    {
      "cell_type": "code",
      "source": [
        "\n",
        "fig = plot_scatter_data()\n",
        "\n",
        "plot_plane(fig, w1, b1)\n",
        "fig.show()"
      ],
      "metadata": {
        "id": "KfgxjArq_U_F"
      },
      "execution_count": null,
      "outputs": []
    },
    {
      "cell_type": "markdown",
      "source": [
        "# Exercise 2.c\n",
        "\n",
        "1. Implement the mse function `J(theta)`\n",
        "2. Run 100 iterations of gradient descent with step size = 1/10\n",
        "3. Plot `J(theta_list[t])` with `t` on the x-axis\n",
        "4. Why is the value `J(theta_list[-1])` close to `pi`?"
      ],
      "metadata": {
        "id": "u48_DSuu93Mw"
      }
    },
    {
      "cell_type": "code",
      "source": [
        "def J(theta):\n",
        "    return np.mean((y - Xtilde@theta)**2)\n",
        "\n",
        "step_size=1/10\n",
        "\n",
        "theta0 = pack(w0,b0)\n",
        "theta_list = [theta0]\n",
        "mse_list = [J(theta0)]\n",
        "w_list = [w0]\n",
        "b_list = [b0]\n",
        "\n",
        "for t in range(100):\n",
        "    pass\n",
        "    # YOUR CODE GOES HERE\n",
        "\n",
        "    theta_list.append(theta_next)\n",
        "    w_list.append(w)\n",
        "    b_list.append(b)\n",
        "    mse_list.append(mse)\n",
        "\n",
        "plt.plot(mse_list)\n",
        "\n",
        "plt.axhline(np.pi, color='k', linestyle=\":\")\n"
      ],
      "metadata": {
        "id": "5fxiDDPgs9NU"
      },
      "execution_count": null,
      "outputs": []
    },
    {
      "cell_type": "markdown",
      "source": [
        "# Exercise 2.d\n",
        "\n",
        "1. Create a new batch of testing data called `x_test` and `y_test`\n",
        "2. Define `J_test`\n",
        "3. Plot them together"
      ],
      "metadata": {
        "id": "ssW0DKWBNqLB"
      }
    },
    {
      "cell_type": "code",
      "source": [
        "np.random.seed(43)\n",
        "N_test = 10*N\n",
        "x_test = None\n",
        "y_test = None\n",
        "\n",
        "# YOUR CODE GOES HERE\n",
        "# Hint: You should define Xtilde_test\n",
        "\n",
        "\n",
        "\n",
        "def J_test(theta):\n",
        "    pass # delete this line\n",
        "    # YOUR CODE GOES HERE\n",
        "    return mse_test\n",
        "\n",
        "\n",
        "\n",
        "mse_test_list = [J_test(theta) for theta in theta_list]\n",
        "\n",
        "plt.plot(mse_list, label='Training MSE')\n",
        "plt.plot(mse_test_list, label='Testing MSE')\n",
        "\n",
        "plt.axhline(np.pi, color='k', linestyle=\":\")\n",
        "plt.legend()"
      ],
      "metadata": {
        "id": "ouuS3JkDMSe5"
      },
      "execution_count": null,
      "outputs": []
    },
    {
      "cell_type": "markdown",
      "source": [
        "# Visualize the models through the training process"
      ],
      "metadata": {
        "id": "EKoXBiQMF_j_"
      }
    },
    {
      "cell_type": "code",
      "source": [
        "\n",
        "fig = plot_scatter_data()\n",
        "\n",
        "for i in range(6):\n",
        "  plot_plane(fig, w_list[i], b_list[i],alpha=0.6-(6-i-1)*.1)\n",
        "fig.show()"
      ],
      "metadata": {
        "id": "lZxBfO-4D_X_"
      },
      "execution_count": null,
      "outputs": []
    },
    {
      "cell_type": "code",
      "source": [
        "\n",
        "fig = plot_scatter_data()\n",
        "\n",
        "for i in range(6):\n",
        "  plot_plane(fig, w_list[i+6], b_list[i+6],alpha=0.6-(6-i-1)*.1)\n",
        "fig.show()"
      ],
      "metadata": {
        "id": "pb0VPOgpE_mJ"
      },
      "execution_count": null,
      "outputs": []
    },
    {
      "cell_type": "code",
      "source": [
        "fig = plot_scatter_data()\n",
        "\n",
        "plot_plane(fig, w_list[-1], b_list[-1])\n",
        "fig.show()"
      ],
      "metadata": {
        "id": "V-NhI7PU9wsn"
      },
      "execution_count": null,
      "outputs": []
    },
    {
      "cell_type": "code",
      "source": [],
      "metadata": {
        "id": "MFZ0SWTOK3Ab"
      },
      "execution_count": null,
      "outputs": []
    }
  ]
}