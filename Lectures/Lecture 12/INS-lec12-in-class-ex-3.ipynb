{
 "cells": [
  {
   "cell_type": "markdown",
   "id": "f24d2959-ca30-48c1-99df-7a491fb258c7",
   "metadata": {},
   "source": [
    "# Online softmax"
   ]
  },
  {
   "cell_type": "code",
   "execution_count": 45,
   "id": "be578a39-1c9c-4cff-825f-08395ecec0ce",
   "metadata": {},
   "outputs": [],
   "source": [
    "import numpy as np\n",
    "np.random.seed(42)"
   ]
  },
  {
   "cell_type": "code",
   "execution_count": 46,
   "id": "02e7234b-bb32-449b-bacd-12021007925e",
   "metadata": {},
   "outputs": [
    {
     "data": {
      "text/plain": [
       "array([0., 0., 0., 0., 0., 0., 0., 0., 0., 0., 0., 0., 0., 0., 0., 0., 0.,\n",
       "       0., 0., 0., 0., 0., 0., 0., 0., 0., 0., 0., 0., 0., 0., 0., 0., 0.,\n",
       "       0., 0., 0., 0., 0., 0., 0., 0., 0., 0., 0., 0., 0., 0., 0., 0., 0.,\n",
       "       0., 0., 0., 0., 0., 0., 0., 0., 0., 0., 0., 0., 0., 0., 0., 0., 0.,\n",
       "       0., 0., 0., 0., 0., 0., 0., 0., 0., 0., 0., 0., 0., 0., 0., 0., 0.,\n",
       "       0., 0., 0., 0., 0., 0., 0., 0., 0., 0., 0., 0., 0., 0., 0.])"
      ]
     },
     "execution_count": 46,
     "metadata": {},
     "output_type": "execute_result"
    }
   ],
   "source": [
    "C = 100\n",
    "\n",
    "s = np.random.rand(C)\n",
    "\n",
    "I1 = np.arange(0, C//2)\n",
    "I2 = np.arange(C//2, C)\n",
    "s1 = s[I1]\n",
    "s2 = s[I2]\n",
    "\n",
    "s - np.hstack([s1,s2]) # make sure we didn't make a silly error"
   ]
  },
  {
   "cell_type": "code",
   "execution_count": 47,
   "id": "35caec29-3d76-47f9-9a44-a13967c35a6a",
   "metadata": {},
   "outputs": [],
   "source": [
    "def softmax(z):\n",
    "    expz = np.exp(z)\n",
    "    normalizer = np.sum(expz)\n",
    "    return expz / normalizer, normalizer"
   ]
  },
  {
   "cell_type": "code",
   "execution_count": 48,
   "id": "cc8df756-b9a1-4dbc-be4a-8c1c2398d6ac",
   "metadata": {},
   "outputs": [
    {
     "data": {
      "text/plain": [
       "array([ 0.13778369, -0.16034761,  0.04310764])"
      ]
     },
     "execution_count": 48,
     "metadata": {},
     "output_type": "execute_result"
    }
   ],
   "source": [
    "C = 100\n",
    "d = 3\n",
    "np.random.seed(42)\n",
    "V = np.random.randn(C, d)\n",
    "\n",
    "p, n = softmax(s)\n",
    "p @ V"
   ]
  },
  {
   "cell_type": "code",
   "execution_count": 49,
   "id": "68228102-3de3-44ed-950d-4da0d44b7ee0",
   "metadata": {},
   "outputs": [],
   "source": [
    "p1, n1 = softmax(s1)\n",
    "O = p1 @ V[I1,:] # not yet correct"
   ]
  },
  {
   "cell_type": "code",
   "execution_count": 50,
   "id": "9a4cc351-3d94-4a31-a26e-aad1fc1f0362",
   "metadata": {},
   "outputs": [
    {
     "data": {
      "text/plain": [
       "array([ 0.13778369, -0.16034761,  0.04310764])"
      ]
     },
     "execution_count": 50,
     "metadata": {},
     "output_type": "execute_result"
    }
   ],
   "source": [
    "p2, n2 = softmax(s2)\n",
    "#   O2 contrib from 2nd block      O1 contrib from 1st\n",
    "O = p2 @ V[I2,:] * (n2/ (n1+n2)) + O * (n1/ (n1+n2))\n",
    "#   update                         previous state\n",
    "\n",
    "O"
   ]
  }
 ],
 "metadata": {
  "kernelspec": {
   "display_name": "Python 3 (ipykernel)",
   "language": "python",
   "name": "python3"
  },
  "language_info": {
   "codemirror_mode": {
    "name": "ipython",
    "version": 3
   },
   "file_extension": ".py",
   "mimetype": "text/x-python",
   "name": "python",
   "nbconvert_exporter": "python",
   "pygments_lexer": "ipython3",
   "version": "3.10.10"
  }
 },
 "nbformat": 4,
 "nbformat_minor": 5
}
