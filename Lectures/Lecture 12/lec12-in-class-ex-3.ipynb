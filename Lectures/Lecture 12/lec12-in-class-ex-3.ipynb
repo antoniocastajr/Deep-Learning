{
 "cells": [
  {
   "cell_type": "markdown",
   "id": "f24d2959-ca30-48c1-99df-7a491fb258c7",
   "metadata": {},
   "source": [
    "# Online softmax"
   ]
  },
  {
   "cell_type": "code",
   "execution_count": 1,
   "id": "be578a39-1c9c-4cff-825f-08395ecec0ce",
   "metadata": {},
   "outputs": [],
   "source": [
    "import numpy as np\n",
    "np.random.seed(42)"
   ]
  },
  {
   "cell_type": "code",
   "execution_count": 2,
   "id": "02e7234b-bb32-449b-bacd-12021007925e",
   "metadata": {},
   "outputs": [
    {
     "data": {
      "text/plain": [
       "array([0., 0., 0., 0., 0., 0., 0., 0., 0., 0., 0., 0., 0., 0., 0., 0., 0.,\n",
       "       0., 0., 0., 0., 0., 0., 0., 0., 0., 0., 0., 0., 0., 0., 0., 0., 0.,\n",
       "       0., 0., 0., 0., 0., 0., 0., 0., 0., 0., 0., 0., 0., 0., 0., 0., 0.,\n",
       "       0., 0., 0., 0., 0., 0., 0., 0., 0., 0., 0., 0., 0., 0., 0., 0., 0.,\n",
       "       0., 0., 0., 0., 0., 0., 0., 0., 0., 0., 0., 0., 0., 0., 0., 0., 0.,\n",
       "       0., 0., 0., 0., 0., 0., 0., 0., 0., 0., 0., 0., 0., 0., 0.])"
      ]
     },
     "execution_count": 2,
     "metadata": {},
     "output_type": "execute_result"
    }
   ],
   "source": [
    "C = 100\n",
    "\n",
    "s = np.random.rand(C)\n",
    "\n",
    "I1 = np.arange(0, C//2)\n",
    "I2 = np.arange(C//2, C)\n",
    "s1 = s[I1]\n",
    "s2 = s[I2]\n",
    "\n",
    "s - np.hstack([s1,s2]) # make sure we didn't make a silly error"
   ]
  },
  {
   "cell_type": "code",
   "execution_count": 3,
   "id": "35caec29-3d76-47f9-9a44-a13967c35a6a",
   "metadata": {},
   "outputs": [],
   "source": [
    "def softmax(z):\n",
    "    expz = np.exp(z)\n",
    "    normalizer = np.sum(expz)\n",
    "    return expz / normalizer, normalizer"
   ]
  },
  {
   "cell_type": "code",
   "execution_count": 4,
   "id": "cc8df756-b9a1-4dbc-be4a-8c1c2398d6ac",
   "metadata": {},
   "outputs": [
    {
     "data": {
      "text/plain": [
       "array([ 0.13778369, -0.16034761,  0.04310764])"
      ]
     },
     "execution_count": 4,
     "metadata": {},
     "output_type": "execute_result"
    }
   ],
   "source": [
    "d = 3\n",
    "np.random.seed(42)\n",
    "V = np.random.randn(C, d)\n",
    "\n",
    "p, n = softmax(s)\n",
    "p @ V"
   ]
  },
  {
   "cell_type": "code",
   "execution_count": 5,
   "id": "68228102-3de3-44ed-950d-4da0d44b7ee0",
   "metadata": {},
   "outputs": [],
   "source": [
    "# block 1\n",
    "p1, n1 = softmax(s1)\n",
    "O = p1 @ V[I1,:]\n",
    "\n",
    "# block 2\n",
    "p2, n2 = softmax(s2)\n",
    "O = None # YOUR CODE HERE\n",
    "O"
   ]
  },
  {
   "cell_type": "code",
   "execution_count": 6,
   "id": "9a4cc351-3d94-4a31-a26e-aad1fc1f0362",
   "metadata": {},
   "outputs": [],
   "source": [
    "\n",
    "# expected output\n",
    "\n",
    "# array([ 0.13778369, -0.16034761,  0.04310764])"
   ]
  }
 ],
 "metadata": {
  "kernelspec": {
   "display_name": "Python 3 (ipykernel)",
   "language": "python",
   "name": "python3"
  },
  "language_info": {
   "codemirror_mode": {
    "name": "ipython",
    "version": 3
   },
   "file_extension": ".py",
   "mimetype": "text/x-python",
   "name": "python",
   "nbconvert_exporter": "python",
   "pygments_lexer": "ipython3",
   "version": "3.12.5"
  }
 },
 "nbformat": 4,
 "nbformat_minor": 5
}
