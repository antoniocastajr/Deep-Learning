{
 "cells": [
  {
   "cell_type": "code",
   "execution_count": null,
   "id": "bf2eb4d3-f79a-435f-ac8e-35156f022c39",
   "metadata": {},
   "outputs": [],
   "source": [
    "import torch\n",
    "import torch.optim as optim\n",
    "import numpy as np\n",
    "\n",
    "torch.manual_seed(42)\n",
    "\n",
    "dim_hidden = 6\n",
    "dim_input = 1\n",
    "dim_output = 1\n",
    "\n",
    "Wrec = torch.randn(dim_hidden, dim_hidden, requires_grad=True)\n",
    "Win = torch.randn(dim_input, dim_hidden, requires_grad=True)\n",
    "Wout = torch.randn(dim_hidden, dim_output, requires_grad=True)\n",
    "\n",
    "def recurrent_unit(x, h_prev, Wrec, Win):\n",
    "    \"\"\"\n",
    "    INPUT\n",
    "    x - a (minibatch_size, 1) tensor\n",
    "    h_prev - a tensor of shape (minibatch_size, dim_hidden)\n",
    "    \n",
    "    RETURN\n",
    "    h_next - a tensor of shape (minibatch_size, dim_hidden)\n",
    "    \"\"\"\n",
    "\n",
    "    # YOUR CODE HERE\n",
    "    raise NotImplementedError\n",
    "\n",
    "\n",
    "learning_rate = 0.001\n",
    "num_epochs = 100000\n",
    "minibatch_size = 2**8\n",
    "\n",
    "optimizer = optim.SGD([Wrec, Win, Wout], lr=learning_rate)\n",
    "\n",
    "loss_history = []\n",
    "\n",
    "seq_length = 8\n",
    "\n",
    "def forward(seqs,Wrec, Win, Wout):\n",
    "    \"\"\"\n",
    "    INPUT\n",
    "    seqs - a (minibatch_size, seq_length, dim_input) tensor\n",
    "\n",
    "    RETURN\n",
    "    yhat - a (minibatch_size, ) tensor\n",
    "    \"\"\"\n",
    "    # YOUR CODE HERE\n",
    "    # hint: Luke, use the `for x in seqs.transpose(0, 1):...`\n",
    "    raise NotImplementedError\n",
    "\n",
    "\n",
    "\n",
    "\n",
    "for epoch in range(num_epochs):\n",
    "    seqs = torch.tensor(np.random.randn(minibatch_size, seq_length, dim_input), dtype=torch.float32)\n",
    "    max_seqs = torch.max(seqs, dim=1).values.squeeze()\n",
    "    \n",
    "    yhat = forward(seqs,Wrec, Win,Wout)\n",
    "    loss = torch.mean(torch.abs(yhat - max_seqs))\n",
    "\n",
    "    optimizer.zero_grad()\n",
    "    loss.backward()\n",
    "    optimizer.step()\n",
    "\n",
    "    loss_history.append(loss.item())\n",
    "    if epoch % 10000 == 0:\n",
    "        print(f\"Epoch {epoch}, Loss: {loss.item()}\")\n",
    "\n",
    "# expected output (not exact)\n",
    "#\n",
    "# Epoch 0, Loss: 18.884214401245117\n",
    "# Epoch 10000, Loss: 0.31916582584381104\n",
    "# Epoch 20000, Loss: 0.20718279480934143\n"
   ]
  },
  {
   "cell_type": "code",
   "execution_count": null,
   "id": "5516b52c-c2ee-44b3-ba90-79ff5a2f5f87",
   "metadata": {},
   "outputs": [],
   "source": [
    "import matplotlib.pyplot as plt\n",
    "\n",
    "plt.plot(loss_history)\n",
    "plt.yscale('log')\n",
    "plt.xscale('log')\n",
    "plt.xlabel('Epoch')\n",
    "plt.ylabel('Loss')\n",
    "plt.show()"
   ]
  },
  {
   "cell_type": "code",
   "execution_count": null,
   "id": "dfec6738-c0e0-45e7-8408-953baa515b3d",
   "metadata": {},
   "outputs": [],
   "source": [
    "seq_length = 5\n",
    "minibatch_size_test = 32\n",
    "xs = torch.tensor(np.random.randn(minibatch_size_test, seq_length, dim_input), dtype=torch.float32)\n",
    "max_xs = torch.max(xs, dim=1).values.squeeze()  # Shape: (minibatch_size,)\n",
    "\n",
    "max_actual = np.round(max_xs.detach().numpy(),2)\n",
    "max_actual"
   ]
  },
  {
   "cell_type": "code",
   "execution_count": null,
   "id": "5229bc3d-c0d7-4e0c-ae94-621f81219eba",
   "metadata": {},
   "outputs": [],
   "source": [
    "max_estimate = np.round(forward(xs,Wrec, Win,Wout).detach().numpy(),2)\n",
    "max_estimate"
   ]
  },
  {
   "cell_type": "code",
   "execution_count": null,
   "id": "81f8bf49-0a71-4b22-938c-8c51bbe65db8",
   "metadata": {},
   "outputs": [],
   "source": []
  }
 ],
 "metadata": {
  "kernelspec": {
   "display_name": "Python 3 (ipykernel)",
   "language": "python",
   "name": "python3"
  },
  "language_info": {
   "codemirror_mode": {
    "name": "ipython",
    "version": 3
   },
   "file_extension": ".py",
   "mimetype": "text/x-python",
   "name": "python",
   "nbconvert_exporter": "python",
   "pygments_lexer": "ipython3",
   "version": "3.12.5"
  }
 },
 "nbformat": 4,
 "nbformat_minor": 5
}
