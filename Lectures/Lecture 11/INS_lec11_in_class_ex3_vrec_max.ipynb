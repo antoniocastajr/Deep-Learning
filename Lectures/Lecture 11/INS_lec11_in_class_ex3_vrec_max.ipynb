{
  "cells": [
    {
      "cell_type": "code",
      "execution_count": null,
      "id": "bf2eb4d3-f79a-435f-ac8e-35156f022c39",
      "metadata": {
        "id": "bf2eb4d3-f79a-435f-ac8e-35156f022c39",
        "outputId": "93c4d693-7a2b-48c9-83f3-6fd30be2bf3c"
      },
      "outputs": [
        {
          "name": "stdout",
          "output_type": "stream",
          "text": [
            "Epoch 0, Loss: 22.456886291503906\n",
            "Epoch 10000, Loss: 0.2770678997039795\n",
            "Epoch 20000, Loss: 0.21754859387874603\n",
            "Epoch 30000, Loss: 0.13409927487373352\n",
            "Epoch 40000, Loss: 0.09131954610347748\n",
            "Epoch 50000, Loss: 0.07271915674209595\n",
            "Epoch 60000, Loss: 0.04620184749364853\n",
            "Epoch 70000, Loss: 0.03746432438492775\n",
            "Epoch 80000, Loss: 0.028539858758449554\n",
            "Epoch 90000, Loss: 0.025621697306632996\n"
          ]
        }
      ],
      "source": [
        "import torch\n",
        "import torch.optim as optim\n",
        "import numpy as np\n",
        "\n",
        "torch.manual_seed(42)\n",
        "\n",
        "dim_hidden = 6\n",
        "dim_input = 1\n",
        "dim_output = 1\n",
        "\n",
        "Wrec = torch.randn(dim_hidden, dim_hidden, requires_grad=True)\n",
        "Win = torch.randn(dim_input, dim_hidden, requires_grad=True)\n",
        "Wout = torch.randn(dim_hidden, dim_output, requires_grad=True)\n",
        "\n",
        "def recurrent_unit(x, h_prev, Wrec, Win):\n",
        "    \"\"\"\n",
        "    INPUT\n",
        "    x - a (minibatch_size, 1) tensor\n",
        "    h_prev - a tensor of shape (minibatch_size, dim_hidden)\n",
        "\n",
        "    RETURN\n",
        "    h_next - a tensor of shape (minibatch_size, dim_hidden)\n",
        "    \"\"\"\n",
        "\n",
        "    h_next = torch.relu(torch.matmul(h_prev, Wrec.T) + x * Win)\n",
        "    return h_next\n",
        "    # YOUR CODE HERE\n",
        "    raise NotImplementedError\n",
        "\n",
        "\n",
        "learning_rate = 0.001\n",
        "num_epochs = 100000\n",
        "minibatch_size = 2**8\n",
        "\n",
        "optimizer = optim.SGD([Wrec, Win, Wout], lr=learning_rate)\n",
        "\n",
        "loss_history = []\n",
        "\n",
        "seq_length = 8\n",
        "\n",
        "def forward(seqs,Wrec, Win, Wout):\n",
        "    \"\"\"\n",
        "    INPUT\n",
        "    seqs - a (minibatch_size, seq_length, dim_input) tensor\n",
        "\n",
        "    RETURN\n",
        "    yhat - a (minibatch_size, ) tensor\n",
        "    \"\"\"\n",
        "    h = torch.zeros(seqs.shape[0], dim_hidden)\n",
        "\n",
        "    for x in seqs.transpose(0, 1):\n",
        "        h = recurrent_unit(x, h, Wrec,Win)\n",
        "    yhat = torch.sum(Wout.T * h, dim=1)\n",
        "\n",
        "    return yhat\n",
        "    # YOUR CODE HERE\n",
        "    # hint: Luke, use the `for x in seqs.transpose(0, 1):...`\n",
        "    raise NotImplementedError\n",
        "\n",
        "\n",
        "\n",
        "\n",
        "for epoch in range(num_epochs):\n",
        "    seqs = torch.tensor(np.random.randn(minibatch_size, seq_length, dim_input), dtype=torch.float32)\n",
        "    max_seqs = torch.max(seqs, dim=1).values.squeeze()\n",
        "\n",
        "    yhat = forward(seqs,Wrec, Win,Wout)\n",
        "    loss = torch.mean(torch.abs(yhat - max_seqs))\n",
        "\n",
        "    optimizer.zero_grad()\n",
        "    loss.backward()\n",
        "    optimizer.step()\n",
        "\n",
        "    loss_history.append(loss.item())\n",
        "    if epoch % 10000 == 0:\n",
        "        print(f\"Epoch {epoch}, Loss: {loss.item()}\")\n",
        "\n",
        "# expected output (not exact)\n",
        "#\n",
        "# Epoch 0, Loss: 18.884214401245117\n",
        "# Epoch 10000, Loss: 0.31916582584381104\n",
        "# Epoch 20000, Loss: 0.20718279480934143\n"
      ]
    },
    {
      "cell_type": "code",
      "execution_count": null,
      "id": "5516b52c-c2ee-44b3-ba90-79ff5a2f5f87",
      "metadata": {
        "id": "5516b52c-c2ee-44b3-ba90-79ff5a2f5f87",
        "outputId": "fcf6011a-8bfa-4701-818a-b03feb2081dc"
      },
      "outputs": [
        {
          "data": {
            "image/png": "[encoded data removed]",
            "text/plain": [
              "<Figure size 640x480 with 1 Axes>"
            ]
          },
          "metadata": {},
          "output_type": "display_data"
        }
      ],
      "source": [
        "import matplotlib.pyplot as plt\n",
        "\n",
        "plt.plot(loss_history)\n",
        "plt.yscale('log')\n",
        "plt.xscale('log')\n",
        "plt.xlabel('Epoch')\n",
        "plt.ylabel('Loss')\n",
        "plt.show()"
      ]
    },
    {
      "cell_type": "code",
      "execution_count": null,
      "id": "dfec6738-c0e0-45e7-8408-953baa515b3d",
      "metadata": {
        "id": "dfec6738-c0e0-45e7-8408-953baa515b3d",
        "outputId": "0c2e4003-c31f-46fb-9ef8-e28bae8e2788"
      },
      "outputs": [
        {
          "data": {
            "text/plain": [
              "array([-0.07,  0.81,  1.48,  1.43,  1.41, -0.29,  1.73,  1.26,  0.43,\n",
              "        0.57,  0.49,  2.19,  0.37,  2.13,  1.64,  1.23,  0.39,  1.98,\n",
              "        1.87,  1.74,  1.09,  0.74,  0.62,  0.38,  1.02,  0.57,  0.77,\n",
              "        1.56,  1.98,  0.18,  0.74,  1.55], dtype=float32)"
            ]
          },
          "execution_count": 25,
          "metadata": {},
          "output_type": "execute_result"
        }
      ],
      "source": [
        "seq_length = 5\n",
        "minibatch_size_test = 32\n",
        "xs = torch.tensor(np.random.randn(minibatch_size_test, seq_length, dim_input), dtype=torch.float32)\n",
        "max_xs = torch.max(xs, dim=1).values.squeeze()  # Shape: (minibatch_size,)\n",
        "\n",
        "max_actual = np.round(max_xs.detach().numpy(),2)\n",
        "max_actual"
      ]
    },
    {
      "cell_type": "code",
      "execution_count": null,
      "id": "5229bc3d-c0d7-4e0c-ae94-621f81219eba",
      "metadata": {
        "id": "5229bc3d-c0d7-4e0c-ae94-621f81219eba",
        "outputId": "6e3d20dc-f49a-4d10-f919-a9e6141836a4"
      },
      "outputs": [
        {
          "data": {
            "text/plain": [
              "array([0.  , 0.81, 1.51, 1.46, 1.4 , 0.  , 1.75, 1.29, 0.43, 0.61, 0.49,\n",
              "       2.18, 0.28, 1.6 , 1.65, 1.26, 0.39, 1.91, 2.15, 1.75, 1.09, 0.81,\n",
              "       0.62, 0.38, 1.04, 0.59, 0.77, 1.56, 1.6 , 0.13, 0.74, 1.57],\n",
              "      dtype=float32)"
            ]
          },
          "execution_count": 26,
          "metadata": {},
          "output_type": "execute_result"
        }
      ],
      "source": [
        "max_estimate = np.round(forward(xs,Wrec, Win,Wout).detach().numpy(),2)\n",
        "max_estimate"
      ]
    },
    {
      "cell_type": "code",
      "execution_count": null,
      "id": "81f8bf49-0a71-4b22-938c-8c51bbe65db8",
      "metadata": {
        "id": "81f8bf49-0a71-4b22-938c-8c51bbe65db8"
      },
      "outputs": [],
      "source": []
    }
  ],
  "metadata": {
    "kernelspec": {
      "display_name": "Python 3 (ipykernel)",
      "language": "python",
      "name": "python3"
    },
    "language_info": {
      "codemirror_mode": {
        "name": "ipython",
        "version": 3
      },
      "file_extension": ".py",
      "mimetype": "text/x-python",
      "name": "python",
      "nbconvert_exporter": "python",
      "pygments_lexer": "ipython3",
      "version": "3.12.5"
    },
    "colab": {
      "provenance": []
    }
  },
  "nbformat": 4,
  "nbformat_minor": 5
}