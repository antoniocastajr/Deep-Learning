{
  "cells": [
    {
      "cell_type": "code",
      "execution_count": null,
      "id": "e0c8d458-4803-4bfc-94f0-e9798b836bd7",
      "metadata": {
        "id": "e0c8d458-4803-4bfc-94f0-e9798b836bd7",
        "outputId": "e39374d3-fd97-4137-f1cc-ec58e72f3910"
      },
      "outputs": [
        {
          "name": "stdout",
          "output_type": "stream",
          "text": [
            "Epoch 0, Loss: 6.317586898803711\n",
            "Epoch 100, Loss: 0.4774465560913086\n",
            "Epoch 200, Loss: 0.4159591794013977\n",
            "Epoch 300, Loss: 0.4364781975746155\n",
            "Epoch 400, Loss: 0.3978283405303955\n",
            "Epoch 500, Loss: 0.39555540680885315\n",
            "Epoch 600, Loss: 0.39520779252052307\n",
            "Epoch 700, Loss: 0.4094882607460022\n",
            "Epoch 800, Loss: 0.371322900056839\n",
            "Epoch 900, Loss: 0.3647429347038269\n"
          ]
        }
      ],
      "source": [
        "import torch\n",
        "import torch.optim as optim\n",
        "import numpy as np\n",
        "\n",
        "torch.manual_seed(42)\n",
        "\n",
        "dim_hidden = 6\n",
        "dim_input = 1\n",
        "dim_output = 1\n",
        "\n",
        "Wrec = torch.randn(dim_hidden, dim_hidden, requires_grad=True)\n",
        "Win = torch.randn(dim_hidden, dim_input, requires_grad=True)\n",
        "Wout = torch.randn(dim_hidden,dim_output, requires_grad=True)\n",
        "\n",
        "def recurrent_unit(x, h_prev, Wrec, Win):\n",
        "    \"\"\"\n",
        "    INPUT\n",
        "    x - a singleton tensor\n",
        "    h_prev - a tensor of shape (dim_hidden, 1)\n",
        "\n",
        "    RETURN\n",
        "    h_next - a tensor of shape (dim_hidden, 1)\n",
        "    \"\"\"\n",
        "    h_next = torch.relu(torch.matmul(Wrec, h_prev) + Win * x)\n",
        "    return h_next\n",
        "    # YOUR CODE HERE\n",
        "    raise NotImplementedError\n",
        "\n",
        "learning_rate = 0.01\n",
        "num_epochs = 1000\n",
        "\n",
        "\n",
        "optimizer = optim.SGD([Wrec, Win, Wout], lr=learning_rate)\n",
        "\n",
        "# keep track of the losses\n",
        "loss_history = []\n",
        "\n",
        "def forward(seq, Wrec, Win, Wout):\n",
        "    \"\"\"\n",
        "    INPUT\n",
        "    seq - a tensor of shape (seq_length, 1)\n",
        "    Wrec - as above\n",
        "    Win - ditto\n",
        "    Wout - ditto\n",
        "\n",
        "    RETURN\n",
        "    yhat - a singleton tensor\n",
        "    \"\"\"\n",
        "    h = torch.zeros(dim_hidden,1)\n",
        "    for x in seq:\n",
        "        h = recurrent_unit(x, h, Wrec, Win)\n",
        "    return torch.sum(Wout*h)\n",
        "    # YOUR CODE HERE\n",
        "    # hint:  use the `for x in seq: ...`\n",
        "    raise NotImplementedError\n",
        "\n",
        "minibatch_size = 2**8\n",
        "seq_length = 5\n",
        "for epoch in range(num_epochs):\n",
        "    loss = 0\n",
        "    for _ in range(minibatch_size):\n",
        "        xs = torch.tensor(np.random.randn(seq_length, dim_input), dtype=torch.float32)\n",
        "        max_xs = torch.max(xs).item()\n",
        "        yhat = forward(xs, Wrec, Win, Wout)\n",
        "        loss += torch.abs(yhat - max_xs)\n",
        "    loss = loss / minibatch_size\n",
        "\n",
        "    optimizer.zero_grad()\n",
        "    loss.backward()\n",
        "    optimizer.step()\n",
        "\n",
        "    # Print loss for monitoring\n",
        "    loss_history.append(loss.item())\n",
        "    if epoch % 100 == 0:\n",
        "        print(f\"Epoch {epoch}, Loss: {loss.item()}\")\n",
        "\n",
        "# expected output (not exact)\n",
        "#\n",
        "# Epoch 0, Loss: 6.725135326385498\n",
        "# Epoch 100, Loss: 0.486219197511673\n",
        "# Epoch 200, Loss: 0.4179069399833679\n",
        "# ...\n"
      ]
    },
    {
      "cell_type": "code",
      "execution_count": null,
      "id": "c8e8ce01-ee8b-45cb-b627-2333fb5456d4",
      "metadata": {
        "id": "c8e8ce01-ee8b-45cb-b627-2333fb5456d4",
        "outputId": "57624f40-6732-474f-ee2d-09696063c37b"
      },
      "outputs": [
        {
          "data": {
            "image/png": "[encoded data removed]",
            "text/plain": [
              "<Figure size 640x480 with 1 Axes>"
            ]
          },
          "metadata": {},
          "output_type": "display_data"
        }
      ],
      "source": [
        "import matplotlib.pyplot as plt\n",
        "\n",
        "plt.plot(loss_history)\n",
        "plt.yscale('log')\n",
        "plt.xscale('log')\n",
        "plt.xlabel('Epoch')\n",
        "plt.ylabel('Loss')\n",
        "plt.show()"
      ]
    },
    {
      "cell_type": "code",
      "execution_count": null,
      "id": "1eedd30f-3a21-4575-978a-c3497639468c",
      "metadata": {
        "id": "1eedd30f-3a21-4575-978a-c3497639468c",
        "outputId": "9f769c19-d02e-4861-9ded-5fa6d09afc3b"
      },
      "outputs": [
        {
          "name": "stdout",
          "output_type": "stream",
          "text": [
            "actual max: 0.1843394637107849, predicted max: 0.25789064168930054\n",
            "actual max: 1.1652047634124756, predicted max: 1.4466029405593872\n",
            "actual max: 0.883126974105835, predicted max: 0.9369467496871948\n",
            "actual max: 1.5089008808135986, predicted max: 1.4639673233032227\n",
            "actual max: 1.2334516048431396, predicted max: 1.2077350616455078\n",
            "actual max: 1.5857791900634766, predicted max: 2.2057485580444336\n",
            "actual max: 0.4830968677997589, predicted max: -0.37489840388298035\n",
            "actual max: 0.7375144362449646, predicted max: 0.7070600986480713\n",
            "actual max: 2.1257176399230957, predicted max: 2.020230770111084\n",
            "actual max: 2.1557650566101074, predicted max: 2.1876156330108643\n"
          ]
        }
      ],
      "source": [
        "for _ in range(10):\n",
        "    xs = torch.tensor(np.random.randn(seq_length, 1), dtype=torch.float32)\n",
        "    max_xs = torch.max(xs).item()\n",
        "\n",
        "    yhat = forward(xs, Wrec, Win, Wout)\n",
        "    print(f\"actual max: {max_xs}, predicted max: {yhat}\")"
      ]
    },
    {
      "cell_type": "code",
      "execution_count": null,
      "id": "abd9a708-c268-4b1d-9519-8900b8de502d",
      "metadata": {
        "id": "abd9a708-c268-4b1d-9519-8900b8de502d"
      },
      "outputs": [],
      "source": []
    }
  ],
  "metadata": {
    "kernelspec": {
      "display_name": "Python 3 (ipykernel)",
      "language": "python",
      "name": "python3"
    },
    "language_info": {
      "codemirror_mode": {
        "name": "ipython",
        "version": 3
      },
      "file_extension": ".py",
      "mimetype": "text/x-python",
      "name": "python",
      "nbconvert_exporter": "python",
      "pygments_lexer": "ipython3",
      "version": "3.12.5"
    },
    "colab": {
      "provenance": []
    }
  },
  "nbformat": 4,
  "nbformat_minor": 5
}