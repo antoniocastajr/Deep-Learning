{
 "cells": [
  {
   "cell_type": "markdown",
   "metadata": {},
   "source": [
    "### Perceptron Learning Algorithm"
   ]
  },
  {
   "cell_type": "code",
   "execution_count": null,
   "metadata": {},
   "outputs": [],
   "source": [
    "# Imports\n",
    "import numpy as np"
   ]
  },
  {
   "cell_type": "code",
   "execution_count": null,
   "metadata": {
    "id": "bV4MQiH85DxF"
   },
   "outputs": [],
   "source": [
    "def perceptron_update(X,y,T):\n",
    "  w = np.zeros((1,2))\n",
    "  for t in range(T):\n",
    "    if y[t] * (np.dot(w,X[t])) <= 0:\n",
    "      print(\"Caso else\")\n",
    "      w = w + y[t]*X[t]\n",
    "    else:\n",
    "      print(\"Caso if\")\n",
    "    print(w)"
   ]
  },
  {
   "cell_type": "code",
   "execution_count": null,
   "metadata": {
    "colab": {
     "base_uri": "https://localhost:8080/"
    },
    "executionInfo": {
     "elapsed": 8,
     "status": "ok",
     "timestamp": 1724721754977,
     "user": {
      "displayName": "Antonio Castañares",
      "userId": "06778708243811255432"
     },
     "user_tz": 300
    },
    "id": "eXH8YE3l61Ed",
    "outputId": "b2e6b6ed-2b03-460c-814e-34ae1e384671"
   },
   "outputs": [
    {
     "name": "stdout",
     "output_type": "stream",
     "text": [
      "Caso else\n",
      "[[1. 0.]]\n",
      "Caso if\n",
      "[[1. 0.]]\n",
      "Caso else\n",
      "[[ 1. -2.]]\n",
      "Caso if\n",
      "[[ 1. -2.]]\n",
      "Caso if\n",
      "[[ 1. -2.]]\n",
      "Caso else\n",
      "[[ 2. -1.]]\n",
      "Caso if\n",
      "[[ 2. -1.]]\n",
      "Caso if\n",
      "[[ 2. -1.]]\n"
     ]
    }
   ],
   "source": [
    "#X = np.array([[1,0],[1,1],[0,1],[-1,1],[-1,0],[-1,-1],[0,-1],[1,-1]])\n",
    "#y = np.array([1,1,-1,-1,-1,-1,1,1])\n",
    "#T = 8\n",
    "\n",
    "X = np.array([[1,0],[1,1],[0,2],[-1,1],[-1,0],[-1,-1],[0,-1],[1,-1]])\n",
    "y = np.array([1,1,-1,-1,-1,-1,1,1])\n",
    "T = 8\n",
    "\n",
    "perceptron_update(X,y,T)\n"
   ]
  }
 ],
 "metadata": {
  "colab": {
   "authorship_tag": "ABX9TyMw7ZkLGNMgBw0boqyilsqz",
   "provenance": []
  },
  "kernelspec": {
   "display_name": "Python 3",
   "name": "python3"
  },
  "language_info": {
   "name": "python"
  }
 },
 "nbformat": 4,
 "nbformat_minor": 0
}
